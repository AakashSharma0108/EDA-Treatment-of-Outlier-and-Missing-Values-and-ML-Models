{
 "cells": [
  {
   "cell_type": "code",
   "execution_count": 1,
   "id": "ecf6084d",
   "metadata": {},
   "outputs": [],
   "source": [
    "import pandas as pd\n",
    "import numpy as np\n",
    "import matplotlib.pyplot as plt\n",
    "%matplotlib inline\n",
    "import seaborn as sns\n",
    "import warnings\n",
    "warnings.filterwarnings(\"ignore\")"
   ]
  },
  {
   "cell_type": "code",
   "execution_count": 2,
   "id": "5b88bdb6",
   "metadata": {},
   "outputs": [],
   "source": [
    "df = pd.read_csv(\"adult.csv\")"
   ]
  },
  {
   "cell_type": "code",
   "execution_count": 3,
   "id": "97ec101f",
   "metadata": {},
   "outputs": [
    {
     "data": {
      "text/html": [
       "<div>\n",
       "<style scoped>\n",
       "    .dataframe tbody tr th:only-of-type {\n",
       "        vertical-align: middle;\n",
       "    }\n",
       "\n",
       "    .dataframe tbody tr th {\n",
       "        vertical-align: top;\n",
       "    }\n",
       "\n",
       "    .dataframe thead th {\n",
       "        text-align: right;\n",
       "    }\n",
       "</style>\n",
       "<table border=\"1\" class=\"dataframe\">\n",
       "  <thead>\n",
       "    <tr style=\"text-align: right;\">\n",
       "      <th></th>\n",
       "      <th>age</th>\n",
       "      <th>workclass</th>\n",
       "      <th>fnlwgt</th>\n",
       "      <th>education</th>\n",
       "      <th>educational-num</th>\n",
       "      <th>marital-status</th>\n",
       "      <th>occupation</th>\n",
       "      <th>relationship</th>\n",
       "      <th>race</th>\n",
       "      <th>gender</th>\n",
       "      <th>capital-gain</th>\n",
       "      <th>capital-loss</th>\n",
       "      <th>hours-per-week</th>\n",
       "      <th>native-country</th>\n",
       "      <th>income</th>\n",
       "    </tr>\n",
       "  </thead>\n",
       "  <tbody>\n",
       "    <tr>\n",
       "      <th>0</th>\n",
       "      <td>25</td>\n",
       "      <td>Private</td>\n",
       "      <td>226802</td>\n",
       "      <td>11th</td>\n",
       "      <td>7</td>\n",
       "      <td>Never-married</td>\n",
       "      <td>Machine-op-inspct</td>\n",
       "      <td>Own-child</td>\n",
       "      <td>Black</td>\n",
       "      <td>Male</td>\n",
       "      <td>0</td>\n",
       "      <td>0</td>\n",
       "      <td>40</td>\n",
       "      <td>United-States</td>\n",
       "      <td>&lt;=50K</td>\n",
       "    </tr>\n",
       "    <tr>\n",
       "      <th>1</th>\n",
       "      <td>38</td>\n",
       "      <td>Private</td>\n",
       "      <td>89814</td>\n",
       "      <td>HS-grad</td>\n",
       "      <td>9</td>\n",
       "      <td>Married-civ-spouse</td>\n",
       "      <td>Farming-fishing</td>\n",
       "      <td>Husband</td>\n",
       "      <td>White</td>\n",
       "      <td>Male</td>\n",
       "      <td>0</td>\n",
       "      <td>0</td>\n",
       "      <td>50</td>\n",
       "      <td>United-States</td>\n",
       "      <td>&lt;=50K</td>\n",
       "    </tr>\n",
       "    <tr>\n",
       "      <th>2</th>\n",
       "      <td>28</td>\n",
       "      <td>Local-gov</td>\n",
       "      <td>336951</td>\n",
       "      <td>Assoc-acdm</td>\n",
       "      <td>12</td>\n",
       "      <td>Married-civ-spouse</td>\n",
       "      <td>Protective-serv</td>\n",
       "      <td>Husband</td>\n",
       "      <td>White</td>\n",
       "      <td>Male</td>\n",
       "      <td>0</td>\n",
       "      <td>0</td>\n",
       "      <td>40</td>\n",
       "      <td>United-States</td>\n",
       "      <td>&gt;50K</td>\n",
       "    </tr>\n",
       "    <tr>\n",
       "      <th>3</th>\n",
       "      <td>44</td>\n",
       "      <td>Private</td>\n",
       "      <td>160323</td>\n",
       "      <td>Some-college</td>\n",
       "      <td>10</td>\n",
       "      <td>Married-civ-spouse</td>\n",
       "      <td>Machine-op-inspct</td>\n",
       "      <td>Husband</td>\n",
       "      <td>Black</td>\n",
       "      <td>Male</td>\n",
       "      <td>7688</td>\n",
       "      <td>0</td>\n",
       "      <td>40</td>\n",
       "      <td>United-States</td>\n",
       "      <td>&gt;50K</td>\n",
       "    </tr>\n",
       "    <tr>\n",
       "      <th>4</th>\n",
       "      <td>18</td>\n",
       "      <td>?</td>\n",
       "      <td>103497</td>\n",
       "      <td>Some-college</td>\n",
       "      <td>10</td>\n",
       "      <td>Never-married</td>\n",
       "      <td>?</td>\n",
       "      <td>Own-child</td>\n",
       "      <td>White</td>\n",
       "      <td>Female</td>\n",
       "      <td>0</td>\n",
       "      <td>0</td>\n",
       "      <td>30</td>\n",
       "      <td>United-States</td>\n",
       "      <td>&lt;=50K</td>\n",
       "    </tr>\n",
       "    <tr>\n",
       "      <th>...</th>\n",
       "      <td>...</td>\n",
       "      <td>...</td>\n",
       "      <td>...</td>\n",
       "      <td>...</td>\n",
       "      <td>...</td>\n",
       "      <td>...</td>\n",
       "      <td>...</td>\n",
       "      <td>...</td>\n",
       "      <td>...</td>\n",
       "      <td>...</td>\n",
       "      <td>...</td>\n",
       "      <td>...</td>\n",
       "      <td>...</td>\n",
       "      <td>...</td>\n",
       "      <td>...</td>\n",
       "    </tr>\n",
       "    <tr>\n",
       "      <th>48837</th>\n",
       "      <td>27</td>\n",
       "      <td>Private</td>\n",
       "      <td>257302</td>\n",
       "      <td>Assoc-acdm</td>\n",
       "      <td>12</td>\n",
       "      <td>Married-civ-spouse</td>\n",
       "      <td>Tech-support</td>\n",
       "      <td>Wife</td>\n",
       "      <td>White</td>\n",
       "      <td>Female</td>\n",
       "      <td>0</td>\n",
       "      <td>0</td>\n",
       "      <td>38</td>\n",
       "      <td>United-States</td>\n",
       "      <td>&lt;=50K</td>\n",
       "    </tr>\n",
       "    <tr>\n",
       "      <th>48838</th>\n",
       "      <td>40</td>\n",
       "      <td>Private</td>\n",
       "      <td>154374</td>\n",
       "      <td>HS-grad</td>\n",
       "      <td>9</td>\n",
       "      <td>Married-civ-spouse</td>\n",
       "      <td>Machine-op-inspct</td>\n",
       "      <td>Husband</td>\n",
       "      <td>White</td>\n",
       "      <td>Male</td>\n",
       "      <td>0</td>\n",
       "      <td>0</td>\n",
       "      <td>40</td>\n",
       "      <td>United-States</td>\n",
       "      <td>&gt;50K</td>\n",
       "    </tr>\n",
       "    <tr>\n",
       "      <th>48839</th>\n",
       "      <td>58</td>\n",
       "      <td>Private</td>\n",
       "      <td>151910</td>\n",
       "      <td>HS-grad</td>\n",
       "      <td>9</td>\n",
       "      <td>Widowed</td>\n",
       "      <td>Adm-clerical</td>\n",
       "      <td>Unmarried</td>\n",
       "      <td>White</td>\n",
       "      <td>Female</td>\n",
       "      <td>0</td>\n",
       "      <td>0</td>\n",
       "      <td>40</td>\n",
       "      <td>United-States</td>\n",
       "      <td>&lt;=50K</td>\n",
       "    </tr>\n",
       "    <tr>\n",
       "      <th>48840</th>\n",
       "      <td>22</td>\n",
       "      <td>Private</td>\n",
       "      <td>201490</td>\n",
       "      <td>HS-grad</td>\n",
       "      <td>9</td>\n",
       "      <td>Never-married</td>\n",
       "      <td>Adm-clerical</td>\n",
       "      <td>Own-child</td>\n",
       "      <td>White</td>\n",
       "      <td>Male</td>\n",
       "      <td>0</td>\n",
       "      <td>0</td>\n",
       "      <td>20</td>\n",
       "      <td>United-States</td>\n",
       "      <td>&lt;=50K</td>\n",
       "    </tr>\n",
       "    <tr>\n",
       "      <th>48841</th>\n",
       "      <td>52</td>\n",
       "      <td>Self-emp-inc</td>\n",
       "      <td>287927</td>\n",
       "      <td>HS-grad</td>\n",
       "      <td>9</td>\n",
       "      <td>Married-civ-spouse</td>\n",
       "      <td>Exec-managerial</td>\n",
       "      <td>Wife</td>\n",
       "      <td>White</td>\n",
       "      <td>Female</td>\n",
       "      <td>15024</td>\n",
       "      <td>0</td>\n",
       "      <td>40</td>\n",
       "      <td>United-States</td>\n",
       "      <td>&gt;50K</td>\n",
       "    </tr>\n",
       "  </tbody>\n",
       "</table>\n",
       "<p>48842 rows × 15 columns</p>\n",
       "</div>"
      ],
      "text/plain": [
       "       age     workclass  fnlwgt     education  educational-num  \\\n",
       "0       25       Private  226802          11th                7   \n",
       "1       38       Private   89814       HS-grad                9   \n",
       "2       28     Local-gov  336951    Assoc-acdm               12   \n",
       "3       44       Private  160323  Some-college               10   \n",
       "4       18             ?  103497  Some-college               10   \n",
       "...    ...           ...     ...           ...              ...   \n",
       "48837   27       Private  257302    Assoc-acdm               12   \n",
       "48838   40       Private  154374       HS-grad                9   \n",
       "48839   58       Private  151910       HS-grad                9   \n",
       "48840   22       Private  201490       HS-grad                9   \n",
       "48841   52  Self-emp-inc  287927       HS-grad                9   \n",
       "\n",
       "           marital-status         occupation relationship   race  gender  \\\n",
       "0           Never-married  Machine-op-inspct    Own-child  Black    Male   \n",
       "1      Married-civ-spouse    Farming-fishing      Husband  White    Male   \n",
       "2      Married-civ-spouse    Protective-serv      Husband  White    Male   \n",
       "3      Married-civ-spouse  Machine-op-inspct      Husband  Black    Male   \n",
       "4           Never-married                  ?    Own-child  White  Female   \n",
       "...                   ...                ...          ...    ...     ...   \n",
       "48837  Married-civ-spouse       Tech-support         Wife  White  Female   \n",
       "48838  Married-civ-spouse  Machine-op-inspct      Husband  White    Male   \n",
       "48839             Widowed       Adm-clerical    Unmarried  White  Female   \n",
       "48840       Never-married       Adm-clerical    Own-child  White    Male   \n",
       "48841  Married-civ-spouse    Exec-managerial         Wife  White  Female   \n",
       "\n",
       "       capital-gain  capital-loss  hours-per-week native-country income  \n",
       "0                 0             0              40  United-States  <=50K  \n",
       "1                 0             0              50  United-States  <=50K  \n",
       "2                 0             0              40  United-States   >50K  \n",
       "3              7688             0              40  United-States   >50K  \n",
       "4                 0             0              30  United-States  <=50K  \n",
       "...             ...           ...             ...            ...    ...  \n",
       "48837             0             0              38  United-States  <=50K  \n",
       "48838             0             0              40  United-States   >50K  \n",
       "48839             0             0              40  United-States  <=50K  \n",
       "48840             0             0              20  United-States  <=50K  \n",
       "48841         15024             0              40  United-States   >50K  \n",
       "\n",
       "[48842 rows x 15 columns]"
      ]
     },
     "execution_count": 3,
     "metadata": {},
     "output_type": "execute_result"
    }
   ],
   "source": [
    "df"
   ]
  },
  {
   "cell_type": "code",
   "execution_count": 4,
   "id": "2c626288",
   "metadata": {},
   "outputs": [
    {
     "data": {
      "text/plain": [
       "(48842, 15)"
      ]
     },
     "execution_count": 4,
     "metadata": {},
     "output_type": "execute_result"
    }
   ],
   "source": [
    "df.shape"
   ]
  },
  {
   "cell_type": "code",
   "execution_count": 5,
   "id": "6d6e3262",
   "metadata": {},
   "outputs": [
    {
     "data": {
      "text/plain": [
       "age                0\n",
       "workclass          0\n",
       "fnlwgt             0\n",
       "education          0\n",
       "educational-num    0\n",
       "marital-status     0\n",
       "occupation         0\n",
       "relationship       0\n",
       "race               0\n",
       "gender             0\n",
       "capital-gain       0\n",
       "capital-loss       0\n",
       "hours-per-week     0\n",
       "native-country     0\n",
       "income             0\n",
       "dtype: int64"
      ]
     },
     "execution_count": 5,
     "metadata": {},
     "output_type": "execute_result"
    }
   ],
   "source": [
    "df.isnull().sum()"
   ]
  },
  {
   "cell_type": "code",
   "execution_count": 6,
   "id": "2bd1d4be",
   "metadata": {},
   "outputs": [
    {
     "data": {
      "text/plain": [
       "Index(['age', 'workclass', 'fnlwgt', 'education', 'educational-num',\n",
       "       'marital-status', 'occupation', 'relationship', 'race', 'gender',\n",
       "       'capital-gain', 'capital-loss', 'hours-per-week', 'native-country',\n",
       "       'income'],\n",
       "      dtype='object')"
      ]
     },
     "execution_count": 6,
     "metadata": {},
     "output_type": "execute_result"
    }
   ],
   "source": [
    "df.columns"
   ]
  },
  {
   "cell_type": "code",
   "execution_count": 7,
   "id": "fdaeee23",
   "metadata": {},
   "outputs": [
    {
     "data": {
      "text/plain": [
       "age                   74\n",
       "workclass              9\n",
       "fnlwgt             28523\n",
       "education             16\n",
       "educational-num       16\n",
       "marital-status         7\n",
       "occupation            15\n",
       "relationship           6\n",
       "race                   5\n",
       "gender                 2\n",
       "capital-gain         123\n",
       "capital-loss          99\n",
       "hours-per-week        96\n",
       "native-country        42\n",
       "income                 2\n",
       "dtype: int64"
      ]
     },
     "execution_count": 7,
     "metadata": {},
     "output_type": "execute_result"
    }
   ],
   "source": [
    "df.nunique()"
   ]
  },
  {
   "cell_type": "code",
   "execution_count": 8,
   "id": "e95f87f8",
   "metadata": {},
   "outputs": [
    {
     "data": {
      "text/plain": [
       "age                 int64\n",
       "workclass          object\n",
       "fnlwgt              int64\n",
       "education          object\n",
       "educational-num     int64\n",
       "marital-status     object\n",
       "occupation         object\n",
       "relationship       object\n",
       "race               object\n",
       "gender             object\n",
       "capital-gain        int64\n",
       "capital-loss        int64\n",
       "hours-per-week      int64\n",
       "native-country     object\n",
       "income             object\n",
       "dtype: object"
      ]
     },
     "execution_count": 8,
     "metadata": {},
     "output_type": "execute_result"
    }
   ],
   "source": [
    "df.dtypes"
   ]
  },
  {
   "cell_type": "code",
   "execution_count": 9,
   "id": "81e920c7",
   "metadata": {},
   "outputs": [
    {
     "data": {
      "text/html": [
       "<div>\n",
       "<style scoped>\n",
       "    .dataframe tbody tr th:only-of-type {\n",
       "        vertical-align: middle;\n",
       "    }\n",
       "\n",
       "    .dataframe tbody tr th {\n",
       "        vertical-align: top;\n",
       "    }\n",
       "\n",
       "    .dataframe thead th {\n",
       "        text-align: right;\n",
       "    }\n",
       "</style>\n",
       "<table border=\"1\" class=\"dataframe\">\n",
       "  <thead>\n",
       "    <tr style=\"text-align: right;\">\n",
       "      <th></th>\n",
       "      <th>age</th>\n",
       "      <th>workclass</th>\n",
       "      <th>fnlwgt</th>\n",
       "      <th>education</th>\n",
       "      <th>educational-num</th>\n",
       "      <th>marital-status</th>\n",
       "      <th>occupation</th>\n",
       "      <th>relationship</th>\n",
       "      <th>race</th>\n",
       "      <th>gender</th>\n",
       "      <th>capital-gain</th>\n",
       "      <th>capital-loss</th>\n",
       "      <th>hours-per-week</th>\n",
       "      <th>native-country</th>\n",
       "      <th>income</th>\n",
       "    </tr>\n",
       "  </thead>\n",
       "  <tbody>\n",
       "    <tr>\n",
       "      <th>count</th>\n",
       "      <td>48842.000000</td>\n",
       "      <td>48842</td>\n",
       "      <td>4.884200e+04</td>\n",
       "      <td>48842</td>\n",
       "      <td>48842.000000</td>\n",
       "      <td>48842</td>\n",
       "      <td>48842</td>\n",
       "      <td>48842</td>\n",
       "      <td>48842</td>\n",
       "      <td>48842</td>\n",
       "      <td>48842.000000</td>\n",
       "      <td>48842.000000</td>\n",
       "      <td>48842.000000</td>\n",
       "      <td>48842</td>\n",
       "      <td>48842</td>\n",
       "    </tr>\n",
       "    <tr>\n",
       "      <th>unique</th>\n",
       "      <td>NaN</td>\n",
       "      <td>9</td>\n",
       "      <td>NaN</td>\n",
       "      <td>16</td>\n",
       "      <td>NaN</td>\n",
       "      <td>7</td>\n",
       "      <td>15</td>\n",
       "      <td>6</td>\n",
       "      <td>5</td>\n",
       "      <td>2</td>\n",
       "      <td>NaN</td>\n",
       "      <td>NaN</td>\n",
       "      <td>NaN</td>\n",
       "      <td>42</td>\n",
       "      <td>2</td>\n",
       "    </tr>\n",
       "    <tr>\n",
       "      <th>top</th>\n",
       "      <td>NaN</td>\n",
       "      <td>Private</td>\n",
       "      <td>NaN</td>\n",
       "      <td>HS-grad</td>\n",
       "      <td>NaN</td>\n",
       "      <td>Married-civ-spouse</td>\n",
       "      <td>Prof-specialty</td>\n",
       "      <td>Husband</td>\n",
       "      <td>White</td>\n",
       "      <td>Male</td>\n",
       "      <td>NaN</td>\n",
       "      <td>NaN</td>\n",
       "      <td>NaN</td>\n",
       "      <td>United-States</td>\n",
       "      <td>&lt;=50K</td>\n",
       "    </tr>\n",
       "    <tr>\n",
       "      <th>freq</th>\n",
       "      <td>NaN</td>\n",
       "      <td>33906</td>\n",
       "      <td>NaN</td>\n",
       "      <td>15784</td>\n",
       "      <td>NaN</td>\n",
       "      <td>22379</td>\n",
       "      <td>6172</td>\n",
       "      <td>19716</td>\n",
       "      <td>41762</td>\n",
       "      <td>32650</td>\n",
       "      <td>NaN</td>\n",
       "      <td>NaN</td>\n",
       "      <td>NaN</td>\n",
       "      <td>43832</td>\n",
       "      <td>37155</td>\n",
       "    </tr>\n",
       "    <tr>\n",
       "      <th>mean</th>\n",
       "      <td>38.643585</td>\n",
       "      <td>NaN</td>\n",
       "      <td>1.896641e+05</td>\n",
       "      <td>NaN</td>\n",
       "      <td>10.078089</td>\n",
       "      <td>NaN</td>\n",
       "      <td>NaN</td>\n",
       "      <td>NaN</td>\n",
       "      <td>NaN</td>\n",
       "      <td>NaN</td>\n",
       "      <td>1079.067626</td>\n",
       "      <td>87.502314</td>\n",
       "      <td>40.422382</td>\n",
       "      <td>NaN</td>\n",
       "      <td>NaN</td>\n",
       "    </tr>\n",
       "    <tr>\n",
       "      <th>std</th>\n",
       "      <td>13.710510</td>\n",
       "      <td>NaN</td>\n",
       "      <td>1.056040e+05</td>\n",
       "      <td>NaN</td>\n",
       "      <td>2.570973</td>\n",
       "      <td>NaN</td>\n",
       "      <td>NaN</td>\n",
       "      <td>NaN</td>\n",
       "      <td>NaN</td>\n",
       "      <td>NaN</td>\n",
       "      <td>7452.019058</td>\n",
       "      <td>403.004552</td>\n",
       "      <td>12.391444</td>\n",
       "      <td>NaN</td>\n",
       "      <td>NaN</td>\n",
       "    </tr>\n",
       "    <tr>\n",
       "      <th>min</th>\n",
       "      <td>17.000000</td>\n",
       "      <td>NaN</td>\n",
       "      <td>1.228500e+04</td>\n",
       "      <td>NaN</td>\n",
       "      <td>1.000000</td>\n",
       "      <td>NaN</td>\n",
       "      <td>NaN</td>\n",
       "      <td>NaN</td>\n",
       "      <td>NaN</td>\n",
       "      <td>NaN</td>\n",
       "      <td>0.000000</td>\n",
       "      <td>0.000000</td>\n",
       "      <td>1.000000</td>\n",
       "      <td>NaN</td>\n",
       "      <td>NaN</td>\n",
       "    </tr>\n",
       "    <tr>\n",
       "      <th>25%</th>\n",
       "      <td>28.000000</td>\n",
       "      <td>NaN</td>\n",
       "      <td>1.175505e+05</td>\n",
       "      <td>NaN</td>\n",
       "      <td>9.000000</td>\n",
       "      <td>NaN</td>\n",
       "      <td>NaN</td>\n",
       "      <td>NaN</td>\n",
       "      <td>NaN</td>\n",
       "      <td>NaN</td>\n",
       "      <td>0.000000</td>\n",
       "      <td>0.000000</td>\n",
       "      <td>40.000000</td>\n",
       "      <td>NaN</td>\n",
       "      <td>NaN</td>\n",
       "    </tr>\n",
       "    <tr>\n",
       "      <th>50%</th>\n",
       "      <td>37.000000</td>\n",
       "      <td>NaN</td>\n",
       "      <td>1.781445e+05</td>\n",
       "      <td>NaN</td>\n",
       "      <td>10.000000</td>\n",
       "      <td>NaN</td>\n",
       "      <td>NaN</td>\n",
       "      <td>NaN</td>\n",
       "      <td>NaN</td>\n",
       "      <td>NaN</td>\n",
       "      <td>0.000000</td>\n",
       "      <td>0.000000</td>\n",
       "      <td>40.000000</td>\n",
       "      <td>NaN</td>\n",
       "      <td>NaN</td>\n",
       "    </tr>\n",
       "    <tr>\n",
       "      <th>75%</th>\n",
       "      <td>48.000000</td>\n",
       "      <td>NaN</td>\n",
       "      <td>2.376420e+05</td>\n",
       "      <td>NaN</td>\n",
       "      <td>12.000000</td>\n",
       "      <td>NaN</td>\n",
       "      <td>NaN</td>\n",
       "      <td>NaN</td>\n",
       "      <td>NaN</td>\n",
       "      <td>NaN</td>\n",
       "      <td>0.000000</td>\n",
       "      <td>0.000000</td>\n",
       "      <td>45.000000</td>\n",
       "      <td>NaN</td>\n",
       "      <td>NaN</td>\n",
       "    </tr>\n",
       "    <tr>\n",
       "      <th>max</th>\n",
       "      <td>90.000000</td>\n",
       "      <td>NaN</td>\n",
       "      <td>1.490400e+06</td>\n",
       "      <td>NaN</td>\n",
       "      <td>16.000000</td>\n",
       "      <td>NaN</td>\n",
       "      <td>NaN</td>\n",
       "      <td>NaN</td>\n",
       "      <td>NaN</td>\n",
       "      <td>NaN</td>\n",
       "      <td>99999.000000</td>\n",
       "      <td>4356.000000</td>\n",
       "      <td>99.000000</td>\n",
       "      <td>NaN</td>\n",
       "      <td>NaN</td>\n",
       "    </tr>\n",
       "  </tbody>\n",
       "</table>\n",
       "</div>"
      ],
      "text/plain": [
       "                 age workclass        fnlwgt education  educational-num  \\\n",
       "count   48842.000000     48842  4.884200e+04     48842     48842.000000   \n",
       "unique           NaN         9           NaN        16              NaN   \n",
       "top              NaN   Private           NaN   HS-grad              NaN   \n",
       "freq             NaN     33906           NaN     15784              NaN   \n",
       "mean       38.643585       NaN  1.896641e+05       NaN        10.078089   \n",
       "std        13.710510       NaN  1.056040e+05       NaN         2.570973   \n",
       "min        17.000000       NaN  1.228500e+04       NaN         1.000000   \n",
       "25%        28.000000       NaN  1.175505e+05       NaN         9.000000   \n",
       "50%        37.000000       NaN  1.781445e+05       NaN        10.000000   \n",
       "75%        48.000000       NaN  2.376420e+05       NaN        12.000000   \n",
       "max        90.000000       NaN  1.490400e+06       NaN        16.000000   \n",
       "\n",
       "            marital-status      occupation relationship   race gender  \\\n",
       "count                48842           48842        48842  48842  48842   \n",
       "unique                   7              15            6      5      2   \n",
       "top     Married-civ-spouse  Prof-specialty      Husband  White   Male   \n",
       "freq                 22379            6172        19716  41762  32650   \n",
       "mean                   NaN             NaN          NaN    NaN    NaN   \n",
       "std                    NaN             NaN          NaN    NaN    NaN   \n",
       "min                    NaN             NaN          NaN    NaN    NaN   \n",
       "25%                    NaN             NaN          NaN    NaN    NaN   \n",
       "50%                    NaN             NaN          NaN    NaN    NaN   \n",
       "75%                    NaN             NaN          NaN    NaN    NaN   \n",
       "max                    NaN             NaN          NaN    NaN    NaN   \n",
       "\n",
       "        capital-gain  capital-loss  hours-per-week native-country income  \n",
       "count   48842.000000  48842.000000    48842.000000          48842  48842  \n",
       "unique           NaN           NaN             NaN             42      2  \n",
       "top              NaN           NaN             NaN  United-States  <=50K  \n",
       "freq             NaN           NaN             NaN          43832  37155  \n",
       "mean     1079.067626     87.502314       40.422382            NaN    NaN  \n",
       "std      7452.019058    403.004552       12.391444            NaN    NaN  \n",
       "min         0.000000      0.000000        1.000000            NaN    NaN  \n",
       "25%         0.000000      0.000000       40.000000            NaN    NaN  \n",
       "50%         0.000000      0.000000       40.000000            NaN    NaN  \n",
       "75%         0.000000      0.000000       45.000000            NaN    NaN  \n",
       "max     99999.000000   4356.000000       99.000000            NaN    NaN  "
      ]
     },
     "execution_count": 9,
     "metadata": {},
     "output_type": "execute_result"
    }
   ],
   "source": [
    "df.describe(include = \"all\")"
   ]
  },
  {
   "cell_type": "code",
   "execution_count": 10,
   "id": "5f6d527b",
   "metadata": {},
   "outputs": [
    {
     "name": "stdout",
     "output_type": "stream",
     "text": [
      "<class 'pandas.core.frame.DataFrame'>\n",
      "RangeIndex: 48842 entries, 0 to 48841\n",
      "Data columns (total 15 columns):\n",
      " #   Column           Non-Null Count  Dtype \n",
      "---  ------           --------------  ----- \n",
      " 0   age              48842 non-null  int64 \n",
      " 1   workclass        48842 non-null  object\n",
      " 2   fnlwgt           48842 non-null  int64 \n",
      " 3   education        48842 non-null  object\n",
      " 4   educational-num  48842 non-null  int64 \n",
      " 5   marital-status   48842 non-null  object\n",
      " 6   occupation       48842 non-null  object\n",
      " 7   relationship     48842 non-null  object\n",
      " 8   race             48842 non-null  object\n",
      " 9   gender           48842 non-null  object\n",
      " 10  capital-gain     48842 non-null  int64 \n",
      " 11  capital-loss     48842 non-null  int64 \n",
      " 12  hours-per-week   48842 non-null  int64 \n",
      " 13  native-country   48842 non-null  object\n",
      " 14  income           48842 non-null  object\n",
      "dtypes: int64(6), object(9)\n",
      "memory usage: 5.6+ MB\n"
     ]
    }
   ],
   "source": [
    "df.info()"
   ]
  },
  {
   "cell_type": "markdown",
   "id": "a610fdfe",
   "metadata": {},
   "source": [
    "Finding Duplicate rows if any"
   ]
  },
  {
   "cell_type": "code",
   "execution_count": 11,
   "id": "9c7dfa48",
   "metadata": {
    "scrolled": false
   },
   "outputs": [
    {
     "data": {
      "text/plain": [
       "<bound method DataFrame.count of        age         workclass  fnlwgt     education  educational-num  \\\n",
       "864     24           Private  194630     Bachelors               13   \n",
       "11189   37           Private   52870     Bachelors               13   \n",
       "11212   29           Private   36440     Bachelors               13   \n",
       "13848   30           Private  180317     Assoc-voc               11   \n",
       "15960   18      Self-emp-inc  378036          12th                8   \n",
       "18476   39           Private  184659       HS-grad                9   \n",
       "19399   19           Private  130431       5th-6th                3   \n",
       "19726   41           Private  116391     Bachelors               13   \n",
       "20606   25           Private  308144     Bachelors               13   \n",
       "21162   25           Private  308144     Bachelors               13   \n",
       "21385   90           Private   52386  Some-college               10   \n",
       "24361   21           Private  243368     Preschool                1   \n",
       "25189   29                 ?   41281     Bachelors               13   \n",
       "25452   21           Private  250051  Some-college               10   \n",
       "25652   23           Private  239539       HS-grad                9   \n",
       "26122   21           Private  301694       HS-grad                9   \n",
       "26375   19                 ?  167428  Some-college               10   \n",
       "27912   20           Private  107658  Some-college               10   \n",
       "29365   25           Private  195994       1st-4th                2   \n",
       "30862   31           Private  228873       HS-grad                9   \n",
       "30971   19           Private  318822       HS-grad                9   \n",
       "31340   21           Private  243368     Preschool                1   \n",
       "33321   46           Private  173243       HS-grad                9   \n",
       "34148   45           Private   82797     Bachelors               13   \n",
       "34836   30           Private  144593       HS-grad                9   \n",
       "34979   19           Private   97261       HS-grad                9   \n",
       "35848   47           Private  199058  Some-college               10   \n",
       "36767   43           Private  195258       HS-grad                9   \n",
       "36848   22           Private  137876  Some-college               10   \n",
       "37599   19           Private  138153  Some-college               10   \n",
       "37771   19           Private  146679  Some-college               10   \n",
       "38156   49           Private   31267       7th-8th                4   \n",
       "38255   30           Private  111567       HS-grad                9   \n",
       "38530   19           Private  139466  Some-college               10   \n",
       "38581   25           Private  195994       1st-4th                2   \n",
       "38648   44           Private  367749     Bachelors               13   \n",
       "38775   49  Self-emp-not-inc   43479  Some-college               10   \n",
       "40948   17           Private  153021          12th                8   \n",
       "41965   25           Private  112835     Bachelors               13   \n",
       "42153   23           Private  240137       5th-6th                3   \n",
       "42594   28           Private  274679       Masters               14   \n",
       "44201   23           Private  107882     Bachelors               13   \n",
       "44511   27           Private  255582       HS-grad                9   \n",
       "44803   42           Private  204235  Some-college               10   \n",
       "45127   39           Private   30916       HS-grad                9   \n",
       "45438   38           Private  207202       HS-grad                9   \n",
       "46626   23           Private  250630     Bachelors               13   \n",
       "46665   20                 ?  203353  Some-college               10   \n",
       "46979   22                 ?  334593  Some-college               10   \n",
       "47126   46           Private  133616  Some-college               10   \n",
       "48274   19           Private  251579  Some-college               10   \n",
       "48685   35           Private  379959       HS-grad                9   \n",
       "\n",
       "              marital-status         occupation   relationship  \\\n",
       "864            Never-married     Prof-specialty  Not-in-family   \n",
       "11189     Married-civ-spouse    Exec-managerial        Husband   \n",
       "11212          Never-married       Adm-clerical  Not-in-family   \n",
       "13848               Divorced  Machine-op-inspct  Not-in-family   \n",
       "15960          Never-married    Farming-fishing      Own-child   \n",
       "18476     Married-civ-spouse  Machine-op-inspct        Husband   \n",
       "19399          Never-married    Farming-fishing  Not-in-family   \n",
       "19726     Married-civ-spouse    Exec-managerial        Husband   \n",
       "20606          Never-married       Craft-repair  Not-in-family   \n",
       "21162          Never-married       Craft-repair  Not-in-family   \n",
       "21385          Never-married      Other-service  Not-in-family   \n",
       "24361          Never-married    Farming-fishing  Not-in-family   \n",
       "25189  Married-spouse-absent                  ?  Not-in-family   \n",
       "25452          Never-married     Prof-specialty      Own-child   \n",
       "25652          Never-married  Machine-op-inspct      Own-child   \n",
       "26122          Never-married       Craft-repair  Not-in-family   \n",
       "26375          Never-married                  ?      Own-child   \n",
       "27912          Never-married       Tech-support  Not-in-family   \n",
       "29365          Never-married    Priv-house-serv  Not-in-family   \n",
       "30862     Married-civ-spouse       Craft-repair        Husband   \n",
       "30971          Never-married       Adm-clerical  Not-in-family   \n",
       "31340          Never-married    Farming-fishing  Not-in-family   \n",
       "33321     Married-civ-spouse       Craft-repair        Husband   \n",
       "34148     Married-civ-spouse    Exec-managerial        Husband   \n",
       "34836          Never-married      Other-service  Not-in-family   \n",
       "34979          Never-married    Farming-fishing  Not-in-family   \n",
       "35848     Married-civ-spouse     Prof-specialty        Husband   \n",
       "36767     Married-civ-spouse       Craft-repair        Husband   \n",
       "36848          Never-married    Protective-serv  Not-in-family   \n",
       "37599          Never-married       Adm-clerical      Own-child   \n",
       "37771          Never-married    Exec-managerial      Own-child   \n",
       "38156     Married-civ-spouse       Craft-repair        Husband   \n",
       "38255          Never-married       Craft-repair      Own-child   \n",
       "38530          Never-married              Sales      Own-child   \n",
       "38581          Never-married    Priv-house-serv  Not-in-family   \n",
       "38648          Never-married     Prof-specialty  Not-in-family   \n",
       "38775     Married-civ-spouse       Craft-repair        Husband   \n",
       "40948          Never-married              Sales      Own-child   \n",
       "41965          Never-married     Prof-specialty  Not-in-family   \n",
       "42153          Never-married  Handlers-cleaners  Not-in-family   \n",
       "42594          Never-married     Prof-specialty  Not-in-family   \n",
       "44201          Never-married       Adm-clerical      Own-child   \n",
       "44511          Never-married  Machine-op-inspct  Not-in-family   \n",
       "44803     Married-civ-spouse     Prof-specialty        Husband   \n",
       "45127     Married-civ-spouse       Craft-repair        Husband   \n",
       "45438     Married-civ-spouse  Machine-op-inspct        Husband   \n",
       "46626          Never-married              Sales  Not-in-family   \n",
       "46665          Never-married                  ?      Own-child   \n",
       "46979          Never-married                  ?  Not-in-family   \n",
       "47126               Divorced       Adm-clerical      Unmarried   \n",
       "48274          Never-married      Other-service      Own-child   \n",
       "48685               Divorced      Other-service  Not-in-family   \n",
       "\n",
       "                     race  gender  capital-gain  capital-loss  hours-per-week  \\\n",
       "864                 White    Male             0             0              35   \n",
       "11189               White    Male             0             0              40   \n",
       "11212               White  Female             0             0              40   \n",
       "13848               White    Male             0             0              40   \n",
       "15960               White    Male             0             0              10   \n",
       "18476               White    Male             0             0              40   \n",
       "19399               White    Male             0             0              36   \n",
       "19726               White    Male             0             0              40   \n",
       "20606               White    Male             0             0              40   \n",
       "21162               White    Male             0             0              40   \n",
       "21385  Asian-Pac-Islander    Male             0             0              35   \n",
       "24361               White    Male             0             0              50   \n",
       "25189               White    Male             0             0              50   \n",
       "25452               White  Female             0             0              10   \n",
       "25652  Asian-Pac-Islander    Male             0             0              40   \n",
       "26122               White    Male             0             0              35   \n",
       "26375               White    Male             0             0              40   \n",
       "27912               White  Female             0             0              10   \n",
       "29365               White  Female             0             0              40   \n",
       "30862               White    Male             0             0              40   \n",
       "30971               White  Female             0             0              40   \n",
       "31340               White    Male             0             0              50   \n",
       "33321               White    Male             0             0              40   \n",
       "34148               White    Male             0             0              45   \n",
       "34836               Black    Male             0             0              40   \n",
       "34979               White    Male             0             0              40   \n",
       "35848               White    Male             0             0              40   \n",
       "36767               White    Male             0             0              40   \n",
       "36848               White    Male             0             0              20   \n",
       "37599               White  Female             0             0              10   \n",
       "37771               Black    Male             0             0              30   \n",
       "38156               White    Male             0             0              40   \n",
       "38255               White    Male             0             0              48   \n",
       "38530               White  Female             0             0              25   \n",
       "38581               White  Female             0             0              40   \n",
       "38648               White  Female             0             0              45   \n",
       "38775               White    Male             0             0              40   \n",
       "40948               White  Female             0             0              20   \n",
       "41965               White    Male             0             0              40   \n",
       "42153               White    Male             0             0              55   \n",
       "42594               White    Male             0             0              50   \n",
       "44201               White  Female             0             0              40   \n",
       "44511               White  Female             0             0              40   \n",
       "44803               White    Male             0             0              40   \n",
       "45127               White    Male             0             0              40   \n",
       "45438               White    Male             0             0              48   \n",
       "46626               White  Female             0             0              40   \n",
       "46665               White  Female             0             0              40   \n",
       "46979               White    Male             0             0              40   \n",
       "47126               White  Female             0             0              40   \n",
       "48274               White    Male             0             0              14   \n",
       "48685               White  Female             0             0              40   \n",
       "\n",
       "      native-country income  \n",
       "864    United-States  <=50K  \n",
       "11189  United-States  <=50K  \n",
       "11212  United-States  <=50K  \n",
       "13848  United-States  <=50K  \n",
       "15960  United-States  <=50K  \n",
       "18476  United-States  <=50K  \n",
       "19399         Mexico  <=50K  \n",
       "19726  United-States   >50K  \n",
       "20606         Mexico  <=50K  \n",
       "21162         Mexico  <=50K  \n",
       "21385  United-States  <=50K  \n",
       "24361         Mexico  <=50K  \n",
       "25189  United-States  <=50K  \n",
       "25452  United-States  <=50K  \n",
       "25652    Philippines  <=50K  \n",
       "26122         Mexico  <=50K  \n",
       "26375  United-States  <=50K  \n",
       "27912  United-States  <=50K  \n",
       "29365      Guatemala  <=50K  \n",
       "30862  United-States  <=50K  \n",
       "30971  United-States  <=50K  \n",
       "31340         Mexico  <=50K  \n",
       "33321  United-States  <=50K  \n",
       "34148  United-States   >50K  \n",
       "34836              ?  <=50K  \n",
       "34979  United-States  <=50K  \n",
       "35848  United-States   >50K  \n",
       "36767  United-States   >50K  \n",
       "36848  United-States  <=50K  \n",
       "37599  United-States  <=50K  \n",
       "37771  United-States  <=50K  \n",
       "38156  United-States  <=50K  \n",
       "38255  United-States  <=50K  \n",
       "38530  United-States  <=50K  \n",
       "38581      Guatemala  <=50K  \n",
       "38648         Mexico  <=50K  \n",
       "38775  United-States  <=50K  \n",
       "40948  United-States  <=50K  \n",
       "41965  United-States  <=50K  \n",
       "42153         Mexico  <=50K  \n",
       "42594  United-States  <=50K  \n",
       "44201  United-States  <=50K  \n",
       "44511  United-States  <=50K  \n",
       "44803  United-States   >50K  \n",
       "45127  United-States  <=50K  \n",
       "45438  United-States   >50K  \n",
       "46626  United-States  <=50K  \n",
       "46665  United-States  <=50K  \n",
       "46979  United-States  <=50K  \n",
       "47126  United-States  <=50K  \n",
       "48274  United-States  <=50K  \n",
       "48685  United-States  <=50K  >"
      ]
     },
     "execution_count": 11,
     "metadata": {},
     "output_type": "execute_result"
    }
   ],
   "source": [
    "duplicate_row = df[df.duplicated()].count\n",
    "duplicate_row\n"
   ]
  },
  {
   "cell_type": "code",
   "execution_count": 12,
   "id": "2bd00d91",
   "metadata": {},
   "outputs": [
    {
     "data": {
      "text/plain": [
       "age                52\n",
       "workclass          52\n",
       "fnlwgt             52\n",
       "education          52\n",
       "educational-num    52\n",
       "marital-status     52\n",
       "occupation         52\n",
       "relationship       52\n",
       "race               52\n",
       "gender             52\n",
       "capital-gain       52\n",
       "capital-loss       52\n",
       "hours-per-week     52\n",
       "native-country     52\n",
       "income             52\n",
       "dtype: int64"
      ]
     },
     "execution_count": 12,
     "metadata": {},
     "output_type": "execute_result"
    }
   ],
   "source": [
    "duplicate_row = df[df.duplicated()].count()\n",
    "duplicate_row"
   ]
  },
  {
   "cell_type": "code",
   "execution_count": 13,
   "id": "710f2474",
   "metadata": {},
   "outputs": [
    {
     "data": {
      "text/html": [
       "<div>\n",
       "<style scoped>\n",
       "    .dataframe tbody tr th:only-of-type {\n",
       "        vertical-align: middle;\n",
       "    }\n",
       "\n",
       "    .dataframe tbody tr th {\n",
       "        vertical-align: top;\n",
       "    }\n",
       "\n",
       "    .dataframe thead th {\n",
       "        text-align: right;\n",
       "    }\n",
       "</style>\n",
       "<table border=\"1\" class=\"dataframe\">\n",
       "  <thead>\n",
       "    <tr style=\"text-align: right;\">\n",
       "      <th></th>\n",
       "      <th>age</th>\n",
       "      <th>workclass</th>\n",
       "      <th>fnlwgt</th>\n",
       "      <th>education</th>\n",
       "      <th>educational-num</th>\n",
       "      <th>marital-status</th>\n",
       "      <th>occupation</th>\n",
       "      <th>relationship</th>\n",
       "      <th>race</th>\n",
       "      <th>gender</th>\n",
       "      <th>capital-gain</th>\n",
       "      <th>capital-loss</th>\n",
       "      <th>hours-per-week</th>\n",
       "      <th>native-country</th>\n",
       "      <th>income</th>\n",
       "    </tr>\n",
       "  </thead>\n",
       "  <tbody>\n",
       "    <tr>\n",
       "      <th>0</th>\n",
       "      <td>25</td>\n",
       "      <td>Private</td>\n",
       "      <td>226802</td>\n",
       "      <td>11th</td>\n",
       "      <td>7</td>\n",
       "      <td>Never-married</td>\n",
       "      <td>Machine-op-inspct</td>\n",
       "      <td>Own-child</td>\n",
       "      <td>Black</td>\n",
       "      <td>Male</td>\n",
       "      <td>0</td>\n",
       "      <td>0</td>\n",
       "      <td>40</td>\n",
       "      <td>United-States</td>\n",
       "      <td>&lt;=50K</td>\n",
       "    </tr>\n",
       "    <tr>\n",
       "      <th>1</th>\n",
       "      <td>38</td>\n",
       "      <td>Private</td>\n",
       "      <td>89814</td>\n",
       "      <td>HS-grad</td>\n",
       "      <td>9</td>\n",
       "      <td>Married-civ-spouse</td>\n",
       "      <td>Farming-fishing</td>\n",
       "      <td>Husband</td>\n",
       "      <td>White</td>\n",
       "      <td>Male</td>\n",
       "      <td>0</td>\n",
       "      <td>0</td>\n",
       "      <td>50</td>\n",
       "      <td>United-States</td>\n",
       "      <td>&lt;=50K</td>\n",
       "    </tr>\n",
       "    <tr>\n",
       "      <th>2</th>\n",
       "      <td>28</td>\n",
       "      <td>Local-gov</td>\n",
       "      <td>336951</td>\n",
       "      <td>Assoc-acdm</td>\n",
       "      <td>12</td>\n",
       "      <td>Married-civ-spouse</td>\n",
       "      <td>Protective-serv</td>\n",
       "      <td>Husband</td>\n",
       "      <td>White</td>\n",
       "      <td>Male</td>\n",
       "      <td>0</td>\n",
       "      <td>0</td>\n",
       "      <td>40</td>\n",
       "      <td>United-States</td>\n",
       "      <td>&gt;50K</td>\n",
       "    </tr>\n",
       "    <tr>\n",
       "      <th>3</th>\n",
       "      <td>44</td>\n",
       "      <td>Private</td>\n",
       "      <td>160323</td>\n",
       "      <td>Some-college</td>\n",
       "      <td>10</td>\n",
       "      <td>Married-civ-spouse</td>\n",
       "      <td>Machine-op-inspct</td>\n",
       "      <td>Husband</td>\n",
       "      <td>Black</td>\n",
       "      <td>Male</td>\n",
       "      <td>7688</td>\n",
       "      <td>0</td>\n",
       "      <td>40</td>\n",
       "      <td>United-States</td>\n",
       "      <td>&gt;50K</td>\n",
       "    </tr>\n",
       "    <tr>\n",
       "      <th>4</th>\n",
       "      <td>18</td>\n",
       "      <td>?</td>\n",
       "      <td>103497</td>\n",
       "      <td>Some-college</td>\n",
       "      <td>10</td>\n",
       "      <td>Never-married</td>\n",
       "      <td>?</td>\n",
       "      <td>Own-child</td>\n",
       "      <td>White</td>\n",
       "      <td>Female</td>\n",
       "      <td>0</td>\n",
       "      <td>0</td>\n",
       "      <td>30</td>\n",
       "      <td>United-States</td>\n",
       "      <td>&lt;=50K</td>\n",
       "    </tr>\n",
       "    <tr>\n",
       "      <th>...</th>\n",
       "      <td>...</td>\n",
       "      <td>...</td>\n",
       "      <td>...</td>\n",
       "      <td>...</td>\n",
       "      <td>...</td>\n",
       "      <td>...</td>\n",
       "      <td>...</td>\n",
       "      <td>...</td>\n",
       "      <td>...</td>\n",
       "      <td>...</td>\n",
       "      <td>...</td>\n",
       "      <td>...</td>\n",
       "      <td>...</td>\n",
       "      <td>...</td>\n",
       "      <td>...</td>\n",
       "    </tr>\n",
       "    <tr>\n",
       "      <th>48837</th>\n",
       "      <td>27</td>\n",
       "      <td>Private</td>\n",
       "      <td>257302</td>\n",
       "      <td>Assoc-acdm</td>\n",
       "      <td>12</td>\n",
       "      <td>Married-civ-spouse</td>\n",
       "      <td>Tech-support</td>\n",
       "      <td>Wife</td>\n",
       "      <td>White</td>\n",
       "      <td>Female</td>\n",
       "      <td>0</td>\n",
       "      <td>0</td>\n",
       "      <td>38</td>\n",
       "      <td>United-States</td>\n",
       "      <td>&lt;=50K</td>\n",
       "    </tr>\n",
       "    <tr>\n",
       "      <th>48838</th>\n",
       "      <td>40</td>\n",
       "      <td>Private</td>\n",
       "      <td>154374</td>\n",
       "      <td>HS-grad</td>\n",
       "      <td>9</td>\n",
       "      <td>Married-civ-spouse</td>\n",
       "      <td>Machine-op-inspct</td>\n",
       "      <td>Husband</td>\n",
       "      <td>White</td>\n",
       "      <td>Male</td>\n",
       "      <td>0</td>\n",
       "      <td>0</td>\n",
       "      <td>40</td>\n",
       "      <td>United-States</td>\n",
       "      <td>&gt;50K</td>\n",
       "    </tr>\n",
       "    <tr>\n",
       "      <th>48839</th>\n",
       "      <td>58</td>\n",
       "      <td>Private</td>\n",
       "      <td>151910</td>\n",
       "      <td>HS-grad</td>\n",
       "      <td>9</td>\n",
       "      <td>Widowed</td>\n",
       "      <td>Adm-clerical</td>\n",
       "      <td>Unmarried</td>\n",
       "      <td>White</td>\n",
       "      <td>Female</td>\n",
       "      <td>0</td>\n",
       "      <td>0</td>\n",
       "      <td>40</td>\n",
       "      <td>United-States</td>\n",
       "      <td>&lt;=50K</td>\n",
       "    </tr>\n",
       "    <tr>\n",
       "      <th>48840</th>\n",
       "      <td>22</td>\n",
       "      <td>Private</td>\n",
       "      <td>201490</td>\n",
       "      <td>HS-grad</td>\n",
       "      <td>9</td>\n",
       "      <td>Never-married</td>\n",
       "      <td>Adm-clerical</td>\n",
       "      <td>Own-child</td>\n",
       "      <td>White</td>\n",
       "      <td>Male</td>\n",
       "      <td>0</td>\n",
       "      <td>0</td>\n",
       "      <td>20</td>\n",
       "      <td>United-States</td>\n",
       "      <td>&lt;=50K</td>\n",
       "    </tr>\n",
       "    <tr>\n",
       "      <th>48841</th>\n",
       "      <td>52</td>\n",
       "      <td>Self-emp-inc</td>\n",
       "      <td>287927</td>\n",
       "      <td>HS-grad</td>\n",
       "      <td>9</td>\n",
       "      <td>Married-civ-spouse</td>\n",
       "      <td>Exec-managerial</td>\n",
       "      <td>Wife</td>\n",
       "      <td>White</td>\n",
       "      <td>Female</td>\n",
       "      <td>15024</td>\n",
       "      <td>0</td>\n",
       "      <td>40</td>\n",
       "      <td>United-States</td>\n",
       "      <td>&gt;50K</td>\n",
       "    </tr>\n",
       "  </tbody>\n",
       "</table>\n",
       "<p>48790 rows × 15 columns</p>\n",
       "</div>"
      ],
      "text/plain": [
       "       age     workclass  fnlwgt     education  educational-num  \\\n",
       "0       25       Private  226802          11th                7   \n",
       "1       38       Private   89814       HS-grad                9   \n",
       "2       28     Local-gov  336951    Assoc-acdm               12   \n",
       "3       44       Private  160323  Some-college               10   \n",
       "4       18             ?  103497  Some-college               10   \n",
       "...    ...           ...     ...           ...              ...   \n",
       "48837   27       Private  257302    Assoc-acdm               12   \n",
       "48838   40       Private  154374       HS-grad                9   \n",
       "48839   58       Private  151910       HS-grad                9   \n",
       "48840   22       Private  201490       HS-grad                9   \n",
       "48841   52  Self-emp-inc  287927       HS-grad                9   \n",
       "\n",
       "           marital-status         occupation relationship   race  gender  \\\n",
       "0           Never-married  Machine-op-inspct    Own-child  Black    Male   \n",
       "1      Married-civ-spouse    Farming-fishing      Husband  White    Male   \n",
       "2      Married-civ-spouse    Protective-serv      Husband  White    Male   \n",
       "3      Married-civ-spouse  Machine-op-inspct      Husband  Black    Male   \n",
       "4           Never-married                  ?    Own-child  White  Female   \n",
       "...                   ...                ...          ...    ...     ...   \n",
       "48837  Married-civ-spouse       Tech-support         Wife  White  Female   \n",
       "48838  Married-civ-spouse  Machine-op-inspct      Husband  White    Male   \n",
       "48839             Widowed       Adm-clerical    Unmarried  White  Female   \n",
       "48840       Never-married       Adm-clerical    Own-child  White    Male   \n",
       "48841  Married-civ-spouse    Exec-managerial         Wife  White  Female   \n",
       "\n",
       "       capital-gain  capital-loss  hours-per-week native-country income  \n",
       "0                 0             0              40  United-States  <=50K  \n",
       "1                 0             0              50  United-States  <=50K  \n",
       "2                 0             0              40  United-States   >50K  \n",
       "3              7688             0              40  United-States   >50K  \n",
       "4                 0             0              30  United-States  <=50K  \n",
       "...             ...           ...             ...            ...    ...  \n",
       "48837             0             0              38  United-States  <=50K  \n",
       "48838             0             0              40  United-States   >50K  \n",
       "48839             0             0              40  United-States  <=50K  \n",
       "48840             0             0              20  United-States  <=50K  \n",
       "48841         15024             0              40  United-States   >50K  \n",
       "\n",
       "[48790 rows x 15 columns]"
      ]
     },
     "execution_count": 13,
     "metadata": {},
     "output_type": "execute_result"
    }
   ],
   "source": [
    "df = df[~df.duplicated()]\n",
    "df"
   ]
  },
  {
   "cell_type": "markdown",
   "id": "89be7f1a",
   "metadata": {},
   "source": [
    "Data Cleaning"
   ]
  },
  {
   "cell_type": "markdown",
   "id": "06389f6f",
   "metadata": {},
   "source": [
    "As we can see data contains \"?\" so we need to remove all this values"
   ]
  },
  {
   "cell_type": "code",
   "execution_count": 14,
   "id": "3d8e6b27",
   "metadata": {},
   "outputs": [
    {
     "data": {
      "text/html": [
       "<div>\n",
       "<style scoped>\n",
       "    .dataframe tbody tr th:only-of-type {\n",
       "        vertical-align: middle;\n",
       "    }\n",
       "\n",
       "    .dataframe tbody tr th {\n",
       "        vertical-align: top;\n",
       "    }\n",
       "\n",
       "    .dataframe thead th {\n",
       "        text-align: right;\n",
       "    }\n",
       "</style>\n",
       "<table border=\"1\" class=\"dataframe\">\n",
       "  <thead>\n",
       "    <tr style=\"text-align: right;\">\n",
       "      <th></th>\n",
       "      <th>age</th>\n",
       "      <th>workclass</th>\n",
       "      <th>fnlwgt</th>\n",
       "      <th>education</th>\n",
       "      <th>educational-num</th>\n",
       "      <th>marital-status</th>\n",
       "      <th>occupation</th>\n",
       "      <th>relationship</th>\n",
       "      <th>race</th>\n",
       "      <th>gender</th>\n",
       "      <th>capital-gain</th>\n",
       "      <th>capital-loss</th>\n",
       "      <th>hours-per-week</th>\n",
       "      <th>native-country</th>\n",
       "      <th>income</th>\n",
       "    </tr>\n",
       "  </thead>\n",
       "  <tbody>\n",
       "    <tr>\n",
       "      <th>0</th>\n",
       "      <td>25</td>\n",
       "      <td>Private</td>\n",
       "      <td>226802</td>\n",
       "      <td>11th</td>\n",
       "      <td>7</td>\n",
       "      <td>Never-married</td>\n",
       "      <td>Machine-op-inspct</td>\n",
       "      <td>Own-child</td>\n",
       "      <td>Black</td>\n",
       "      <td>Male</td>\n",
       "      <td>0</td>\n",
       "      <td>0</td>\n",
       "      <td>40</td>\n",
       "      <td>United-States</td>\n",
       "      <td>&lt;=50K</td>\n",
       "    </tr>\n",
       "    <tr>\n",
       "      <th>1</th>\n",
       "      <td>38</td>\n",
       "      <td>Private</td>\n",
       "      <td>89814</td>\n",
       "      <td>HS-grad</td>\n",
       "      <td>9</td>\n",
       "      <td>Married-civ-spouse</td>\n",
       "      <td>Farming-fishing</td>\n",
       "      <td>Husband</td>\n",
       "      <td>White</td>\n",
       "      <td>Male</td>\n",
       "      <td>0</td>\n",
       "      <td>0</td>\n",
       "      <td>50</td>\n",
       "      <td>United-States</td>\n",
       "      <td>&lt;=50K</td>\n",
       "    </tr>\n",
       "    <tr>\n",
       "      <th>2</th>\n",
       "      <td>28</td>\n",
       "      <td>Local-gov</td>\n",
       "      <td>336951</td>\n",
       "      <td>Assoc-acdm</td>\n",
       "      <td>12</td>\n",
       "      <td>Married-civ-spouse</td>\n",
       "      <td>Protective-serv</td>\n",
       "      <td>Husband</td>\n",
       "      <td>White</td>\n",
       "      <td>Male</td>\n",
       "      <td>0</td>\n",
       "      <td>0</td>\n",
       "      <td>40</td>\n",
       "      <td>United-States</td>\n",
       "      <td>&gt;50K</td>\n",
       "    </tr>\n",
       "    <tr>\n",
       "      <th>3</th>\n",
       "      <td>44</td>\n",
       "      <td>Private</td>\n",
       "      <td>160323</td>\n",
       "      <td>Some-college</td>\n",
       "      <td>10</td>\n",
       "      <td>Married-civ-spouse</td>\n",
       "      <td>Machine-op-inspct</td>\n",
       "      <td>Husband</td>\n",
       "      <td>Black</td>\n",
       "      <td>Male</td>\n",
       "      <td>7688</td>\n",
       "      <td>0</td>\n",
       "      <td>40</td>\n",
       "      <td>United-States</td>\n",
       "      <td>&gt;50K</td>\n",
       "    </tr>\n",
       "    <tr>\n",
       "      <th>4</th>\n",
       "      <td>18</td>\n",
       "      <td>NaN</td>\n",
       "      <td>103497</td>\n",
       "      <td>Some-college</td>\n",
       "      <td>10</td>\n",
       "      <td>Never-married</td>\n",
       "      <td>NaN</td>\n",
       "      <td>Own-child</td>\n",
       "      <td>White</td>\n",
       "      <td>Female</td>\n",
       "      <td>0</td>\n",
       "      <td>0</td>\n",
       "      <td>30</td>\n",
       "      <td>United-States</td>\n",
       "      <td>&lt;=50K</td>\n",
       "    </tr>\n",
       "    <tr>\n",
       "      <th>...</th>\n",
       "      <td>...</td>\n",
       "      <td>...</td>\n",
       "      <td>...</td>\n",
       "      <td>...</td>\n",
       "      <td>...</td>\n",
       "      <td>...</td>\n",
       "      <td>...</td>\n",
       "      <td>...</td>\n",
       "      <td>...</td>\n",
       "      <td>...</td>\n",
       "      <td>...</td>\n",
       "      <td>...</td>\n",
       "      <td>...</td>\n",
       "      <td>...</td>\n",
       "      <td>...</td>\n",
       "    </tr>\n",
       "    <tr>\n",
       "      <th>48837</th>\n",
       "      <td>27</td>\n",
       "      <td>Private</td>\n",
       "      <td>257302</td>\n",
       "      <td>Assoc-acdm</td>\n",
       "      <td>12</td>\n",
       "      <td>Married-civ-spouse</td>\n",
       "      <td>Tech-support</td>\n",
       "      <td>Wife</td>\n",
       "      <td>White</td>\n",
       "      <td>Female</td>\n",
       "      <td>0</td>\n",
       "      <td>0</td>\n",
       "      <td>38</td>\n",
       "      <td>United-States</td>\n",
       "      <td>&lt;=50K</td>\n",
       "    </tr>\n",
       "    <tr>\n",
       "      <th>48838</th>\n",
       "      <td>40</td>\n",
       "      <td>Private</td>\n",
       "      <td>154374</td>\n",
       "      <td>HS-grad</td>\n",
       "      <td>9</td>\n",
       "      <td>Married-civ-spouse</td>\n",
       "      <td>Machine-op-inspct</td>\n",
       "      <td>Husband</td>\n",
       "      <td>White</td>\n",
       "      <td>Male</td>\n",
       "      <td>0</td>\n",
       "      <td>0</td>\n",
       "      <td>40</td>\n",
       "      <td>United-States</td>\n",
       "      <td>&gt;50K</td>\n",
       "    </tr>\n",
       "    <tr>\n",
       "      <th>48839</th>\n",
       "      <td>58</td>\n",
       "      <td>Private</td>\n",
       "      <td>151910</td>\n",
       "      <td>HS-grad</td>\n",
       "      <td>9</td>\n",
       "      <td>Widowed</td>\n",
       "      <td>Adm-clerical</td>\n",
       "      <td>Unmarried</td>\n",
       "      <td>White</td>\n",
       "      <td>Female</td>\n",
       "      <td>0</td>\n",
       "      <td>0</td>\n",
       "      <td>40</td>\n",
       "      <td>United-States</td>\n",
       "      <td>&lt;=50K</td>\n",
       "    </tr>\n",
       "    <tr>\n",
       "      <th>48840</th>\n",
       "      <td>22</td>\n",
       "      <td>Private</td>\n",
       "      <td>201490</td>\n",
       "      <td>HS-grad</td>\n",
       "      <td>9</td>\n",
       "      <td>Never-married</td>\n",
       "      <td>Adm-clerical</td>\n",
       "      <td>Own-child</td>\n",
       "      <td>White</td>\n",
       "      <td>Male</td>\n",
       "      <td>0</td>\n",
       "      <td>0</td>\n",
       "      <td>20</td>\n",
       "      <td>United-States</td>\n",
       "      <td>&lt;=50K</td>\n",
       "    </tr>\n",
       "    <tr>\n",
       "      <th>48841</th>\n",
       "      <td>52</td>\n",
       "      <td>Self-emp-inc</td>\n",
       "      <td>287927</td>\n",
       "      <td>HS-grad</td>\n",
       "      <td>9</td>\n",
       "      <td>Married-civ-spouse</td>\n",
       "      <td>Exec-managerial</td>\n",
       "      <td>Wife</td>\n",
       "      <td>White</td>\n",
       "      <td>Female</td>\n",
       "      <td>15024</td>\n",
       "      <td>0</td>\n",
       "      <td>40</td>\n",
       "      <td>United-States</td>\n",
       "      <td>&gt;50K</td>\n",
       "    </tr>\n",
       "  </tbody>\n",
       "</table>\n",
       "<p>48790 rows × 15 columns</p>\n",
       "</div>"
      ],
      "text/plain": [
       "       age     workclass  fnlwgt     education  educational-num  \\\n",
       "0       25       Private  226802          11th                7   \n",
       "1       38       Private   89814       HS-grad                9   \n",
       "2       28     Local-gov  336951    Assoc-acdm               12   \n",
       "3       44       Private  160323  Some-college               10   \n",
       "4       18           NaN  103497  Some-college               10   \n",
       "...    ...           ...     ...           ...              ...   \n",
       "48837   27       Private  257302    Assoc-acdm               12   \n",
       "48838   40       Private  154374       HS-grad                9   \n",
       "48839   58       Private  151910       HS-grad                9   \n",
       "48840   22       Private  201490       HS-grad                9   \n",
       "48841   52  Self-emp-inc  287927       HS-grad                9   \n",
       "\n",
       "           marital-status         occupation relationship   race  gender  \\\n",
       "0           Never-married  Machine-op-inspct    Own-child  Black    Male   \n",
       "1      Married-civ-spouse    Farming-fishing      Husband  White    Male   \n",
       "2      Married-civ-spouse    Protective-serv      Husband  White    Male   \n",
       "3      Married-civ-spouse  Machine-op-inspct      Husband  Black    Male   \n",
       "4           Never-married                NaN    Own-child  White  Female   \n",
       "...                   ...                ...          ...    ...     ...   \n",
       "48837  Married-civ-spouse       Tech-support         Wife  White  Female   \n",
       "48838  Married-civ-spouse  Machine-op-inspct      Husband  White    Male   \n",
       "48839             Widowed       Adm-clerical    Unmarried  White  Female   \n",
       "48840       Never-married       Adm-clerical    Own-child  White    Male   \n",
       "48841  Married-civ-spouse    Exec-managerial         Wife  White  Female   \n",
       "\n",
       "       capital-gain  capital-loss  hours-per-week native-country income  \n",
       "0                 0             0              40  United-States  <=50K  \n",
       "1                 0             0              50  United-States  <=50K  \n",
       "2                 0             0              40  United-States   >50K  \n",
       "3              7688             0              40  United-States   >50K  \n",
       "4                 0             0              30  United-States  <=50K  \n",
       "...             ...           ...             ...            ...    ...  \n",
       "48837             0             0              38  United-States  <=50K  \n",
       "48838             0             0              40  United-States   >50K  \n",
       "48839             0             0              40  United-States  <=50K  \n",
       "48840             0             0              20  United-States  <=50K  \n",
       "48841         15024             0              40  United-States   >50K  \n",
       "\n",
       "[48790 rows x 15 columns]"
      ]
     },
     "execution_count": 14,
     "metadata": {},
     "output_type": "execute_result"
    }
   ],
   "source": [
    "from numpy import nan\n",
    "df = df.replace(\"?\", nan)\n",
    "df"
   ]
  },
  {
   "cell_type": "code",
   "execution_count": 15,
   "id": "cdf45857",
   "metadata": {},
   "outputs": [
    {
     "data": {
      "text/plain": [
       "<AxesSubplot:xlabel='count', ylabel='income'>"
      ]
     },
     "execution_count": 15,
     "metadata": {},
     "output_type": "execute_result"
    },
    {
     "data": {
      "image/png": "[encoded data removed]",
      "text/plain": [
       "<Figure size 504x504 with 1 Axes>"
      ]
     },
     "metadata": {
      "needs_background": "light"
     },
     "output_type": "display_data"
    }
   ],
   "source": [
    "plt.figure(figsize=(7,7))\n",
    "sns.countplot(y = df[\"income\"])"
   ]
  },
  {
   "cell_type": "markdown",
   "id": "28819462",
   "metadata": {},
   "source": [
    "Here we can see that there are two categories of Salary Attribute, so we will tranform the values <=50 into 0 and >50K into 1 \n"
   ]
  },
  {
   "cell_type": "code",
   "execution_count": 16,
   "id": "3d19e567",
   "metadata": {},
   "outputs": [
    {
     "data": {
      "text/html": [
       "<div>\n",
       "<style scoped>\n",
       "    .dataframe tbody tr th:only-of-type {\n",
       "        vertical-align: middle;\n",
       "    }\n",
       "\n",
       "    .dataframe tbody tr th {\n",
       "        vertical-align: top;\n",
       "    }\n",
       "\n",
       "    .dataframe thead th {\n",
       "        text-align: right;\n",
       "    }\n",
       "</style>\n",
       "<table border=\"1\" class=\"dataframe\">\n",
       "  <thead>\n",
       "    <tr style=\"text-align: right;\">\n",
       "      <th></th>\n",
       "      <th>age</th>\n",
       "      <th>workclass</th>\n",
       "      <th>fnlwgt</th>\n",
       "      <th>education</th>\n",
       "      <th>educational-num</th>\n",
       "      <th>marital-status</th>\n",
       "      <th>occupation</th>\n",
       "      <th>relationship</th>\n",
       "      <th>race</th>\n",
       "      <th>gender</th>\n",
       "      <th>capital-gain</th>\n",
       "      <th>capital-loss</th>\n",
       "      <th>hours-per-week</th>\n",
       "      <th>native-country</th>\n",
       "      <th>income</th>\n",
       "    </tr>\n",
       "  </thead>\n",
       "  <tbody>\n",
       "    <tr>\n",
       "      <th>0</th>\n",
       "      <td>25</td>\n",
       "      <td>Private</td>\n",
       "      <td>226802</td>\n",
       "      <td>11th</td>\n",
       "      <td>7</td>\n",
       "      <td>Never-married</td>\n",
       "      <td>Machine-op-inspct</td>\n",
       "      <td>Own-child</td>\n",
       "      <td>Black</td>\n",
       "      <td>Male</td>\n",
       "      <td>0</td>\n",
       "      <td>0</td>\n",
       "      <td>40</td>\n",
       "      <td>United-States</td>\n",
       "      <td>0</td>\n",
       "    </tr>\n",
       "    <tr>\n",
       "      <th>1</th>\n",
       "      <td>38</td>\n",
       "      <td>Private</td>\n",
       "      <td>89814</td>\n",
       "      <td>HS-grad</td>\n",
       "      <td>9</td>\n",
       "      <td>Married-civ-spouse</td>\n",
       "      <td>Farming-fishing</td>\n",
       "      <td>Husband</td>\n",
       "      <td>White</td>\n",
       "      <td>Male</td>\n",
       "      <td>0</td>\n",
       "      <td>0</td>\n",
       "      <td>50</td>\n",
       "      <td>United-States</td>\n",
       "      <td>0</td>\n",
       "    </tr>\n",
       "    <tr>\n",
       "      <th>2</th>\n",
       "      <td>28</td>\n",
       "      <td>Local-gov</td>\n",
       "      <td>336951</td>\n",
       "      <td>Assoc-acdm</td>\n",
       "      <td>12</td>\n",
       "      <td>Married-civ-spouse</td>\n",
       "      <td>Protective-serv</td>\n",
       "      <td>Husband</td>\n",
       "      <td>White</td>\n",
       "      <td>Male</td>\n",
       "      <td>0</td>\n",
       "      <td>0</td>\n",
       "      <td>40</td>\n",
       "      <td>United-States</td>\n",
       "      <td>1</td>\n",
       "    </tr>\n",
       "    <tr>\n",
       "      <th>3</th>\n",
       "      <td>44</td>\n",
       "      <td>Private</td>\n",
       "      <td>160323</td>\n",
       "      <td>Some-college</td>\n",
       "      <td>10</td>\n",
       "      <td>Married-civ-spouse</td>\n",
       "      <td>Machine-op-inspct</td>\n",
       "      <td>Husband</td>\n",
       "      <td>Black</td>\n",
       "      <td>Male</td>\n",
       "      <td>7688</td>\n",
       "      <td>0</td>\n",
       "      <td>40</td>\n",
       "      <td>United-States</td>\n",
       "      <td>1</td>\n",
       "    </tr>\n",
       "    <tr>\n",
       "      <th>4</th>\n",
       "      <td>18</td>\n",
       "      <td>NaN</td>\n",
       "      <td>103497</td>\n",
       "      <td>Some-college</td>\n",
       "      <td>10</td>\n",
       "      <td>Never-married</td>\n",
       "      <td>NaN</td>\n",
       "      <td>Own-child</td>\n",
       "      <td>White</td>\n",
       "      <td>Female</td>\n",
       "      <td>0</td>\n",
       "      <td>0</td>\n",
       "      <td>30</td>\n",
       "      <td>United-States</td>\n",
       "      <td>0</td>\n",
       "    </tr>\n",
       "  </tbody>\n",
       "</table>\n",
       "</div>"
      ],
      "text/plain": [
       "   age  workclass  fnlwgt     education  educational-num      marital-status  \\\n",
       "0   25    Private  226802          11th                7       Never-married   \n",
       "1   38    Private   89814       HS-grad                9  Married-civ-spouse   \n",
       "2   28  Local-gov  336951    Assoc-acdm               12  Married-civ-spouse   \n",
       "3   44    Private  160323  Some-college               10  Married-civ-spouse   \n",
       "4   18        NaN  103497  Some-college               10       Never-married   \n",
       "\n",
       "          occupation relationship   race  gender  capital-gain  capital-loss  \\\n",
       "0  Machine-op-inspct    Own-child  Black    Male             0             0   \n",
       "1    Farming-fishing      Husband  White    Male             0             0   \n",
       "2    Protective-serv      Husband  White    Male             0             0   \n",
       "3  Machine-op-inspct      Husband  Black    Male          7688             0   \n",
       "4                NaN    Own-child  White  Female             0             0   \n",
       "\n",
       "   hours-per-week native-country  income  \n",
       "0              40  United-States       0  \n",
       "1              50  United-States       0  \n",
       "2              40  United-States       1  \n",
       "3              40  United-States       1  \n",
       "4              30  United-States       0  "
      ]
     },
     "execution_count": 16,
     "metadata": {},
     "output_type": "execute_result"
    }
   ],
   "source": [
    "df['income']=df['income'].map({'<=50K': 0, '>50K': 1, '<=50K.': 0, '>50K.': 1})\n",
    "df.head() "
   ]
  },
  {
   "cell_type": "markdown",
   "id": "d1726f18",
   "metadata": {},
   "source": [
    "Checking for Null Values"
   ]
  },
  {
   "cell_type": "code",
   "execution_count": 17,
   "id": "84cbefb3",
   "metadata": {},
   "outputs": [
    {
     "data": {
      "text/plain": [
       "age                   0\n",
       "workclass          2795\n",
       "fnlwgt                0\n",
       "education             0\n",
       "educational-num       0\n",
       "marital-status        0\n",
       "occupation         2805\n",
       "relationship          0\n",
       "race                  0\n",
       "gender                0\n",
       "capital-gain          0\n",
       "capital-loss          0\n",
       "hours-per-week        0\n",
       "native-country      856\n",
       "income                0\n",
       "dtype: int64"
      ]
     },
     "execution_count": 17,
     "metadata": {},
     "output_type": "execute_result"
    }
   ],
   "source": [
    "df.isnull().sum()"
   ]
  },
  {
   "cell_type": "markdown",
   "id": "5dab1b65",
   "metadata": {},
   "source": [
    "Treatment of Null Values by replacing them with Mode values"
   ]
  },
  {
   "cell_type": "markdown",
   "id": "3c8cf846",
   "metadata": {},
   "source": [
    "Workclass"
   ]
  },
  {
   "cell_type": "code",
   "execution_count": 18,
   "id": "aed6c576",
   "metadata": {},
   "outputs": [
    {
     "data": {
      "text/html": [
       "<div>\n",
       "<style scoped>\n",
       "    .dataframe tbody tr th:only-of-type {\n",
       "        vertical-align: middle;\n",
       "    }\n",
       "\n",
       "    .dataframe tbody tr th {\n",
       "        vertical-align: top;\n",
       "    }\n",
       "\n",
       "    .dataframe thead th {\n",
       "        text-align: right;\n",
       "    }\n",
       "</style>\n",
       "<table border=\"1\" class=\"dataframe\">\n",
       "  <thead>\n",
       "    <tr style=\"text-align: right;\">\n",
       "      <th></th>\n",
       "      <th>education</th>\n",
       "      <th>marital-status</th>\n",
       "      <th>relationship</th>\n",
       "      <th>race</th>\n",
       "      <th>gender</th>\n",
       "      <th>native-country</th>\n",
       "    </tr>\n",
       "  </thead>\n",
       "  <tbody>\n",
       "  </tbody>\n",
       "</table>\n",
       "</div>"
      ],
      "text/plain": [
       "Empty DataFrame\n",
       "Columns: [education, marital-status, relationship, race, gender, native-country]\n",
       "Index: []"
      ]
     },
     "execution_count": 18,
     "metadata": {},
     "output_type": "execute_result"
    }
   ],
   "source": [
    "df[df[\"workclass\"]==nan][[\"education\",\"marital-status\",\"relationship\",\"race\",\"gender\",\"native-country\"]].mode()"
   ]
  },
  {
   "cell_type": "code",
   "execution_count": 19,
   "id": "26b98c52",
   "metadata": {},
   "outputs": [
    {
     "data": {
      "text/html": [
       "<div>\n",
       "<style scoped>\n",
       "    .dataframe tbody tr th:only-of-type {\n",
       "        vertical-align: middle;\n",
       "    }\n",
       "\n",
       "    .dataframe tbody tr th {\n",
       "        vertical-align: top;\n",
       "    }\n",
       "\n",
       "    .dataframe thead th {\n",
       "        text-align: right;\n",
       "    }\n",
       "</style>\n",
       "<table border=\"1\" class=\"dataframe\">\n",
       "  <thead>\n",
       "    <tr style=\"text-align: right;\">\n",
       "      <th></th>\n",
       "      <th>0</th>\n",
       "    </tr>\n",
       "  </thead>\n",
       "  <tbody>\n",
       "    <tr>\n",
       "      <th>0</th>\n",
       "      <td>Private</td>\n",
       "    </tr>\n",
       "  </tbody>\n",
       "</table>\n",
       "</div>"
      ],
      "text/plain": [
       "         0\n",
       "0  Private"
      ]
     },
     "execution_count": 19,
     "metadata": {},
     "output_type": "execute_result"
    }
   ],
   "source": [
    "colname = 'workclass'\n",
    "pd.DataFrame([df[df[\"education\"]==\"Some-college\"][colname].mode()[0],\n",
    "df[df[\"marital-status\"]==\"Never-married\"][colname].mode()[0],\n",
    "df[df[\"relationship\"]==\"Own-child\"][colname].mode()[0],\n",
    "df[df[\"race\"]==\"White\"][colname].mode()[0],\n",
    "df[df[\"gender\"]==\"Male\"][colname].mode()[0],\n",
    "df[df[\"native-country\"]==\"United-States\"][colname].mode()[0]]).mode()"
   ]
  },
  {
   "cell_type": "code",
   "execution_count": 20,
   "id": "706ab1a2",
   "metadata": {},
   "outputs": [],
   "source": [
    "df[\"workclass\"].replace(nan,\"Private\",inplace=True)"
   ]
  },
  {
   "cell_type": "markdown",
   "id": "eb8ff507",
   "metadata": {},
   "source": [
    "Occupation"
   ]
  },
  {
   "cell_type": "code",
   "execution_count": 21,
   "id": "a3b6ef67",
   "metadata": {},
   "outputs": [
    {
     "data": {
      "text/html": [
       "<div>\n",
       "<style scoped>\n",
       "    .dataframe tbody tr th:only-of-type {\n",
       "        vertical-align: middle;\n",
       "    }\n",
       "\n",
       "    .dataframe tbody tr th {\n",
       "        vertical-align: top;\n",
       "    }\n",
       "\n",
       "    .dataframe thead th {\n",
       "        text-align: right;\n",
       "    }\n",
       "</style>\n",
       "<table border=\"1\" class=\"dataframe\">\n",
       "  <thead>\n",
       "    <tr style=\"text-align: right;\">\n",
       "      <th></th>\n",
       "      <th>education</th>\n",
       "      <th>marital-status</th>\n",
       "      <th>relationship</th>\n",
       "      <th>race</th>\n",
       "      <th>gender</th>\n",
       "      <th>native-country</th>\n",
       "      <th>workclass</th>\n",
       "    </tr>\n",
       "  </thead>\n",
       "  <tbody>\n",
       "  </tbody>\n",
       "</table>\n",
       "</div>"
      ],
      "text/plain": [
       "Empty DataFrame\n",
       "Columns: [education, marital-status, relationship, race, gender, native-country, workclass]\n",
       "Index: []"
      ]
     },
     "execution_count": 21,
     "metadata": {},
     "output_type": "execute_result"
    }
   ],
   "source": [
    "df[df[\"occupation\"]==nan][[\"education\",\"marital-status\",\"relationship\",\"race\",\"gender\",\"native-country\",\"workclass\"]].mode()"
   ]
  },
  {
   "cell_type": "code",
   "execution_count": 22,
   "id": "60787fc4",
   "metadata": {},
   "outputs": [],
   "source": [
    "df[\"occupation\"].replace(nan,\"Craft-repair\",inplace=True)\n",
    "     "
   ]
  },
  {
   "cell_type": "code",
   "execution_count": 23,
   "id": "f805008f",
   "metadata": {},
   "outputs": [
    {
     "data": {
      "text/html": [
       "<div>\n",
       "<style scoped>\n",
       "    .dataframe tbody tr th:only-of-type {\n",
       "        vertical-align: middle;\n",
       "    }\n",
       "\n",
       "    .dataframe tbody tr th {\n",
       "        vertical-align: top;\n",
       "    }\n",
       "\n",
       "    .dataframe thead th {\n",
       "        text-align: right;\n",
       "    }\n",
       "</style>\n",
       "<table border=\"1\" class=\"dataframe\">\n",
       "  <thead>\n",
       "    <tr style=\"text-align: right;\">\n",
       "      <th></th>\n",
       "      <th>0</th>\n",
       "    </tr>\n",
       "  </thead>\n",
       "  <tbody>\n",
       "    <tr>\n",
       "      <th>0</th>\n",
       "      <td>Craft-repair</td>\n",
       "    </tr>\n",
       "  </tbody>\n",
       "</table>\n",
       "</div>"
      ],
      "text/plain": [
       "              0\n",
       "0  Craft-repair"
      ]
     },
     "execution_count": 23,
     "metadata": {},
     "output_type": "execute_result"
    }
   ],
   "source": [
    "colname=\"occupation\"\n",
    "pd.DataFrame([df[df[\"education\"]==\"Some-college\"][colname].mode()[0],\n",
    "df[df[\"marital-status\"]==\"Never-married\"][colname].mode()[0],\n",
    "df[df[\"relationship\"]==\"Own-child\"][colname].mode()[0],\n",
    "df[df[\"race\"]==\"White\"][colname].mode()[0],\n",
    "df[df[\"gender\"]==\"Male\"][colname].mode()[0],\n",
    "df[df[\"native-country\"]==\"United-States\"][colname].mode()[0],\n",
    "df[df[\"workclass\"]==\"Private\"][colname].mode()[0]]).mode()"
   ]
  },
  {
   "cell_type": "code",
   "execution_count": 24,
   "id": "e6f10088",
   "metadata": {},
   "outputs": [],
   "source": [
    "df[\"occupation\"].replace(nan,\"craft-repair\",inplace=True)"
   ]
  },
  {
   "cell_type": "markdown",
   "id": "add1357e",
   "metadata": {},
   "source": [
    "Native-Country"
   ]
  },
  {
   "cell_type": "code",
   "execution_count": 25,
   "id": "361a1fb5",
   "metadata": {},
   "outputs": [
    {
     "data": {
      "text/html": [
       "<div>\n",
       "<style scoped>\n",
       "    .dataframe tbody tr th:only-of-type {\n",
       "        vertical-align: middle;\n",
       "    }\n",
       "\n",
       "    .dataframe tbody tr th {\n",
       "        vertical-align: top;\n",
       "    }\n",
       "\n",
       "    .dataframe thead th {\n",
       "        text-align: right;\n",
       "    }\n",
       "</style>\n",
       "<table border=\"1\" class=\"dataframe\">\n",
       "  <thead>\n",
       "    <tr style=\"text-align: right;\">\n",
       "      <th></th>\n",
       "      <th>education</th>\n",
       "      <th>marital-status</th>\n",
       "      <th>relationship</th>\n",
       "      <th>race</th>\n",
       "      <th>gender</th>\n",
       "      <th>native-country</th>\n",
       "      <th>workclass</th>\n",
       "    </tr>\n",
       "  </thead>\n",
       "  <tbody>\n",
       "  </tbody>\n",
       "</table>\n",
       "</div>"
      ],
      "text/plain": [
       "Empty DataFrame\n",
       "Columns: [education, marital-status, relationship, race, gender, native-country, workclass]\n",
       "Index: []"
      ]
     },
     "execution_count": 25,
     "metadata": {},
     "output_type": "execute_result"
    }
   ],
   "source": [
    "df[df[\"native-country\"]==nan][[\"education\",\"marital-status\",\"relationship\",\"race\",\"gender\",\"native-country\",\"workclass\"]].mode()"
   ]
  },
  {
   "cell_type": "code",
   "execution_count": 26,
   "id": "d81068bf",
   "metadata": {},
   "outputs": [
    {
     "data": {
      "text/html": [
       "<div>\n",
       "<style scoped>\n",
       "    .dataframe tbody tr th:only-of-type {\n",
       "        vertical-align: middle;\n",
       "    }\n",
       "\n",
       "    .dataframe tbody tr th {\n",
       "        vertical-align: top;\n",
       "    }\n",
       "\n",
       "    .dataframe thead th {\n",
       "        text-align: right;\n",
       "    }\n",
       "</style>\n",
       "<table border=\"1\" class=\"dataframe\">\n",
       "  <thead>\n",
       "    <tr style=\"text-align: right;\">\n",
       "      <th></th>\n",
       "      <th>0</th>\n",
       "    </tr>\n",
       "  </thead>\n",
       "  <tbody>\n",
       "    <tr>\n",
       "      <th>0</th>\n",
       "      <td>United-States</td>\n",
       "    </tr>\n",
       "  </tbody>\n",
       "</table>\n",
       "</div>"
      ],
      "text/plain": [
       "               0\n",
       "0  United-States"
      ]
     },
     "execution_count": 26,
     "metadata": {},
     "output_type": "execute_result"
    }
   ],
   "source": [
    "colname=\"native-country\"\n",
    "pd.DataFrame([df[df[\"education\"]==\"Bachelors\"][colname].mode()[0],\n",
    "df[df[\"marital-status\"]==\"Married-civ-spouse\"][colname].mode()[0],\n",
    "df[df[\"relationship\"]==\"Husband\"][colname].mode()[0],\n",
    "df[df[\"race\"]==\"White\"][colname].mode()[0],\n",
    "df[df[\"gender\"]==\"Male\"][colname].mode()[0],\n",
    "df[df[\"occupation\"]==\"Prof-specialty\"][colname].mode()[0],\n",
    "df[df[\"workclass\"]==\"Private\"][colname].mode()[0]]).mode()"
   ]
  },
  {
   "cell_type": "code",
   "execution_count": 27,
   "id": "5337fd20",
   "metadata": {},
   "outputs": [],
   "source": [
    "df[\"native-country\"].replace(nan,\"United-States\",inplace=True)"
   ]
  },
  {
   "cell_type": "markdown",
   "id": "b2dc5669",
   "metadata": {},
   "source": [
    "Veryfying if \"?\" is tilll in the columns or not"
   ]
  },
  {
   "cell_type": "code",
   "execution_count": 28,
   "id": "0de4bc77",
   "metadata": {},
   "outputs": [
    {
     "data": {
      "text/plain": [
       "United-States                 44648\n",
       "Mexico                          943\n",
       "Philippines                     294\n",
       "Germany                         206\n",
       "Puerto-Rico                     184\n",
       "Canada                          182\n",
       "El-Salvador                     155\n",
       "India                           151\n",
       "Cuba                            138\n",
       "England                         127\n",
       "China                           122\n",
       "South                           115\n",
       "Jamaica                         106\n",
       "Italy                           105\n",
       "Dominican-Republic              103\n",
       "Japan                            92\n",
       "Poland                           87\n",
       "Vietnam                          86\n",
       "Guatemala                        86\n",
       "Columbia                         85\n",
       "Haiti                            75\n",
       "Portugal                         67\n",
       "Taiwan                           65\n",
       "Iran                             59\n",
       "Greece                           49\n",
       "Nicaragua                        49\n",
       "Peru                             46\n",
       "Ecuador                          45\n",
       "France                           38\n",
       "Ireland                          37\n",
       "Hong                             30\n",
       "Thailand                         30\n",
       "Cambodia                         28\n",
       "Trinadad&Tobago                  27\n",
       "Yugoslavia                       23\n",
       "Outlying-US(Guam-USVI-etc)       23\n",
       "Laos                             23\n",
       "Scotland                         21\n",
       "Honduras                         20\n",
       "Hungary                          19\n",
       "Holand-Netherlands                1\n",
       "Name: native-country, dtype: int64"
      ]
     },
     "execution_count": 28,
     "metadata": {},
     "output_type": "execute_result"
    }
   ],
   "source": [
    "df[\"native-country\"].value_counts()"
   ]
  },
  {
   "cell_type": "code",
   "execution_count": 29,
   "id": "ba37f0ca",
   "metadata": {},
   "outputs": [
    {
     "data": {
      "text/plain": [
       "Private             36655\n",
       "Self-emp-not-inc     3861\n",
       "Local-gov            3136\n",
       "State-gov            1981\n",
       "Self-emp-inc         1694\n",
       "Federal-gov          1432\n",
       "Without-pay            21\n",
       "Never-worked           10\n",
       "Name: workclass, dtype: int64"
      ]
     },
     "execution_count": 29,
     "metadata": {},
     "output_type": "execute_result"
    }
   ],
   "source": [
    "df[\"workclass\"].value_counts()"
   ]
  },
  {
   "cell_type": "code",
   "execution_count": 30,
   "id": "757727cb",
   "metadata": {},
   "outputs": [
    {
     "data": {
      "text/plain": [
       "Craft-repair         8907\n",
       "Prof-specialty       6165\n",
       "Exec-managerial      6082\n",
       "Adm-clerical         5606\n",
       "Sales                5501\n",
       "Other-service        4919\n",
       "Machine-op-inspct    3017\n",
       "Transport-moving     2355\n",
       "Handlers-cleaners    2071\n",
       "Farming-fishing      1485\n",
       "Tech-support         1445\n",
       "Protective-serv       982\n",
       "Priv-house-serv       240\n",
       "Armed-Forces           15\n",
       "Name: occupation, dtype: int64"
      ]
     },
     "execution_count": 30,
     "metadata": {},
     "output_type": "execute_result"
    }
   ],
   "source": [
    "df[\"occupation\"].value_counts()"
   ]
  },
  {
   "cell_type": "code",
   "execution_count": 31,
   "id": "077faa50",
   "metadata": {},
   "outputs": [
    {
     "data": {
      "text/plain": [
       "age                0\n",
       "workclass          0\n",
       "fnlwgt             0\n",
       "education          0\n",
       "educational-num    0\n",
       "marital-status     0\n",
       "occupation         0\n",
       "relationship       0\n",
       "race               0\n",
       "gender             0\n",
       "capital-gain       0\n",
       "capital-loss       0\n",
       "hours-per-week     0\n",
       "native-country     0\n",
       "income             0\n",
       "dtype: int64"
      ]
     },
     "execution_count": 31,
     "metadata": {},
     "output_type": "execute_result"
    }
   ],
   "source": [
    "df.isnull().sum()"
   ]
  },
  {
   "cell_type": "markdown",
   "id": "70080756",
   "metadata": {},
   "source": [
    "Summerizing the class distributions"
   ]
  },
  {
   "cell_type": "code",
   "execution_count": 32,
   "id": "6c4a4cfc",
   "metadata": {},
   "outputs": [
    {
     "name": "stdout",
     "output_type": "stream",
     "text": [
      "Class =  0 , Count =  37109 , Percentage =  76.05861856937896\n",
      "Class =  1 , Count =  11681 , Percentage =  23.94138143062103\n"
     ]
    }
   ],
   "source": [
    "from collections import Counter\n",
    "target = df.values[:,-1]\n",
    "counter = Counter(target)\n",
    "\n",
    "for i,j in counter.items():\n",
    "    per = (j/len(target)) * 100\n",
    "    print(\"Class = \",i, \", Count = \",j, \", Percentage = \",per)"
   ]
  },
  {
   "cell_type": "markdown",
   "id": "82fc9535",
   "metadata": {},
   "source": [
    "Separating numerical, categorical and datetime features"
   ]
  },
  {
   "cell_type": "code",
   "execution_count": 33,
   "id": "b8428835",
   "metadata": {},
   "outputs": [],
   "source": [
    "cat_data = df.select_dtypes(exclude = [np.number, np.datetime64])\n",
    "num_data = df.select_dtypes(exclude = [\"int64\", \"float64\"])"
   ]
  },
  {
   "cell_type": "code",
   "execution_count": 34,
   "id": "4345d200",
   "metadata": {},
   "outputs": [
    {
     "data": {
      "text/html": [
       "<div>\n",
       "<style scoped>\n",
       "    .dataframe tbody tr th:only-of-type {\n",
       "        vertical-align: middle;\n",
       "    }\n",
       "\n",
       "    .dataframe tbody tr th {\n",
       "        vertical-align: top;\n",
       "    }\n",
       "\n",
       "    .dataframe thead th {\n",
       "        text-align: right;\n",
       "    }\n",
       "</style>\n",
       "<table border=\"1\" class=\"dataframe\">\n",
       "  <thead>\n",
       "    <tr style=\"text-align: right;\">\n",
       "      <th></th>\n",
       "      <th>workclass</th>\n",
       "      <th>education</th>\n",
       "      <th>marital-status</th>\n",
       "      <th>occupation</th>\n",
       "      <th>relationship</th>\n",
       "      <th>race</th>\n",
       "      <th>gender</th>\n",
       "      <th>native-country</th>\n",
       "    </tr>\n",
       "  </thead>\n",
       "  <tbody>\n",
       "    <tr>\n",
       "      <th>0</th>\n",
       "      <td>Private</td>\n",
       "      <td>11th</td>\n",
       "      <td>Never-married</td>\n",
       "      <td>Machine-op-inspct</td>\n",
       "      <td>Own-child</td>\n",
       "      <td>Black</td>\n",
       "      <td>Male</td>\n",
       "      <td>United-States</td>\n",
       "    </tr>\n",
       "    <tr>\n",
       "      <th>1</th>\n",
       "      <td>Private</td>\n",
       "      <td>HS-grad</td>\n",
       "      <td>Married-civ-spouse</td>\n",
       "      <td>Farming-fishing</td>\n",
       "      <td>Husband</td>\n",
       "      <td>White</td>\n",
       "      <td>Male</td>\n",
       "      <td>United-States</td>\n",
       "    </tr>\n",
       "    <tr>\n",
       "      <th>2</th>\n",
       "      <td>Local-gov</td>\n",
       "      <td>Assoc-acdm</td>\n",
       "      <td>Married-civ-spouse</td>\n",
       "      <td>Protective-serv</td>\n",
       "      <td>Husband</td>\n",
       "      <td>White</td>\n",
       "      <td>Male</td>\n",
       "      <td>United-States</td>\n",
       "    </tr>\n",
       "    <tr>\n",
       "      <th>3</th>\n",
       "      <td>Private</td>\n",
       "      <td>Some-college</td>\n",
       "      <td>Married-civ-spouse</td>\n",
       "      <td>Machine-op-inspct</td>\n",
       "      <td>Husband</td>\n",
       "      <td>Black</td>\n",
       "      <td>Male</td>\n",
       "      <td>United-States</td>\n",
       "    </tr>\n",
       "    <tr>\n",
       "      <th>4</th>\n",
       "      <td>Private</td>\n",
       "      <td>Some-college</td>\n",
       "      <td>Never-married</td>\n",
       "      <td>Craft-repair</td>\n",
       "      <td>Own-child</td>\n",
       "      <td>White</td>\n",
       "      <td>Female</td>\n",
       "      <td>United-States</td>\n",
       "    </tr>\n",
       "    <tr>\n",
       "      <th>...</th>\n",
       "      <td>...</td>\n",
       "      <td>...</td>\n",
       "      <td>...</td>\n",
       "      <td>...</td>\n",
       "      <td>...</td>\n",
       "      <td>...</td>\n",
       "      <td>...</td>\n",
       "      <td>...</td>\n",
       "    </tr>\n",
       "    <tr>\n",
       "      <th>48837</th>\n",
       "      <td>Private</td>\n",
       "      <td>Assoc-acdm</td>\n",
       "      <td>Married-civ-spouse</td>\n",
       "      <td>Tech-support</td>\n",
       "      <td>Wife</td>\n",
       "      <td>White</td>\n",
       "      <td>Female</td>\n",
       "      <td>United-States</td>\n",
       "    </tr>\n",
       "    <tr>\n",
       "      <th>48838</th>\n",
       "      <td>Private</td>\n",
       "      <td>HS-grad</td>\n",
       "      <td>Married-civ-spouse</td>\n",
       "      <td>Machine-op-inspct</td>\n",
       "      <td>Husband</td>\n",
       "      <td>White</td>\n",
       "      <td>Male</td>\n",
       "      <td>United-States</td>\n",
       "    </tr>\n",
       "    <tr>\n",
       "      <th>48839</th>\n",
       "      <td>Private</td>\n",
       "      <td>HS-grad</td>\n",
       "      <td>Widowed</td>\n",
       "      <td>Adm-clerical</td>\n",
       "      <td>Unmarried</td>\n",
       "      <td>White</td>\n",
       "      <td>Female</td>\n",
       "      <td>United-States</td>\n",
       "    </tr>\n",
       "    <tr>\n",
       "      <th>48840</th>\n",
       "      <td>Private</td>\n",
       "      <td>HS-grad</td>\n",
       "      <td>Never-married</td>\n",
       "      <td>Adm-clerical</td>\n",
       "      <td>Own-child</td>\n",
       "      <td>White</td>\n",
       "      <td>Male</td>\n",
       "      <td>United-States</td>\n",
       "    </tr>\n",
       "    <tr>\n",
       "      <th>48841</th>\n",
       "      <td>Self-emp-inc</td>\n",
       "      <td>HS-grad</td>\n",
       "      <td>Married-civ-spouse</td>\n",
       "      <td>Exec-managerial</td>\n",
       "      <td>Wife</td>\n",
       "      <td>White</td>\n",
       "      <td>Female</td>\n",
       "      <td>United-States</td>\n",
       "    </tr>\n",
       "  </tbody>\n",
       "</table>\n",
       "<p>48790 rows × 8 columns</p>\n",
       "</div>"
      ],
      "text/plain": [
       "          workclass     education      marital-status         occupation  \\\n",
       "0           Private          11th       Never-married  Machine-op-inspct   \n",
       "1           Private       HS-grad  Married-civ-spouse    Farming-fishing   \n",
       "2         Local-gov    Assoc-acdm  Married-civ-spouse    Protective-serv   \n",
       "3           Private  Some-college  Married-civ-spouse  Machine-op-inspct   \n",
       "4           Private  Some-college       Never-married       Craft-repair   \n",
       "...             ...           ...                 ...                ...   \n",
       "48837       Private    Assoc-acdm  Married-civ-spouse       Tech-support   \n",
       "48838       Private       HS-grad  Married-civ-spouse  Machine-op-inspct   \n",
       "48839       Private       HS-grad             Widowed       Adm-clerical   \n",
       "48840       Private       HS-grad       Never-married       Adm-clerical   \n",
       "48841  Self-emp-inc       HS-grad  Married-civ-spouse    Exec-managerial   \n",
       "\n",
       "      relationship   race  gender native-country  \n",
       "0        Own-child  Black    Male  United-States  \n",
       "1          Husband  White    Male  United-States  \n",
       "2          Husband  White    Male  United-States  \n",
       "3          Husband  Black    Male  United-States  \n",
       "4        Own-child  White  Female  United-States  \n",
       "...            ...    ...     ...            ...  \n",
       "48837         Wife  White  Female  United-States  \n",
       "48838      Husband  White    Male  United-States  \n",
       "48839    Unmarried  White  Female  United-States  \n",
       "48840    Own-child  White    Male  United-States  \n",
       "48841         Wife  White  Female  United-States  \n",
       "\n",
       "[48790 rows x 8 columns]"
      ]
     },
     "execution_count": 34,
     "metadata": {},
     "output_type": "execute_result"
    }
   ],
   "source": [
    "cat_data"
   ]
  },
  {
   "cell_type": "code",
   "execution_count": 35,
   "id": "db5181ae",
   "metadata": {},
   "outputs": [
    {
     "data": {
      "text/html": [
       "<div>\n",
       "<style scoped>\n",
       "    .dataframe tbody tr th:only-of-type {\n",
       "        vertical-align: middle;\n",
       "    }\n",
       "\n",
       "    .dataframe tbody tr th {\n",
       "        vertical-align: top;\n",
       "    }\n",
       "\n",
       "    .dataframe thead th {\n",
       "        text-align: right;\n",
       "    }\n",
       "</style>\n",
       "<table border=\"1\" class=\"dataframe\">\n",
       "  <thead>\n",
       "    <tr style=\"text-align: right;\">\n",
       "      <th></th>\n",
       "      <th>workclass</th>\n",
       "      <th>education</th>\n",
       "      <th>marital-status</th>\n",
       "      <th>occupation</th>\n",
       "      <th>relationship</th>\n",
       "      <th>race</th>\n",
       "      <th>gender</th>\n",
       "      <th>native-country</th>\n",
       "    </tr>\n",
       "  </thead>\n",
       "  <tbody>\n",
       "    <tr>\n",
       "      <th>0</th>\n",
       "      <td>Private</td>\n",
       "      <td>11th</td>\n",
       "      <td>Never-married</td>\n",
       "      <td>Machine-op-inspct</td>\n",
       "      <td>Own-child</td>\n",
       "      <td>Black</td>\n",
       "      <td>Male</td>\n",
       "      <td>United-States</td>\n",
       "    </tr>\n",
       "    <tr>\n",
       "      <th>1</th>\n",
       "      <td>Private</td>\n",
       "      <td>HS-grad</td>\n",
       "      <td>Married-civ-spouse</td>\n",
       "      <td>Farming-fishing</td>\n",
       "      <td>Husband</td>\n",
       "      <td>White</td>\n",
       "      <td>Male</td>\n",
       "      <td>United-States</td>\n",
       "    </tr>\n",
       "    <tr>\n",
       "      <th>2</th>\n",
       "      <td>Local-gov</td>\n",
       "      <td>Assoc-acdm</td>\n",
       "      <td>Married-civ-spouse</td>\n",
       "      <td>Protective-serv</td>\n",
       "      <td>Husband</td>\n",
       "      <td>White</td>\n",
       "      <td>Male</td>\n",
       "      <td>United-States</td>\n",
       "    </tr>\n",
       "    <tr>\n",
       "      <th>3</th>\n",
       "      <td>Private</td>\n",
       "      <td>Some-college</td>\n",
       "      <td>Married-civ-spouse</td>\n",
       "      <td>Machine-op-inspct</td>\n",
       "      <td>Husband</td>\n",
       "      <td>Black</td>\n",
       "      <td>Male</td>\n",
       "      <td>United-States</td>\n",
       "    </tr>\n",
       "    <tr>\n",
       "      <th>4</th>\n",
       "      <td>Private</td>\n",
       "      <td>Some-college</td>\n",
       "      <td>Never-married</td>\n",
       "      <td>Craft-repair</td>\n",
       "      <td>Own-child</td>\n",
       "      <td>White</td>\n",
       "      <td>Female</td>\n",
       "      <td>United-States</td>\n",
       "    </tr>\n",
       "    <tr>\n",
       "      <th>...</th>\n",
       "      <td>...</td>\n",
       "      <td>...</td>\n",
       "      <td>...</td>\n",
       "      <td>...</td>\n",
       "      <td>...</td>\n",
       "      <td>...</td>\n",
       "      <td>...</td>\n",
       "      <td>...</td>\n",
       "    </tr>\n",
       "    <tr>\n",
       "      <th>48837</th>\n",
       "      <td>Private</td>\n",
       "      <td>Assoc-acdm</td>\n",
       "      <td>Married-civ-spouse</td>\n",
       "      <td>Tech-support</td>\n",
       "      <td>Wife</td>\n",
       "      <td>White</td>\n",
       "      <td>Female</td>\n",
       "      <td>United-States</td>\n",
       "    </tr>\n",
       "    <tr>\n",
       "      <th>48838</th>\n",
       "      <td>Private</td>\n",
       "      <td>HS-grad</td>\n",
       "      <td>Married-civ-spouse</td>\n",
       "      <td>Machine-op-inspct</td>\n",
       "      <td>Husband</td>\n",
       "      <td>White</td>\n",
       "      <td>Male</td>\n",
       "      <td>United-States</td>\n",
       "    </tr>\n",
       "    <tr>\n",
       "      <th>48839</th>\n",
       "      <td>Private</td>\n",
       "      <td>HS-grad</td>\n",
       "      <td>Widowed</td>\n",
       "      <td>Adm-clerical</td>\n",
       "      <td>Unmarried</td>\n",
       "      <td>White</td>\n",
       "      <td>Female</td>\n",
       "      <td>United-States</td>\n",
       "    </tr>\n",
       "    <tr>\n",
       "      <th>48840</th>\n",
       "      <td>Private</td>\n",
       "      <td>HS-grad</td>\n",
       "      <td>Never-married</td>\n",
       "      <td>Adm-clerical</td>\n",
       "      <td>Own-child</td>\n",
       "      <td>White</td>\n",
       "      <td>Male</td>\n",
       "      <td>United-States</td>\n",
       "    </tr>\n",
       "    <tr>\n",
       "      <th>48841</th>\n",
       "      <td>Self-emp-inc</td>\n",
       "      <td>HS-grad</td>\n",
       "      <td>Married-civ-spouse</td>\n",
       "      <td>Exec-managerial</td>\n",
       "      <td>Wife</td>\n",
       "      <td>White</td>\n",
       "      <td>Female</td>\n",
       "      <td>United-States</td>\n",
       "    </tr>\n",
       "  </tbody>\n",
       "</table>\n",
       "<p>48790 rows × 8 columns</p>\n",
       "</div>"
      ],
      "text/plain": [
       "          workclass     education      marital-status         occupation  \\\n",
       "0           Private          11th       Never-married  Machine-op-inspct   \n",
       "1           Private       HS-grad  Married-civ-spouse    Farming-fishing   \n",
       "2         Local-gov    Assoc-acdm  Married-civ-spouse    Protective-serv   \n",
       "3           Private  Some-college  Married-civ-spouse  Machine-op-inspct   \n",
       "4           Private  Some-college       Never-married       Craft-repair   \n",
       "...             ...           ...                 ...                ...   \n",
       "48837       Private    Assoc-acdm  Married-civ-spouse       Tech-support   \n",
       "48838       Private       HS-grad  Married-civ-spouse  Machine-op-inspct   \n",
       "48839       Private       HS-grad             Widowed       Adm-clerical   \n",
       "48840       Private       HS-grad       Never-married       Adm-clerical   \n",
       "48841  Self-emp-inc       HS-grad  Married-civ-spouse    Exec-managerial   \n",
       "\n",
       "      relationship   race  gender native-country  \n",
       "0        Own-child  Black    Male  United-States  \n",
       "1          Husband  White    Male  United-States  \n",
       "2          Husband  White    Male  United-States  \n",
       "3          Husband  Black    Male  United-States  \n",
       "4        Own-child  White  Female  United-States  \n",
       "...            ...    ...     ...            ...  \n",
       "48837         Wife  White  Female  United-States  \n",
       "48838      Husband  White    Male  United-States  \n",
       "48839    Unmarried  White  Female  United-States  \n",
       "48840    Own-child  White    Male  United-States  \n",
       "48841         Wife  White  Female  United-States  \n",
       "\n",
       "[48790 rows x 8 columns]"
      ]
     },
     "execution_count": 35,
     "metadata": {},
     "output_type": "execute_result"
    }
   ],
   "source": [
    "num_data"
   ]
  },
  {
   "cell_type": "markdown",
   "id": "7ae73137",
   "metadata": {},
   "source": [
    "Univariate Analysis and Bivariate Analysis\n",
    "\n",
    "Univariate Analysis for Numeriacal Attributes\n",
    "\n",
    "Box Plot For Numerical Attributes to understand the Outliers"
   ]
  },
  {
   "cell_type": "code",
   "execution_count": null,
   "id": "dfe6cb07",
   "metadata": {},
   "outputs": [],
   "source": []
  },
  {
   "cell_type": "code",
   "execution_count": null,
   "id": "ccb3fbbc",
   "metadata": {},
   "outputs": [],
   "source": []
  },
  {
   "cell_type": "code",
   "execution_count": 40,
   "id": "4eaab6e6",
   "metadata": {},
   "outputs": [
    {
     "data": {
      "text/plain": [
       "(array([37109.,     0.,     0.,     0.,     0.,     0.,     0.,     0.,\n",
       "            0., 11681.]),\n",
       " array([0. , 0.1, 0.2, 0.3, 0.4, 0.5, 0.6, 0.7, 0.8, 0.9, 1. ]),\n",
       " <BarContainer object of 10 artists>)"
      ]
     },
     "execution_count": 40,
     "metadata": {},
     "output_type": "execute_result"
    },
    {
     "data": {
      "image/png": "[encoded data removed]",
      "text/plain": [
       "<Figure size 432x288 with 1 Axes>"
      ]
     },
     "metadata": {
      "needs_background": "light"
     },
     "output_type": "display_data"
    }
   ],
   "source": [
    "plt.hist(df[\"income\"])"
   ]
  },
  {
   "cell_type": "code",
   "execution_count": 91,
   "id": "cdaadd00",
   "metadata": {},
   "outputs": [
    {
     "data": {
      "text/plain": [
       "<AxesSubplot:xlabel='count', ylabel='workclass'>"
      ]
     },
     "execution_count": 91,
     "metadata": {},
     "output_type": "execute_result"
    },
    {
     "data": {
      "image/png": "[encoded data removed]",
      "text/plain": [
       "<Figure size 720x720 with 1 Axes>"
      ]
     },
     "metadata": {
      "needs_background": "light"
     },
     "output_type": "display_data"
    }
   ],
   "source": [
    "plt.figure(figsize=(10,10))\n",
    "sns.countplot(y=cat_data[\"workclass\"])"
   ]
  },
  {
   "cell_type": "code",
   "execution_count": 92,
   "id": "d79c2bf5",
   "metadata": {},
   "outputs": [
    {
     "data": {
      "text/plain": [
       "<AxesSubplot:xlabel='count', ylabel='education'>"
      ]
     },
     "execution_count": 92,
     "metadata": {},
     "output_type": "execute_result"
    },
    {
     "data": {
      "image/png": "[encoded data removed]",
      "text/plain": [
       "<Figure size 720x720 with 1 Axes>"
      ]
     },
     "metadata": {
      "needs_background": "light"
     },
     "output_type": "display_data"
    }
   ],
   "source": [
    "plt.figure(figsize=(10,10))\n",
    "sns.countplot(y=cat_data[\"education\"])"
   ]
  },
  {
   "cell_type": "code",
   "execution_count": 47,
   "id": "6d9e872d",
   "metadata": {},
   "outputs": [
    {
     "data": {
      "text/plain": [
       "(array([16082., 22366.,     0.,  1518.,     0.,  6630.,  1530.,     0.,\n",
       "          627.,    37.]),\n",
       " array([0. , 0.6, 1.2, 1.8, 2.4, 3. , 3.6, 4.2, 4.8, 5.4, 6. ]),\n",
       " <BarContainer object of 10 artists>)"
      ]
     },
     "execution_count": 47,
     "metadata": {},
     "output_type": "execute_result"
    },
    {
     "data": {
      "image/png": "[encoded data removed]",
      "text/plain": [
       "<Figure size 432x288 with 1 Axes>"
      ]
     },
     "metadata": {
      "needs_background": "light"
     },
     "output_type": "display_data"
    }
   ],
   "source": [
    "plt.plot(figsize=(30,30))\n",
    "plt.hist(df[\"marital-status\"])"
   ]
  },
  {
   "cell_type": "code",
   "execution_count": 90,
   "id": "7478ea64",
   "metadata": {},
   "outputs": [
    {
     "data": {
      "text/plain": [
       "<AxesSubplot:xlabel='count', ylabel='workclass'>"
      ]
     },
     "execution_count": 90,
     "metadata": {},
     "output_type": "execute_result"
    },
    {
     "data": {
      "image/png": "[encoded data removed]",
      "text/plain": [
       "<Figure size 720x720 with 1 Axes>"
      ]
     },
     "metadata": {
      "needs_background": "light"
     },
     "output_type": "display_data"
    }
   ],
   "source": [
    "plt.figure(figsize=(10,10))\n",
    "sns.countplot(y=cat_data[\"workclass\"])"
   ]
  },
  {
   "cell_type": "code",
   "execution_count": 49,
   "id": "458415eb",
   "metadata": {},
   "outputs": [
    {
     "data": {
      "text/plain": [
       "(array([ 7569.,     0., 19703.,     0., 12557.,     0.,  5124.,     0.,\n",
       "         2331.,  1506.]),\n",
       " array([0. , 0.5, 1. , 1.5, 2. , 2.5, 3. , 3.5, 4. , 4.5, 5. ]),\n",
       " <BarContainer object of 10 artists>)"
      ]
     },
     "execution_count": 49,
     "metadata": {},
     "output_type": "execute_result"
    },
    {
     "data": {
      "image/png": "[encoded data removed]",
      "text/plain": [
       "<Figure size 432x288 with 1 Axes>"
      ]
     },
     "metadata": {
      "needs_background": "light"
     },
     "output_type": "display_data"
    }
   ],
   "source": [
    "plt.hist(df[\"relationship\"])"
   ]
  },
  {
   "cell_type": "code",
   "execution_count": 50,
   "id": "b19aaf23",
   "metadata": {},
   "outputs": [
    {
     "data": {
      "text/plain": [
       "(array([ 4683.,     0., 41714.,     0.,     0.,  1517.,     0.,   406.,\n",
       "            0.,   470.]),\n",
       " array([0. , 0.4, 0.8, 1.2, 1.6, 2. , 2.4, 2.8, 3.2, 3.6, 4. ]),\n",
       " <BarContainer object of 10 artists>)"
      ]
     },
     "execution_count": 50,
     "metadata": {},
     "output_type": "execute_result"
    },
    {
     "data": {
      "image/png": "[encoded data removed]",
      "text/plain": [
       "<Figure size 432x288 with 1 Axes>"
      ]
     },
     "metadata": {
      "needs_background": "light"
     },
     "output_type": "display_data"
    }
   ],
   "source": [
    "plt.hist(df[\"race\"])"
   ]
  },
  {
   "cell_type": "code",
   "execution_count": 51,
   "id": "4e33b467",
   "metadata": {},
   "outputs": [
    {
     "data": {
      "text/plain": [
       "(array([32614.,     0.,     0.,     0.,     0.,     0.,     0.,     0.,\n",
       "            0., 16176.]),\n",
       " array([0. , 0.1, 0.2, 0.3, 0.4, 0.5, 0.6, 0.7, 0.8, 0.9, 1. ]),\n",
       " <BarContainer object of 10 artists>)"
      ]
     },
     "execution_count": 51,
     "metadata": {},
     "output_type": "execute_result"
    },
    {
     "data": {
      "image/png": "[encoded data removed]",
      "text/plain": [
       "<Figure size 432x288 with 1 Axes>"
      ]
     },
     "metadata": {
      "needs_background": "light"
     },
     "output_type": "display_data"
    }
   ],
   "source": [
    "plt.hist(df[\"gender\"])"
   ]
  },
  {
   "cell_type": "code",
   "execution_count": 93,
   "id": "9381a99c",
   "metadata": {},
   "outputs": [
    {
     "data": {
      "text/plain": [
       "<AxesSubplot:xlabel='count', ylabel='native-country'>"
      ]
     },
     "execution_count": 93,
     "metadata": {},
     "output_type": "execute_result"
    },
    {
     "data": {
      "image/png": "[encoded data removed]",
      "text/plain": [
       "<Figure size 720x720 with 1 Axes>"
      ]
     },
     "metadata": {
      "needs_background": "light"
     },
     "output_type": "display_data"
    }
   ],
   "source": [
    "plt.figure(figsize=(10,10))\n",
    "sns.countplot(y=cat_data['native-country'])"
   ]
  },
  {
   "cell_type": "code",
   "execution_count": null,
   "id": "4cf18b32",
   "metadata": {},
   "outputs": [],
   "source": []
  },
  {
   "cell_type": "code",
   "execution_count": null,
   "id": "a7f5a2b5",
   "metadata": {},
   "outputs": [],
   "source": []
  },
  {
   "cell_type": "markdown",
   "id": "e3d07a4e",
   "metadata": {},
   "source": [
    "Analysing Categorical Columns"
   ]
  },
  {
   "cell_type": "code",
   "execution_count": 59,
   "id": "09831c41",
   "metadata": {},
   "outputs": [
    {
     "data": {
      "image/png": "[encoded data removed]",
      "text/plain": [
       "<Figure size 1440x432 with 2 Axes>"
      ]
     },
     "metadata": {
      "needs_background": "light"
     },
     "output_type": "display_data"
    }
   ],
   "source": [
    "plt.figure(figsize=(20,6))\n",
    "plt.subplot(121)\n",
    "ax=sns.countplot(x=\"gender\",data=df,palette=\"rainbow\")\n",
    "plt.subplot(122)\n",
    "ax=sns.countplot(x=\"income\",data=df,palette=\"rainbow\")\n",
    "     "
   ]
  },
  {
   "cell_type": "markdown",
   "id": "d9e60b2d",
   "metadata": {},
   "source": [
    "Male have higher frequency as compared to Female and Frequency of male and female who is having less then 50K income is high"
   ]
  },
  {
   "cell_type": "code",
   "execution_count": 61,
   "id": "4717516c",
   "metadata": {},
   "outputs": [
    {
     "data": {
      "text/plain": [
       "<AxesSubplot:xlabel='gender,income'>"
      ]
     },
     "execution_count": 61,
     "metadata": {},
     "output_type": "execute_result"
    },
    {
     "data": {
      "image/png": "[encoded data removed]",
      "text/plain": [
       "<Figure size 1080x432 with 1 Axes>"
      ]
     },
     "metadata": {
      "needs_background": "light"
     },
     "output_type": "display_data"
    }
   ],
   "source": [
    "dwf = df.groupby([\"gender\",\"income\"])[[\"gender\"]].count()\n",
    "dwf.rename(columns = {\"gender\":\"gc_count\"}, inplace=True)\n",
    "dwf.sort_values(\"gc_count\", inplace=True, ascending=False)\n",
    "dwf.plot(kind=\"bar\", figsize=(15,6))"
   ]
  },
  {
   "cell_type": "code",
   "execution_count": 63,
   "id": "556d8977",
   "metadata": {},
   "outputs": [
    {
     "data": {
      "image/png": "[encoded data removed]",
      "text/plain": [
       "<Figure size 2520x432 with 2 Axes>"
      ]
     },
     "metadata": {
      "needs_background": "light"
     },
     "output_type": "display_data"
    }
   ],
   "source": [
    "plt.figure(figsize=(35,6))\n",
    "plt.subplot(121)\n",
    "ax = sns.countplot(x=\"workclass\", hue=\"gender\", data=df, palette=\"rainbow\")\n",
    "plt.subplot(122)\n",
    "ax = sns.countplot(x=\"workclass\", hue=\"income\", data=df, palette=\"rainbow\")"
   ]
  },
  {
   "cell_type": "markdown",
   "id": "f9f3fee6",
   "metadata": {},
   "source": [
    "According to the dataset, workclass with respect to gender and income \"private\" sectoe have high frequency in both"
   ]
  },
  {
   "cell_type": "code",
   "execution_count": 171,
   "id": "b07c2b07",
   "metadata": {},
   "outputs": [
    {
     "data": {
      "text/plain": [
       "<AxesSubplot:xlabel='gender,income,workclass'>"
      ]
     },
     "execution_count": 171,
     "metadata": {},
     "output_type": "execute_result"
    },
    {
     "data": {
      "image/png": "[encoded data removed]",
      "text/plain": [
       "<Figure size 1080x432 with 1 Axes>"
      ]
     },
     "metadata": {
      "needs_background": "light"
     },
     "output_type": "display_data"
    }
   ],
   "source": [
    "dwf = df.groupby([\"gender\",\"income\",\"workclass\"])[[\"workclass\"]].count()\n",
    "dwf.rename(columns={\"workclass\":\"wc_count\"}, inplace=True)\n",
    "dwf.sort_values(\"wc_count\", inplace=True, ascending=False)\n",
    "dwf.plot(kind=\"bar\", figsize=(15,6))"
   ]
  },
  {
   "cell_type": "code",
   "execution_count": 69,
   "id": "30b82759",
   "metadata": {},
   "outputs": [
    {
     "data": {
      "image/png": "[encoded data removed]",
      "text/plain": [
       "<Figure size 2520x432 with 2 Axes>"
      ]
     },
     "metadata": {
      "needs_background": "light"
     },
     "output_type": "display_data"
    }
   ],
   "source": [
    "plt.figure(figsize=(35,6))\n",
    "plt.subplot(121)\n",
    "ax=sns.countplot(x=\"race\", hue=\"gender\", data=df, palette=\"rainbow\")\n",
    "plt.subplot(122)\n",
    "ax=sns.countplot(x=\"race\",data=df, hue=\"income\",palette=\"rainbow\")"
   ]
  },
  {
   "cell_type": "markdown",
   "id": "619a57dd",
   "metadata": {},
   "source": [
    "Here we can observe that Males in white Race have more frequency and also they have income <50K and we can also see above most Males belong to private  lass. So we assume that White Males in Private Class have more Frequency of income being <50K"
   ]
  },
  {
   "cell_type": "markdown",
   "id": "c1f41602",
   "metadata": {},
   "source": []
  },
  {
   "cell_type": "markdown",
   "id": "d3a9cc41",
   "metadata": {},
   "source": [
    "Now lets look at Education with respect to Gender and Income"
   ]
  },
  {
   "cell_type": "code",
   "execution_count": 73,
   "id": "fed0d0e2",
   "metadata": {},
   "outputs": [
    {
     "data": {
      "image/png": "[encoded data removed]",
      "text/plain": [
       "<Figure size 2520x432 with 2 Axes>"
      ]
     },
     "metadata": {
      "needs_background": "light"
     },
     "output_type": "display_data"
    }
   ],
   "source": [
    "plt.figure(figsize=(35,6))\n",
    "plt.subplot(121)\n",
    "ax = sns.countplot(x=\"education\", hue=\"gender\", data=df, palette=\"rainbow\")\n",
    "plt.subplot(122)\n",
    "ax = sns.countplot(x=\"education\", data=df, hue=\"income\", palette=\"rainbow\")"
   ]
  },
  {
   "cell_type": "markdown",
   "id": "836ef5d3",
   "metadata": {},
   "source": [
    "More Males belonging to Private Workspace and HS grade have income <50K"
   ]
  },
  {
   "cell_type": "markdown",
   "id": "cbe153ca",
   "metadata": {},
   "source": [
    "Marital Status with respect to Gender and Income"
   ]
  },
  {
   "cell_type": "code",
   "execution_count": 74,
   "id": "8996e0f7",
   "metadata": {},
   "outputs": [
    {
     "data": {
      "image/png": "[encoded data removed]",
      "text/plain": [
       "<Figure size 2520x432 with 2 Axes>"
      ]
     },
     "metadata": {
      "needs_background": "light"
     },
     "output_type": "display_data"
    }
   ],
   "source": [
    "plt.figure(figsize=(35,6))\n",
    "plt.subplot(121)\n",
    "ax=sns.countplot(x=\"marital-status\", hue=\"gender\", data=df, palette=\"rainbow\")\n",
    "plt.subplot(122)\n",
    "ax=sns.countplot(x=\"marital-status\", hue=\"income\", data=df, palette=\"rainbow\")"
   ]
  },
  {
   "cell_type": "markdown",
   "id": "1bb1f0a2",
   "metadata": {},
   "source": [
    "From above graphs we can conclude that Males who aren't married have high frequency of income and those who are married-civ-spouse have higher counts."
   ]
  },
  {
   "cell_type": "code",
   "execution_count": 75,
   "id": "46495fd8",
   "metadata": {},
   "outputs": [
    {
     "data": {
      "image/png": "[encoded data removed]",
      "text/plain": [
       "<Figure size 2520x432 with 2 Axes>"
      ]
     },
     "metadata": {
      "needs_background": "light"
     },
     "output_type": "display_data"
    }
   ],
   "source": [
    "plt.figure(figsize=(35,6))\n",
    "plt.subplot(121)\n",
    "ax=sns.countplot(x=\"relationship\", hue=\"gender\", data=df, palette=\"rainbow\")\n",
    "plt.subplot(122)\n",
    "ax=sns.countplot(x=\"relationship\", hue=\"income\", data=df, palette=\"rainbow\")\n"
   ]
  },
  {
   "cell_type": "code",
   "execution_count": 82,
   "id": "f1ccdf43",
   "metadata": {},
   "outputs": [
    {
     "data": {
      "image/png": "[encoded data removed]",
      "text/plain": [
       "<Figure size 3240x432 with 2 Axes>"
      ]
     },
     "metadata": {
      "needs_background": "light"
     },
     "output_type": "display_data"
    }
   ],
   "source": [
    "plt.figure(figsize=(45,6))\n",
    "plt.subplot(121)\n",
    "ax = sns.countplot(x=\"occupation\", hue=\"gender\", data=df, palette=\"rainbow\")\n",
    "plt.subplot(122)\n",
    "ax = sns.countplot(x=\"occupation\", hue=\"income\", data=df, palette=\"rainbow\")"
   ]
  },
  {
   "cell_type": "markdown",
   "id": "cf8f0cb3",
   "metadata": {},
   "source": [
    "Now lets us observe that which country they beongs wrt to Gender and Income"
   ]
  },
  {
   "cell_type": "code",
   "execution_count": 85,
   "id": "dbc76acd",
   "metadata": {},
   "outputs": [
    {
     "data": {
      "image/png": "[encoded data removed]",
      "text/plain": [
       "<Figure size 7200x2160 with 2 Axes>"
      ]
     },
     "metadata": {
      "needs_background": "light"
     },
     "output_type": "display_data"
    }
   ],
   "source": [
    "plt.figure(figsize=(100,30))\n",
    "plt.subplot(121)\n",
    "ax=sns.countplot(x=\"native-country\", hue=\"gender\", data=df, palette=\"rainbow\")\n",
    "plt.subplot(122)\n",
    "ax=sns.countplot(x=\"native-country\", hue=\"income\", data=df, palette=\"rainbow\")"
   ]
  },
  {
   "cell_type": "code",
   "execution_count": null,
   "id": "39dd60d9",
   "metadata": {},
   "outputs": [],
   "source": []
  },
  {
   "cell_type": "code",
   "execution_count": null,
   "id": "b1245355",
   "metadata": {},
   "outputs": [],
   "source": []
  },
  {
   "cell_type": "code",
   "execution_count": null,
   "id": "fd8c1433",
   "metadata": {},
   "outputs": [],
   "source": []
  },
  {
   "cell_type": "code",
   "execution_count": null,
   "id": "5e302628",
   "metadata": {},
   "outputs": [],
   "source": []
  },
  {
   "cell_type": "code",
   "execution_count": null,
   "id": "0b165ef8",
   "metadata": {},
   "outputs": [],
   "source": []
  },
  {
   "cell_type": "code",
   "execution_count": 77,
   "id": "316c1dcb",
   "metadata": {},
   "outputs": [
    {
     "data": {
      "image/png": "[encoded data removed]",
      "text/plain": [
       "<Figure size 2880x2880 with 7 Axes>"
      ]
     },
     "metadata": {
      "needs_background": "light"
     },
     "output_type": "display_data"
    }
   ],
   "source": [
    "plt.subplots(figsize=(40,40))\n",
    "count = 1\n",
    "for i in range(len(num_data.columns)-1):\n",
    "    plt.subplot(20,4,count)\n",
    "    sns.scatterplot(x=num_data.columns[i], y=num_data.columns[i+1], data=num_data, color=\"blue\")\n",
    "    count += 1\n",
    "    \n",
    "plt.show()"
   ]
  },
  {
   "cell_type": "code",
   "execution_count": null,
   "id": "0b7d7738",
   "metadata": {},
   "outputs": [],
   "source": []
  },
  {
   "cell_type": "markdown",
   "id": "fd324218",
   "metadata": {},
   "source": [
    "Relational Boxplot"
   ]
  },
  {
   "cell_type": "code",
   "execution_count": 94,
   "id": "4e456542",
   "metadata": {},
   "outputs": [
    {
     "data": {
      "image/png": "[encoded data removed]",
      "text/plain": [
       "<Figure size 720x720 with 1 Axes>"
      ]
     },
     "metadata": {
      "needs_background": "light"
     },
     "output_type": "display_data"
    }
   ],
   "source": [
    "fig = plt.figure(figsize=(10,10))\n",
    "sns.boxplot(x=\"income\", y=\"age\", data=df).set_title(\"Boxplot of Age and Income\")\n",
    "plt.show()"
   ]
  },
  {
   "cell_type": "code",
   "execution_count": null,
   "id": "80cf20a1",
   "metadata": {},
   "outputs": [],
   "source": []
  },
  {
   "cell_type": "code",
   "execution_count": null,
   "id": "a6919411",
   "metadata": {},
   "outputs": [],
   "source": []
  },
  {
   "cell_type": "code",
   "execution_count": null,
   "id": "3d23c3eb",
   "metadata": {},
   "outputs": [],
   "source": []
  },
  {
   "cell_type": "markdown",
   "id": "59fabf57",
   "metadata": {},
   "source": [
    "Hypothesis Testing"
   ]
  },
  {
   "cell_type": "code",
   "execution_count": 95,
   "id": "ac7d901f",
   "metadata": {},
   "outputs": [
    {
     "data": {
      "text/html": [
       "<div>\n",
       "<style scoped>\n",
       "    .dataframe tbody tr th:only-of-type {\n",
       "        vertical-align: middle;\n",
       "    }\n",
       "\n",
       "    .dataframe tbody tr th {\n",
       "        vertical-align: top;\n",
       "    }\n",
       "\n",
       "    .dataframe thead th {\n",
       "        text-align: right;\n",
       "    }\n",
       "</style>\n",
       "<table border=\"1\" class=\"dataframe\">\n",
       "  <thead>\n",
       "    <tr style=\"text-align: right;\">\n",
       "      <th>gender</th>\n",
       "      <th>Female</th>\n",
       "      <th>Male</th>\n",
       "    </tr>\n",
       "    <tr>\n",
       "      <th>income</th>\n",
       "      <th></th>\n",
       "      <th></th>\n",
       "    </tr>\n",
       "  </thead>\n",
       "  <tbody>\n",
       "    <tr>\n",
       "      <th>0</th>\n",
       "      <td>14407</td>\n",
       "      <td>22702</td>\n",
       "    </tr>\n",
       "    <tr>\n",
       "      <th>1</th>\n",
       "      <td>1769</td>\n",
       "      <td>9912</td>\n",
       "    </tr>\n",
       "  </tbody>\n",
       "</table>\n",
       "</div>"
      ],
      "text/plain": [
       "gender  Female   Male\n",
       "income               \n",
       "0        14407  22702\n",
       "1         1769   9912"
      ]
     },
     "execution_count": 95,
     "metadata": {},
     "output_type": "execute_result"
    }
   ],
   "source": [
    "#defining the cross table\n",
    "cross_tab = pd.crosstab(df[\"income\"], df[\"gender\"])\n",
    "cross_tab"
   ]
  },
  {
   "cell_type": "code",
   "execution_count": 97,
   "id": "34b88fde",
   "metadata": {},
   "outputs": [
    {
     "name": "stdout",
     "output_type": "stream",
     "text": [
      "p_value =  0.0\n",
      "0.0 <= 0.05\n",
      "Female income is more than man income. So we reject the Null Hypothesis\n"
     ]
    }
   ],
   "source": [
    "from scipy.stats import chi2_contingency\n",
    "\n",
    "stat, p, dof, expected = chi2_contingency(cross_tab)\n",
    "\n",
    "alpha = 0.05\n",
    "print(\"p_value = \", p)\n",
    "\n",
    "if p<=alpha:\n",
    "    print(p, \"<=\", alpha)\n",
    "    print(\"Female income is more than man income. So we reject the Null Hypothesis\")\n",
    "else:\n",
    "    print(\"Female income is more than Man's income\")"
   ]
  },
  {
   "cell_type": "code",
   "execution_count": null,
   "id": "1b83b08d",
   "metadata": {},
   "outputs": [],
   "source": []
  },
  {
   "cell_type": "markdown",
   "id": "417874b9",
   "metadata": {},
   "source": [
    "Z-score method"
   ]
  },
  {
   "cell_type": "code",
   "execution_count": 99,
   "id": "7cd12b0e",
   "metadata": {},
   "outputs": [
    {
     "name": "stdout",
     "output_type": "stream",
     "text": [
      "Outliers:  [537222, 513100, 512864, 599057, 542610, 652784, 573446, 662460, 629900, 509364, 632733, 560313, 651702, 644278, 535852, 522241, 581128, 608881, 914061, 624006, 510072, 593246, 714597, 816750, 552529, 575172, 622192, 566066, 614113, 548568, 565769, 789600, 864960, 723746, 692831, 535869, 638116, 698039, 677398, 547931, 666014, 765214, 761800, 1047822, 544319, 617917, 522881, 750972, 520231, 589155, 538193, 588739, 588484, 528618, 806552, 858091, 663291, 581025, 656488, 557349, 655066, 737315, 541755, 594521, 589838, 605504, 558752, 772919, 884434, 604045, 697806, 632271, 587310, 538243, 1490400, 768659, 764638, 517995, 718736, 547108, 882849, 746660, 786418, 565313, 653215, 576645, 510643, 538099, 539019, 531055, 594187, 685955, 548361, 606111, 592029, 513977, 647591, 566066, 553588, 624572, 535740, 607118, 580591, 557853, 635913, 557805, 626493, 914061, 557349, 953588, 558344, 590204, 679853, 516701, 535762, 814850, 874728, 506830, 594194, 538583, 602513, 589809, 507492, 546118, 530099, 1117718, 849067, 590941, 572285, 608441, 720428, 557359, 590522, 513440, 744929, 534775, 511231, 598995, 525848, 913447, 584259, 694105, 606347, 1024535, 811615, 533660, 1210504, 513977, 553405, 742903, 553405, 535027, 513719, 618130, 542762, 771836, 618808, 573446, 532969, 607658, 544091, 507875, 633742, 523910, 635913, 538583, 860348, 1033222, 543162, 556660, 680390, 543028, 526968, 767403, 520586, 795830, 509350, 563883, 910398, 538319, 508336, 672412, 549430, 519627, 675421, 758700, 509364, 509364, 656036, 566117, 548510, 545483, 573583, 511361, 716416, 637222, 664821, 598606, 572751, 580248, 519006, 617021, 596776, 588905, 517995, 640383, 611029, 549341, 746786, 550848, 510072, 511331, 656036, 688355, 587310, 628797, 632613, 516337, 571853, 1184622, 913447, 632593, 595000, 703067, 749105, 543922, 549349, 562558, 642830, 523095, 704108, 557082, 506858, 537222, 595000, 577521, 604506, 564135, 512103, 716066, 525878, 538443, 528616, 515025, 659273, 541737, 972354, 608184, 586657, 1226583, 664670, 561334, 791084, 917220, 508548, 511289, 512992, 637080, 671292, 517000, 548361, 648223, 522881, 745768, 523067, 508891, 647882, 569761, 585203, 539563, 1038553, 567788, 732569, 721161, 509629, 553473, 560804, 528616, 607848, 514033, 558183, 541282, 518030, 548580, 526528, 586657, 581071, 575442, 554986, 592930, 632834, 849857, 558944, 691903, 684015, 530099, 554317, 695136, 698418, 526968, 548303, 529216, 526164, 734193, 737315, 544686, 548361, 556652, 691830, 520775, 607799, 660870, 532379, 529104, 680390, 857532, 1484705, 755858, 523484, 654141, 930948, 664366, 515629, 606111, 509364, 634226, 568490, 1268339, 698363, 617860, 615893, 565313, 591711, 520231, 536725, 511517, 1366120, 593246, 529223, 651396, 517036, 529216, 526734, 543042, 631947, 540712, 549174, 806552, 604537, 1455435, 659504, 556688, 750972, 607848, 548256, 552354, 561489, 578377, 509500, 889965, 507086, 659558, 609935, 521400, 608184, 513660, 615367, 557236, 562336, 520078, 660461, 533147, 617898, 953588, 609789, 598995, 609789, 663394, 530454, 543477, 556902, 732102, 548256, 709445, 609789, 570821, 636017, 703107, 544792, 595088, 607848, 527162, 566049, 602513, 509060, 520033, 554206, 520759, 694812, 578701, 549413, 598802, 511289, 806316, 541343, 1033222, 599629, 571017, 738812, 618191, 544268, 557853, 535978, 668319, 682947, 574271, 816750, 597843, 595461, 553405, 704108, 515712, 551962, 572751, 745817, 1161363, 673764, 588484, 809585, 574271, 594187, 509462, 548664, 558490, 509048, 653574, 706026, 511068, 513416, 535978, 721712, 615367, 549174, 1097453, 515797, 510072, 570562, 1085515, 511668, 521665, 548361, 591711, 518530, 594187, 509866, 695411, 761006, 506830, 574005, 604045, 605502, 589809, 588003, 509629, 709798, 561334, 570002, 1125613, 532845, 604380, 583755, 510072, 557349, 609789, 557644, 706180, 606752, 673764, 547886, 554206, 584790, 799281, 657397, 512771, 512828, 531055, 653574, 745768, 857532, 715938, 747719, 569930, 585361, 543922, 766115, 584259, 538822, 542265, 749636, 668362, 981628, 746432, 566537, 693066, 539864, 514716]\n"
     ]
    }
   ],
   "source": [
    "output = []\n",
    "def z_score_outliers(df):\n",
    "    mean = np.mean(df)\n",
    "    std_dev = np.std(df)\n",
    "    for i in df:\n",
    "        z = (i-mean)/std_dev\n",
    "        if np.abs(z)>3:\n",
    "            output.append(i)\n",
    "    print(\"Outliers: \", output)\n",
    "    \n",
    "z_score_outliers(df[\"fnlwgt\"])"
   ]
  },
  {
   "cell_type": "code",
   "execution_count": 100,
   "id": "e400bc70",
   "metadata": {},
   "outputs": [
    {
     "name": "stdout",
     "output_type": "stream",
     "text": [
      "Outliers:  [537222, 513100, 512864, 599057, 542610, 652784, 573446, 662460, 629900, 509364, 632733, 560313, 651702, 644278, 535852, 522241, 581128, 608881, 914061, 624006, 510072, 593246, 714597, 816750, 552529, 575172, 622192, 566066, 614113, 548568, 565769, 789600, 864960, 723746, 692831, 535869, 638116, 698039, 677398, 547931, 666014, 765214, 761800, 1047822, 544319, 617917, 522881, 750972, 520231, 589155, 538193, 588739, 588484, 528618, 806552, 858091, 663291, 581025, 656488, 557349, 655066, 737315, 541755, 594521, 589838, 605504, 558752, 772919, 884434, 604045, 697806, 632271, 587310, 538243, 1490400, 768659, 764638, 517995, 718736, 547108, 882849, 746660, 786418, 565313, 653215, 576645, 510643, 538099, 539019, 531055, 594187, 685955, 548361, 606111, 592029, 513977, 647591, 566066, 553588, 624572, 535740, 607118, 580591, 557853, 635913, 557805, 626493, 914061, 557349, 953588, 558344, 590204, 679853, 516701, 535762, 814850, 874728, 506830, 594194, 538583, 602513, 589809, 507492, 546118, 530099, 1117718, 849067, 590941, 572285, 608441, 720428, 557359, 590522, 513440, 744929, 534775, 511231, 598995, 525848, 913447, 584259, 694105, 606347, 1024535, 811615, 533660, 1210504, 513977, 553405, 742903, 553405, 535027, 513719, 618130, 542762, 771836, 618808, 573446, 532969, 607658, 544091, 507875, 633742, 523910, 635913, 538583, 860348, 1033222, 543162, 556660, 680390, 543028, 526968, 767403, 520586, 795830, 509350, 563883, 910398, 538319, 508336, 672412, 549430, 519627, 675421, 758700, 509364, 509364, 656036, 566117, 548510, 545483, 573583, 511361, 716416, 637222, 664821, 598606, 572751, 580248, 519006, 617021, 596776, 588905, 517995, 640383, 611029, 549341, 746786, 550848, 510072, 511331, 656036, 688355, 587310, 628797, 632613, 516337, 571853, 1184622, 913447, 632593, 595000, 703067, 749105, 543922, 549349, 562558, 642830, 523095, 704108, 557082, 506858, 537222, 595000, 577521, 604506, 564135, 512103, 716066, 525878, 538443, 528616, 515025, 659273, 541737, 972354, 608184, 586657, 1226583, 664670, 561334, 791084, 917220, 508548, 511289, 512992, 637080, 671292, 517000, 548361, 648223, 522881, 745768, 523067, 508891, 647882, 569761, 585203, 539563, 1038553, 567788, 732569, 721161, 509629, 553473, 560804, 528616, 607848, 514033, 558183, 541282, 518030, 548580, 526528, 586657, 581071, 575442, 554986, 592930, 632834, 849857, 558944, 691903, 684015, 530099, 554317, 695136, 698418, 526968, 548303, 529216, 526164, 734193, 737315, 544686, 548361, 556652, 691830, 520775, 607799, 660870, 532379, 529104, 680390, 857532, 1484705, 755858, 523484, 654141, 930948, 664366, 515629, 606111, 509364, 634226, 568490, 1268339, 698363, 617860, 615893, 565313, 591711, 520231, 536725, 511517, 1366120, 593246, 529223, 651396, 517036, 529216, 526734, 543042, 631947, 540712, 549174, 806552, 604537, 1455435, 659504, 556688, 750972, 607848, 548256, 552354, 561489, 578377, 509500, 889965, 507086, 659558, 609935, 521400, 608184, 513660, 615367, 557236, 562336, 520078, 660461, 533147, 617898, 953588, 609789, 598995, 609789, 663394, 530454, 543477, 556902, 732102, 548256, 709445, 609789, 570821, 636017, 703107, 544792, 595088, 607848, 527162, 566049, 602513, 509060, 520033, 554206, 520759, 694812, 578701, 549413, 598802, 511289, 806316, 541343, 1033222, 599629, 571017, 738812, 618191, 544268, 557853, 535978, 668319, 682947, 574271, 816750, 597843, 595461, 553405, 704108, 515712, 551962, 572751, 745817, 1161363, 673764, 588484, 809585, 574271, 594187, 509462, 548664, 558490, 509048, 653574, 706026, 511068, 513416, 535978, 721712, 615367, 549174, 1097453, 515797, 510072, 570562, 1085515, 511668, 521665, 548361, 591711, 518530, 594187, 509866, 695411, 761006, 506830, 574005, 604045, 605502, 589809, 588003, 509629, 709798, 561334, 570002, 1125613, 532845, 604380, 583755, 510072, 557349, 609789, 557644, 706180, 606752, 673764, 547886, 554206, 584790, 799281, 657397, 512771, 512828, 531055, 653574, 745768, 857532, 715938, 747719, 569930, 585361, 543922, 766115, 584259, 538822, 542265, 749636, 668362, 981628, 746432, 566537, 693066, 539864, 514716, 2, 2, 2, 1, 1, 2, 2, 1, 1, 2, 2, 2, 1, 1, 2, 2, 2, 1, 2, 1, 2, 1, 2, 2, 1, 2, 2, 2, 2, 1, 2, 2, 1, 2, 1, 2, 2, 2, 2, 2, 2, 2, 1, 2, 2, 2, 2, 1, 2, 2, 2, 2, 1, 2, 1, 1, 2, 2, 1, 1, 2, 2, 2, 2, 2, 2, 2, 2, 2, 2, 2, 2, 2, 1, 2, 2, 2, 1, 1, 2, 1, 2, 2, 1, 2, 1, 2, 2, 2, 2, 2, 2, 2, 2, 2, 2, 2, 1, 1, 2, 2, 1, 2, 2, 2, 2, 1, 1, 2, 2, 1, 2, 2, 1, 2, 2, 2, 2, 2, 1, 2, 2, 2, 2, 2, 2, 2, 2, 2, 1, 1, 2, 1, 1, 2, 1, 2, 2, 2, 2, 2, 2, 2, 2, 2, 2, 2, 2, 2, 2, 1, 1, 1, 1, 2, 2, 2, 2, 2, 1, 1, 1, 2, 2, 2, 2, 1, 2, 2, 2, 2, 2, 2, 2, 2, 2, 1, 2, 2, 2, 2, 1, 2, 2, 1, 1, 2, 2, 2, 2, 2, 2, 2, 1, 2, 2, 2, 2, 2, 2, 2, 2, 2, 2, 2, 2, 2, 2, 2, 2, 2, 2, 2, 1, 1, 2, 2, 2, 2, 2, 2, 2, 1, 2, 2, 2, 2, 2, 2, 2, 2, 2, 2, 2, 1, 2, 2, 2, 1, 1, 2, 2, 1, 1, 2, 2, 1, 2, 2, 1, 2, 1, 2, 2, 2, 2, 2, 1, 2, 2, 1, 1, 2, 1, 1, 1, 2, 1, 2, 1, 2, 2, 1, 1, 2, 2, 2, 2, 1, 2, 1, 2, 2, 2, 2, 2, 2, 2, 2, 1, 2, 2, 2, 2, 2, 2, 2, 2, 2, 2, 2, 2, 2, 2, 2, 2, 2, 2, 2, 2, 2, 2, 2, 2, 1, 2, 2, 2, 1, 2, 1, 2, 1, 2, 2, 1]\n"
     ]
    }
   ],
   "source": [
    "z_score_outliers(df[\"educational-num\"])"
   ]
  },
  {
   "cell_type": "code",
   "execution_count": 101,
   "id": "225c7984",
   "metadata": {},
   "outputs": [
    {
     "name": "stdout",
     "output_type": "stream",
     "text": [
      "Outliers:  [537222, 513100, 512864, 599057, 542610, 652784, 573446, 662460, 629900, 509364, 632733, 560313, 651702, 644278, 535852, 522241, 581128, 608881, 914061, 624006, 510072, 593246, 714597, 816750, 552529, 575172, 622192, 566066, 614113, 548568, 565769, 789600, 864960, 723746, 692831, 535869, 638116, 698039, 677398, 547931, 666014, 765214, 761800, 1047822, 544319, 617917, 522881, 750972, 520231, 589155, 538193, 588739, 588484, 528618, 806552, 858091, 663291, 581025, 656488, 557349, 655066, 737315, 541755, 594521, 589838, 605504, 558752, 772919, 884434, 604045, 697806, 632271, 587310, 538243, 1490400, 768659, 764638, 517995, 718736, 547108, 882849, 746660, 786418, 565313, 653215, 576645, 510643, 538099, 539019, 531055, 594187, 685955, 548361, 606111, 592029, 513977, 647591, 566066, 553588, 624572, 535740, 607118, 580591, 557853, 635913, 557805, 626493, 914061, 557349, 953588, 558344, 590204, 679853, 516701, 535762, 814850, 874728, 506830, 594194, 538583, 602513, 589809, 507492, 546118, 530099, 1117718, 849067, 590941, 572285, 608441, 720428, 557359, 590522, 513440, 744929, 534775, 511231, 598995, 525848, 913447, 584259, 694105, 606347, 1024535, 811615, 533660, 1210504, 513977, 553405, 742903, 553405, 535027, 513719, 618130, 542762, 771836, 618808, 573446, 532969, 607658, 544091, 507875, 633742, 523910, 635913, 538583, 860348, 1033222, 543162, 556660, 680390, 543028, 526968, 767403, 520586, 795830, 509350, 563883, 910398, 538319, 508336, 672412, 549430, 519627, 675421, 758700, 509364, 509364, 656036, 566117, 548510, 545483, 573583, 511361, 716416, 637222, 664821, 598606, 572751, 580248, 519006, 617021, 596776, 588905, 517995, 640383, 611029, 549341, 746786, 550848, 510072, 511331, 656036, 688355, 587310, 628797, 632613, 516337, 571853, 1184622, 913447, 632593, 595000, 703067, 749105, 543922, 549349, 562558, 642830, 523095, 704108, 557082, 506858, 537222, 595000, 577521, 604506, 564135, 512103, 716066, 525878, 538443, 528616, 515025, 659273, 541737, 972354, 608184, 586657, 1226583, 664670, 561334, 791084, 917220, 508548, 511289, 512992, 637080, 671292, 517000, 548361, 648223, 522881, 745768, 523067, 508891, 647882, 569761, 585203, 539563, 1038553, 567788, 732569, 721161, 509629, 553473, 560804, 528616, 607848, 514033, 558183, 541282, 518030, 548580, 526528, 586657, 581071, 575442, 554986, 592930, 632834, 849857, 558944, 691903, 684015, 530099, 554317, 695136, 698418, 526968, 548303, 529216, 526164, 734193, 737315, 544686, 548361, 556652, 691830, 520775, 607799, 660870, 532379, 529104, 680390, 857532, 1484705, 755858, 523484, 654141, 930948, 664366, 515629, 606111, 509364, 634226, 568490, 1268339, 698363, 617860, 615893, 565313, 591711, 520231, 536725, 511517, 1366120, 593246, 529223, 651396, 517036, 529216, 526734, 543042, 631947, 540712, 549174, 806552, 604537, 1455435, 659504, 556688, 750972, 607848, 548256, 552354, 561489, 578377, 509500, 889965, 507086, 659558, 609935, 521400, 608184, 513660, 615367, 557236, 562336, 520078, 660461, 533147, 617898, 953588, 609789, 598995, 609789, 663394, 530454, 543477, 556902, 732102, 548256, 709445, 609789, 570821, 636017, 703107, 544792, 595088, 607848, 527162, 566049, 602513, 509060, 520033, 554206, 520759, 694812, 578701, 549413, 598802, 511289, 806316, 541343, 1033222, 599629, 571017, 738812, 618191, 544268, 557853, 535978, 668319, 682947, 574271, 816750, 597843, 595461, 553405, 704108, 515712, 551962, 572751, 745817, 1161363, 673764, 588484, 809585, 574271, 594187, 509462, 548664, 558490, 509048, 653574, 706026, 511068, 513416, 535978, 721712, 615367, 549174, 1097453, 515797, 510072, 570562, 1085515, 511668, 521665, 548361, 591711, 518530, 594187, 509866, 695411, 761006, 506830, 574005, 604045, 605502, 589809, 588003, 509629, 709798, 561334, 570002, 1125613, 532845, 604380, 583755, 510072, 557349, 609789, 557644, 706180, 606752, 673764, 547886, 554206, 584790, 799281, 657397, 512771, 512828, 531055, 653574, 745768, 857532, 715938, 747719, 569930, 585361, 543922, 766115, 584259, 538822, 542265, 749636, 668362, 981628, 746432, 566537, 693066, 539864, 514716, 2, 2, 2, 1, 1, 2, 2, 1, 1, 2, 2, 2, 1, 1, 2, 2, 2, 1, 2, 1, 2, 1, 2, 2, 1, 2, 2, 2, 2, 1, 2, 2, 1, 2, 1, 2, 2, 2, 2, 2, 2, 2, 1, 2, 2, 2, 2, 1, 2, 2, 2, 2, 1, 2, 1, 1, 2, 2, 1, 1, 2, 2, 2, 2, 2, 2, 2, 2, 2, 2, 2, 2, 2, 1, 2, 2, 2, 1, 1, 2, 1, 2, 2, 1, 2, 1, 2, 2, 2, 2, 2, 2, 2, 2, 2, 2, 2, 1, 1, 2, 2, 1, 2, 2, 2, 2, 1, 1, 2, 2, 1, 2, 2, 1, 2, 2, 2, 2, 2, 1, 2, 2, 2, 2, 2, 2, 2, 2, 2, 1, 1, 2, 1, 1, 2, 1, 2, 2, 2, 2, 2, 2, 2, 2, 2, 2, 2, 2, 2, 2, 1, 1, 1, 1, 2, 2, 2, 2, 2, 1, 1, 1, 2, 2, 2, 2, 1, 2, 2, 2, 2, 2, 2, 2, 2, 2, 1, 2, 2, 2, 2, 1, 2, 2, 1, 1, 2, 2, 2, 2, 2, 2, 2, 1, 2, 2, 2, 2, 2, 2, 2, 2, 2, 2, 2, 2, 2, 2, 2, 2, 2, 2, 2, 1, 1, 2, 2, 2, 2, 2, 2, 2, 1, 2, 2, 2, 2, 2, 2, 2, 2, 2, 2, 2, 1, 2, 2, 2, 1, 1, 2, 2, 1, 1, 2, 2, 1, 2, 2, 1, 2, 1, 2, 2, 2, 2, 2, 1, 2, 2, 1, 1, 2, 1, 1, 1, 2, 1, 2, 1, 2, 2, 1, 1, 2, 2, 2, 2, 1, 2, 1, 2, 2, 2, 2, 2, 2, 2, 2, 1, 2, 2, 2, 2, 2, 2, 2, 2, 2, 2, 2, 2, 2, 2, 2, 2, 2, 2, 2, 2, 2, 2, 2, 2, 1, 2, 2, 2, 1, 2, 1, 2, 1, 2, 2, 1, 99999, 27828, 99999, 99999, 99999, 27828, 99999, 99999, 99999, 27828, 25236, 99999, 99999, 99999, 99999, 99999, 27828, 99999, 99999, 99999, 99999, 99999, 99999, 99999, 99999, 99999, 99999, 27828, 41310, 99999, 99999, 34095, 99999, 99999, 99999, 99999, 99999, 27828, 99999, 99999, 99999, 99999, 99999, 27828, 27828, 27828, 99999, 99999, 99999, 99999, 99999, 99999, 27828, 99999, 99999, 99999, 27828, 99999, 99999, 99999, 99999, 99999, 99999, 99999, 27828, 99999, 27828, 25124, 99999, 99999, 99999, 99999, 99999, 99999, 99999, 99999, 99999, 99999, 99999, 99999, 99999, 99999, 27828, 25236, 99999, 27828, 99999, 27828, 99999, 99999, 99999, 99999, 99999, 99999, 99999, 99999, 25236, 27828, 27828, 27828, 27828, 99999, 27828, 99999, 99999, 99999, 99999, 27828, 99999, 27828, 25124, 99999, 99999, 99999, 99999, 27828, 34095, 25236, 99999, 99999, 99999, 99999, 25124, 99999, 99999, 27828, 99999, 99999, 99999, 99999, 99999, 99999, 99999, 99999, 99999, 99999, 99999, 27828, 99999, 99999, 34095, 99999, 99999, 99999, 27828, 99999, 99999, 99999, 99999, 27828, 99999, 99999, 99999, 27828, 41310, 25236, 99999, 27828, 25236, 27828, 99999, 99999, 34095, 99999, 27828, 99999, 99999, 99999, 99999, 99999, 99999, 99999, 99999, 99999, 99999, 99999, 27828, 99999, 27828, 99999, 99999, 25236, 99999, 99999, 99999, 99999, 99999, 99999, 27828, 99999, 25236, 99999, 99999, 99999, 99999, 99999, 99999, 99999, 99999, 99999, 99999, 99999, 99999, 27828, 99999, 99999, 99999, 27828, 99999, 27828, 99999, 99999, 99999, 34095, 99999, 99999, 99999, 99999, 99999, 99999, 27828, 99999, 34095, 99999, 99999, 99999, 99999, 99999, 27828, 99999, 99999, 99999, 99999, 99999, 99999, 25124, 99999, 99999, 99999, 99999, 99999, 27828, 99999, 99999, 27828, 99999, 41310, 27828, 99999, 99999, 27828, 99999, 99999, 27828, 99999, 25236, 25236, 25236, 25124, 99999, 99999, 99999, 99999, 99999, 25124, 99999, 99999, 99999, 99999, 99999, 99999, 99999, 27828, 99999, 99999, 99999, 99999, 99999, 25236, 99999, 99999, 99999, 99999, 99999, 99999, 27828, 99999, 99999, 99999, 27828, 99999, 99999, 27828, 25236, 99999, 99999, 99999, 99999, 99999, 99999, 27828, 99999, 99999, 27828, 99999, 99999, 27828, 27828, 99999, 25236, 99999, 99999, 99999, 99999, 99999, 27828, 99999, 27828, 99999, 27828, 99999, 99999, 27828, 99999, 99999, 99999, 99999, 99999, 99999, 27828, 99999]\n"
     ]
    }
   ],
   "source": [
    "z_score_outliers(df[\"capital-gain\"])"
   ]
  },
  {
   "cell_type": "code",
   "execution_count": 102,
   "id": "33dcc292",
   "metadata": {},
   "outputs": [
    {
     "name": "stdout",
     "output_type": "stream",
     "text": [
      "Outliers:  [537222, 513100, 512864, 599057, 542610, 652784, 573446, 662460, 629900, 509364, 632733, 560313, 651702, 644278, 535852, 522241, 581128, 608881, 914061, 624006, 510072, 593246, 714597, 816750, 552529, 575172, 622192, 566066, 614113, 548568, 565769, 789600, 864960, 723746, 692831, 535869, 638116, 698039, 677398, 547931, 666014, 765214, 761800, 1047822, 544319, 617917, 522881, 750972, 520231, 589155, 538193, 588739, 588484, 528618, 806552, 858091, 663291, 581025, 656488, 557349, 655066, 737315, 541755, 594521, 589838, 605504, 558752, 772919, 884434, 604045, 697806, 632271, 587310, 538243, 1490400, 768659, 764638, 517995, 718736, 547108, 882849, 746660, 786418, 565313, 653215, 576645, 510643, 538099, 539019, 531055, 594187, 685955, 548361, 606111, 592029, 513977, 647591, 566066, 553588, 624572, 535740, 607118, 580591, 557853, 635913, 557805, 626493, 914061, 557349, 953588, 558344, 590204, 679853, 516701, 535762, 814850, 874728, 506830, 594194, 538583, 602513, 589809, 507492, 546118, 530099, 1117718, 849067, 590941, 572285, 608441, 720428, 557359, 590522, 513440, 744929, 534775, 511231, 598995, 525848, 913447, 584259, 694105, 606347, 1024535, 811615, 533660, 1210504, 513977, 553405, 742903, 553405, 535027, 513719, 618130, 542762, 771836, 618808, 573446, 532969, 607658, 544091, 507875, 633742, 523910, 635913, 538583, 860348, 1033222, 543162, 556660, 680390, 543028, 526968, 767403, 520586, 795830, 509350, 563883, 910398, 538319, 508336, 672412, 549430, 519627, 675421, 758700, 509364, 509364, 656036, 566117, 548510, 545483, 573583, 511361, 716416, 637222, 664821, 598606, 572751, 580248, 519006, 617021, 596776, 588905, 517995, 640383, 611029, 549341, 746786, 550848, 510072, 511331, 656036, 688355, 587310, 628797, 632613, 516337, 571853, 1184622, 913447, 632593, 595000, 703067, 749105, 543922, 549349, 562558, 642830, 523095, 704108, 557082, 506858, 537222, 595000, 577521, 604506, 564135, 512103, 716066, 525878, 538443, 528616, 515025, 659273, 541737, 972354, 608184, 586657, 1226583, 664670, 561334, 791084, 917220, 508548, 511289, 512992, 637080, 671292, 517000, 548361, 648223, 522881, 745768, 523067, 508891, 647882, 569761, 585203, 539563, 1038553, 567788, 732569, 721161, 509629, 553473, 560804, 528616, 607848, 514033, 558183, 541282, 518030, 548580, 526528, 586657, 581071, 575442, 554986, 592930, 632834, 849857, 558944, 691903, 684015, 530099, 554317, 695136, 698418, 526968, 548303, 529216, 526164, 734193, 737315, 544686, 548361, 556652, 691830, 520775, 607799, 660870, 532379, 529104, 680390, 857532, 1484705, 755858, 523484, 654141, 930948, 664366, 515629, 606111, 509364, 634226, 568490, 1268339, 698363, 617860, 615893, 565313, 591711, 520231, 536725, 511517, 1366120, 593246, 529223, 651396, 517036, 529216, 526734, 543042, 631947, 540712, 549174, 806552, 604537, 1455435, 659504, 556688, 750972, 607848, 548256, 552354, 561489, 578377, 509500, 889965, 507086, 659558, 609935, 521400, 608184, 513660, 615367, 557236, 562336, 520078, 660461, 533147, 617898, 953588, 609789, 598995, 609789, 663394, 530454, 543477, 556902, 732102, 548256, 709445, 609789, 570821, 636017, 703107, 544792, 595088, 607848, 527162, 566049, 602513, 509060, 520033, 554206, 520759, 694812, 578701, 549413, 598802, 511289, 806316, 541343, 1033222, 599629, 571017, 738812, 618191, 544268, 557853, 535978, 668319, 682947, 574271, 816750, 597843, 595461, 553405, 704108, 515712, 551962, 572751, 745817, 1161363, 673764, 588484, 809585, 574271, 594187, 509462, 548664, 558490, 509048, 653574, 706026, 511068, 513416, 535978, 721712, 615367, 549174, 1097453, 515797, 510072, 570562, 1085515, 511668, 521665, 548361, 591711, 518530, 594187, 509866, 695411, 761006, 506830, 574005, 604045, 605502, 589809, 588003, 509629, 709798, 561334, 570002, 1125613, 532845, 604380, 583755, 510072, 557349, 609789, 557644, 706180, 606752, 673764, 547886, 554206, 584790, 799281, 657397, 512771, 512828, 531055, 653574, 745768, 857532, 715938, 747719, 569930, 585361, 543922, 766115, 584259, 538822, 542265, 749636, 668362, 981628, 746432, 566537, 693066, 539864, 514716, 2, 2, 2, 1, 1, 2, 2, 1, 1, 2, 2, 2, 1, 1, 2, 2, 2, 1, 2, 1, 2, 1, 2, 2, 1, 2, 2, 2, 2, 1, 2, 2, 1, 2, 1, 2, 2, 2, 2, 2, 2, 2, 1, 2, 2, 2, 2, 1, 2, 2, 2, 2, 1, 2, 1, 1, 2, 2, 1, 1, 2, 2, 2, 2, 2, 2, 2, 2, 2, 2, 2, 2, 2, 1, 2, 2, 2, 1, 1, 2, 1, 2, 2, 1, 2, 1, 2, 2, 2, 2, 2, 2, 2, 2, 2, 2, 2, 1, 1, 2, 2, 1, 2, 2, 2, 2, 1, 1, 2, 2, 1, 2, 2, 1, 2, 2, 2, 2, 2, 1, 2, 2, 2, 2, 2, 2, 2, 2, 2, 1, 1, 2, 1, 1, 2, 1, 2, 2, 2, 2, 2, 2, 2, 2, 2, 2, 2, 2, 2, 2, 1, 1, 1, 1, 2, 2, 2, 2, 2, 1, 1, 1, 2, 2, 2, 2, 1, 2, 2, 2, 2, 2, 2, 2, 2, 2, 1, 2, 2, 2, 2, 1, 2, 2, 1, 1, 2, 2, 2, 2, 2, 2, 2, 1, 2, 2, 2, 2, 2, 2, 2, 2, 2, 2, 2, 2, 2, 2, 2, 2, 2, 2, 2, 1, 1, 2, 2, 2, 2, 2, 2, 2, 1, 2, 2, 2, 2, 2, 2, 2, 2, 2, 2, 2, 1, 2, 2, 2, 1, 1, 2, 2, 1, 1, 2, 2, 1, 2, 2, 1, 2, 1, 2, 2, 2, 2, 2, 1, 2, 2, 1, 1, 2, 1, 1, 1, 2, 1, 2, 1, 2, 2, 1, 1, 2, 2, 2, 2, 1, 2, 1, 2, 2, 2, 2, 2, 2, 2, 2, 1, 2, 2, 2, 2, 2, 2, 2, 2, 2, 2, 2, 2, 2, 2, 2, 2, 2, 2, 2, 2, 2, 2, 2, 2, 1, 2, 2, 2, 1, 2, 1, 2, 1, 2, 2, 1, 99999, 27828, 99999, 99999, 99999, 27828, 99999, 99999, 99999, 27828, 25236, 99999, 99999, 99999, 99999, 99999, 27828, 99999, 99999, 99999, 99999, 99999, 99999, 99999, 99999, 99999, 99999, 27828, 41310, 99999, 99999, 34095, 99999, 99999, 99999, 99999, 99999, 27828, 99999, 99999, 99999, 99999, 99999, 27828, 27828, 27828, 99999, 99999, 99999, 99999, 99999, 99999, 27828, 99999, 99999, 99999, 27828, 99999, 99999, 99999, 99999, 99999, 99999, 99999, 27828, 99999, 27828, 25124, 99999, 99999, 99999, 99999, 99999, 99999, 99999, 99999, 99999, 99999, 99999, 99999, 99999, 99999, 27828, 25236, 99999, 27828, 99999, 27828, 99999, 99999, 99999, 99999, 99999, 99999, 99999, 99999, 25236, 27828, 27828, 27828, 27828, 99999, 27828, 99999, 99999, 99999, 99999, 27828, 99999, 27828, 25124, 99999, 99999, 99999, 99999, 27828, 34095, 25236, 99999, 99999, 99999, 99999, 25124, 99999, 99999, 27828, 99999, 99999, 99999, 99999, 99999, 99999, 99999, 99999, 99999, 99999, 99999, 27828, 99999, 99999, 34095, 99999, 99999, 99999, 27828, 99999, 99999, 99999, 99999, 27828, 99999, 99999, 99999, 27828, 41310, 25236, 99999, 27828, 25236, 27828, 99999, 99999, 34095, 99999, 27828, 99999, 99999, 99999, 99999, 99999, 99999, 99999, 99999, 99999, 99999, 99999, 27828, 99999, 27828, 99999, 99999, 25236, 99999, 99999, 99999, 99999, 99999, 99999, 27828, 99999, 25236, 99999, 99999, 99999, 99999, 99999, 99999, 99999, 99999, 99999, 99999, 99999, 99999, 27828, 99999, 99999, 99999, 27828, 99999, 27828, 99999, 99999, 99999, 34095, 99999, 99999, 99999, 99999, 99999, 99999, 27828, 99999, 34095, 99999, 99999, 99999, 99999, 99999, 27828, 99999, 99999, 99999, 99999, 99999, 99999, 25124, 99999, 99999, 99999, 99999, 99999, 27828, 99999, 99999, 27828, 99999, 41310, 27828, 99999, 99999, 27828, 99999, 99999, 27828, 99999, 25236, 25236, 25236, 25124, 99999, 99999, 99999, 99999, 99999, 25124, 99999, 99999, 99999, 99999, 99999, 99999, 99999, 27828, 99999, 99999, 99999, 99999, 99999, 25236, 99999, 99999, 99999, 99999, 99999, 99999, 27828, 99999, 99999, 99999, 27828, 99999, 99999, 27828, 25236, 99999, 99999, 99999, 99999, 99999, 99999, 27828, 99999, 99999, 27828, 99999, 99999, 27828, 27828, 99999, 25236, 99999, 99999, 99999, 99999, 99999, 27828, 99999, 27828, 99999, 27828, 99999, 99999, 27828, 99999, 99999, 99999, 99999, 99999, 99999, 27828, 99999, 1721, 1876, 2415, 1887, 1887, 1887, 1887, 1977, 2057, 1429, 1590, 2057, 1721, 1887, 1485, 1485, 1977, 1887, 1721, 1887, 2051, 2377, 1672, 1628, 1902, 1672, 1602, 1902, 1590, 1977, 1741, 1887, 2444, 1876, 1902, 1408, 1902, 2001, 2001, 2415, 2042, 1740, 1876, 1825, 1902, 1887, 1977, 1887, 1902, 1887, 1902, 2415, 1848, 1719, 3004, 1590, 1977, 1887, 1977, 2001, 1902, 1977, 2179, 1902, 1573, 1429, 2205, 1977, 2339, 1887, 2339, 1726, 2258, 1672, 1590, 1887, 1340, 2415, 1602, 1504, 1887, 2415, 2559, 1977, 1848, 2258, 1902, 1887, 1668, 1974, 1977, 1741, 2205, 1980, 2051, 2377, 1902, 2444, 1564, 1408, 1902, 1977, 2547, 1902, 2002, 2057, 2001, 1977, 1977, 1628, 1902, 1876, 1848, 1719, 1669, 1902, 1902, 2339, 1902, 2339, 1902, 1887, 1902, 1887, 1719, 1429, 2001, 1485, 1902, 1980, 1504, 1887, 1902, 1977, 1617, 1741, 2051, 2205, 1980, 1902, 1887, 2205, 1721, 1602, 1573, 1977, 2415, 3175, 1668, 2472, 1669, 1602, 2057, 1504, 2174, 1902, 1902, 1579, 1902, 1741, 1902, 1902, 1579, 1590, 1977, 1848, 1977, 2444, 1719, 1485, 1590, 1887, 2179, 2415, 1902, 1974, 1564, 1902, 1628, 1590, 1848, 1977, 1485, 1887, 1740, 1977, 2339, 2129, 1510, 1902, 2001, 1719, 2444, 1669, 1408, 1902, 1887, 1887, 2002, 1735, 1902, 1902, 1564, 1876, 2205, 2339, 1669, 2444, 1902, 1741, 2339, 1887, 2415, 2282, 1980, 2205, 1977, 2129, 2559, 1876, 1887, 2444, 1672, 1485, 2559, 1740, 1504, 1887, 1887, 1902, 1740, 1977, 1902, 1887, 2339, 1870, 1977, 1902, 1977, 1411, 1628, 1887, 1911, 1902, 1887, 2444, 1980, 1651, 1485, 1887, 1887, 1721, 1902, 1902, 1902, 1902, 1977, 2002, 1887, 1504, 2444, 1902, 1719, 1974, 1902, 1602, 1887, 1980, 1485, 1504, 1977, 2057, 1669, 1902, 1719, 1762, 1485, 1902, 1977, 2179, 1504, 1573, 1564, 2415, 1902, 1721, 1602, 2472, 1579, 1741, 1902, 1902, 1887, 1408, 1762, 1669, 1740, 1762, 1590, 1721, 1876, 1672, 2457, 1340, 1579, 2231, 2238, 2205, 1902, 1902, 2258, 1848, 1887, 1628, 1902, 2231, 2415, 1740, 1977, 1876, 1887, 2415, 1740, 1887, 3004, 1408, 1485, 2057, 1485, 1876, 1977, 2415, 1762, 1579, 2559, 1887, 1590, 1408, 1977, 2258, 1408, 1977, 2002, 1740, 2179, 1902, 1848, 2246, 1590, 2246, 1876, 1977, 1740, 1977, 1719, 1887, 2415, 2002, 1980, 2415, 2603, 1602, 1977, 1741, 2392, 1485, 1977, 2051, 1510, 1902, 1944, 1876, 1848, 1408, 1485, 1590, 1902, 2002, 1977, 1902, 1887, 1848, 1876, 1848, 1974, 1977, 1902, 1980, 2002, 1380, 1902, 1974, 1564, 1602, 1980, 1590, 2002, 1887, 1672, 2001, 1980, 1902, 2415, 1902, 1977, 1902, 2559, 1977, 1672, 1902, 1719, 2002, 1726, 1485, 1848, 1340, 1590, 1741, 1887, 2258, 1669, 2001, 1590, 1902, 1887, 2465, 1421, 1719, 3770, 1602, 1594, 2149, 1380, 3004, 2231, 1669, 2001, 1628, 2377, 1564, 1564, 1977, 1902, 2258, 1977, 1977, 1902, 2042, 2149, 1887, 1887, 1564, 1902, 1485, 1902, 1887, 2042, 1977, 1902, 1564, 1977, 1579, 1887, 2258, 2238, 1669, 2129, 1977, 2002, 1590, 1977, 1726, 1887, 2824, 1564, 1740, 1977, 1887, 1485, 1977, 1672, 1719, 1668, 1848, 1848, 1977, 1848, 1902, 1902, 1602, 1887, 1741, 1602, 2415, 1726, 1762, 1579, 1740, 2051, 1876, 1977, 1902, 1977, 2205, 1719, 1408, 1902, 1977, 1485, 1977, 1887, 1902, 1579, 2057, 1721, 1977, 1668, 1902, 1672, 1887, 1740, 1876, 1902, 1977, 1669, 1590, 1721, 1876, 1977, 1902, 1887, 1741, 1977, 2174, 1977, 2415, 1564, 1602, 1977, 1579, 1844, 1977, 2205, 1602, 1672, 1590, 2001, 1672, 1564, 1762, 1977, 1902, 1564, 2002, 2051, 1980, 1977, 1977, 1408, 1977, 1672, 1902, 2149, 1741, 1848, 1977, 1719, 2205, 1944, 1902, 1902, 1411, 1902, 1741, 1408, 1977, 1726, 2415, 2415, 1887, 1977, 1902, 1980, 2258, 1887, 1902, 3770, 2051, 1380, 1408, 1485, 1564, 1902, 2603, 1887, 1902, 1902, 1887, 2258, 1740, 1977, 2001, 2824, 2824, 1887, 2231, 1408, 1977, 1887, 1902, 1977, 1741, 2258, 1887, 1719, 1876, 2057, 1977, 1977, 1602, 2057, 2002, 1974, 1977, 1844, 1977, 2467, 1564, 1672, 1902, 1977, 1887, 2258, 2258, 1902, 1902, 1741, 2415, 2163, 1902, 2129, 1902, 2824, 1579, 1902, 2392, 1887, 2179, 1564, 1902, 1876, 1617, 1628, 1408, 1672, 1887, 1876, 1741, 1977, 1980, 1668, 1977, 1628, 1719, 1977, 1876, 1340, 1887, 2415, 2051, 1977, 2174, 1848, 1741, 1887, 1974, 1887, 1564, 1741, 2377, 1816, 1740, 2415, 1590, 1887, 2339, 1902, 1902, 2377, 1411, 1816, 1977, 1628, 2258, 1887, 1977, 1510, 1887, 1974, 1573, 1573, 1573, 1977, 1672, 2258, 1977, 1902, 1887, 1977, 1719, 2415, 1876, 1485, 1977, 1887, 3175, 1590, 1721, 1887, 1741, 1504, 1740, 1741, 1648, 1740, 1902, 1485, 1974, 1590, 1977, 1741, 1590, 1564, 2339, 2472, 1651, 1902, 1902, 1974, 1902, 1672, 1602, 2057, 1590, 1669, 1902, 2042, 1408, 1902, 1573, 1902, 1887, 1719, 1762, 1564, 2179, 1816, 1980, 1977, 1876, 1340, 2206, 1741, 1977, 1485, 1887, 1564, 2339, 2415, 2179, 1977, 1887, 1408, 1980, 1977, 1380, 1977, 1887, 1902, 1762, 1721, 1902, 1380, 2051, 2377, 1669, 2352, 1902, 1721, 1672, 2415, 2415, 1977, 2392, 1504, 1902, 1719, 2001, 1902, 1902, 1977, 1902, 1902, 1590, 1977, 1651, 2415, 1977, 1902, 1762, 1887, 1977, 1876, 1628, 1848, 1564, 1887, 1762, 1887, 1672, 1902, 2051, 2001, 1980, 1340, 2339, 1628, 1887, 1848, 1977, 1740, 2002, 1902, 1887, 1902, 1902, 1719, 2339, 1902, 1579, 1590, 1902, 1741, 1628, 2415, 1408, 1740, 2258, 1485, 1848, 1977, 1485, 1887, 1902, 1669, 1887, 1977, 1741, 1602, 1902, 1719, 1902, 1887, 1887, 1887, 1408, 1590, 1579, 1741, 1564, 2547, 2174, 2206, 2415, 1590, 2415, 1980, 1741, 1977, 1340, 1602, 1902, 1977, 1902, 2339, 1977, 2205, 1977, 1726, 1485, 2444, 2392, 1672, 1902, 1740, 1669, 1902, 1762, 2415, 2238, 1876, 2258, 1977, 1672, 2352, 1977, 1977, 1977, 1977, 1977, 2415, 2002, 1902, 1887, 1669, 1848, 1590, 1590, 2179, 1719, 1669, 1902, 1977, 2377, 1902, 1887, 2392, 1485, 1848, 1902, 1672, 1628, 1740, 1977, 1876, 1816, 1887, 1485, 1977, 1887, 1848, 1590, 1902, 2002, 1741, 1876, 1977, 2002, 1628, 2392, 1977, 1887, 1719, 2258, 1902, 1887, 1887, 1902, 1902, 1672, 1980, 1902, 1887, 1504, 1902, 1539, 1848, 1762, 1977, 1485, 1741, 2415, 1902, 1485, 1848, 1579, 1887, 1668, 1902, 1848, 1564, 1564, 2001, 1594, 1887, 1902, 1485, 1876, 1902, 1740, 1902, 1902, 1977, 1590, 1672, 1977, 1977, 1902, 1672, 1902, 2377, 1628, 1740, 1740, 2415, 1887, 1902, 1740, 2001, 3004, 2042, 1590, 2231, 1579, 1844, 1740, 1977, 2258, 1902, 1902, 1602, 1848, 2824, 1977, 2051, 1602, 1719, 1740, 1740, 1977, 2559, 1887, 1876, 1977, 2258, 2051, 1902, 1977, 1902, 1887, 2051, 1902, 1902, 1977, 1902, 2051, 2392, 2057, 1573, 1740, 1977, 2559, 2205, 1672, 1504, 1902, 2559, 1504, 1564, 1977, 1902, 1887, 1902, 2051, 1876, 1974, 1672, 1590, 1848, 1902, 2205, 1848, 1590, 1977, 1740, 1564, 2559, 2415, 1590, 1669, 1876, 1977, 1876, 2258, 1887, 1977, 1762, 1590, 1602, 1602, 1887, 1977, 1902, 1977, 1887, 1485, 2002, 1974, 1408, 1485, 1672, 1887, 1408, 2339, 1672, 1848, 2174, 1579, 1876, 1485, 1721, 2559, 1579, 1485, 2149, 1887, 1902, 1719, 1740, 1902, 1848, 1977, 1825, 1902, 1602, 1485, 1902, 1902, 2415, 1887, 1564, 2205, 1876, 1735, 2206, 1887, 1977, 2129, 2002, 2603, 1977, 1485, 1485, 2282, 1741, 1672, 1902, 1980, 1902, 1602, 1590, 1902, 2002, 1485, 1602, 1590, 1672, 2258, 1602, 1721, 2179, 1977, 1672, 1902, 4356, 1977, 2179, 1564, 1408, 1590, 1485, 2174, 1721, 1902, 1887, 1977, 1902, 2002, 1977, 1902, 1579, 1602, 1672, 1902, 2377, 1977, 2042, 1602, 1980, 1876, 1887, 1380, 1902, 2001, 2042, 2415, 2377, 1590, 1977, 1485, 1408, 1602, 1902, 1977, 1977, 1876, 2603, 2231, 2444, 1590, 2246, 1977, 1980, 1902, 1977, 1590, 1594, 1669, 1902, 1977, 1602, 1848, 2149, 1887, 1741, 2258, 1980, 2051, 1977, 1617, 2258, 2444, 1848, 1485, 1648, 1977, 2002, 1602, 2559, 1848, 1980, 2824, 1977, 1564, 1977, 1977, 1485, 1617, 1902, 1887, 1887, 1902, 1848, 1977, 1902, 1980, 2258, 1977, 1887, 1902, 1977, 2001, 2231, 1876, 1825, 1902, 2051, 2001, 1887, 1902, 1735, 1887, 1590, 1740, 1594, 1564, 1504, 1902, 2057, 1579, 2547, 1887, 2415, 2489, 2377, 1974, 1669, 2001, 1902, 1719, 1504, 1902, 1977, 1579, 1485, 1977, 3770, 1977, 1902, 1887, 1590, 1887, 1977, 1672, 1902, 1977, 1408, 1617, 1579, 1887, 1887, 1876, 1564, 2246, 1848, 1974, 1977, 1602, 1485, 1672, 1651, 1902, 1902, 1848, 1719, 1887, 2001, 1887, 1628, 1977, 1741, 1902, 2206, 1590, 1755, 3683, 1887, 1902, 2205, 1902, 1762, 1594, 1977, 1977, 1719, 1977, 1977, 1876, 1651, 1902, 1902, 1887, 2392, 1721, 1887, 1902, 2339, 1974, 1902, 1740, 1887, 1719, 1669, 2824, 1564, 2258, 1977, 1887, 1977, 1602, 1977, 2415, 1977, 1977, 1977, 1762, 2444, 1579, 1977, 2002, 1628, 2339, 1977, 1902, 1672, 1848, 1887, 1668, 1669, 1902, 2415, 1590, 1719, 1977, 2415, 2415, 2339, 1602, 1902, 1902, 1848, 1762, 1902, 1902, 1902, 1504, 1740, 1651, 1485, 1740, 2129, 2415, 1848, 2001, 1876, 1617, 4356, 1902, 1485, 1408, 1408, 1740, 1902, 1485, 1721, 1590, 1669, 1887, 2339, 1977, 1980, 1977, 1977, 2415, 1485, 1740, 1876, 1726, 1902, 1672, 1974, 1902, 1902, 1902, 1977, 1876, 1887, 1564, 2174, 1977, 1564, 1672, 2267, 1887, 1887, 1876, 1902, 1721, 1590, 1876, 1887, 1887, 1485, 1564, 1902, 2002, 2080, 1564, 1669, 1876, 1980, 3770, 1672, 1504, 1902, 1980, 1721, 1602, 2415, 1876, 1887, 1977, 1887, 1590, 1980, 2051, 1887, 1887, 1669, 2339, 2824, 1974, 1902, 2002, 1380, 1848, 1887, 1762, 1977, 1485, 1887, 1974, 1887, 1977, 1902, 1740, 1902, 1504, 2415, 1887, 1902, 1887, 1721, 1504, 1977, 1902, 1902, 1902, 2559, 1977, 2415, 1590, 1628, 1719, 1974, 2001, 2559, 1887, 2457, 2179, 1504, 1594, 1876, 2246, 1887, 1876, 2444, 1848, 1887, 2415, 2267, 1977, 1902, 2258, 1887, 1876, 1672, 1902, 1887, 1719, 2057, 1977, 1977, 1848, 1902, 1669, 2001, 2205, 1564, 1602, 2603, 1848, 2339, 1669, 1762, 1848, 1977, 1977, 2339, 1902, 1602, 1887, 1617, 1980, 1573, 1902, 1887, 1902, 1617, 1902, 1902, 1848, 1887, 1602, 1485, 1672, 2415, 1887, 1721, 1902, 1902, 1628, 1651, 1408, 2001, 2246, 1977, 1848, 1590, 1977, 1977, 1408, 2824, 1590, 1594, 2377, 1564, 1740, 1902, 1485, 1902, 2559, 1762, 1741, 1602, 2824, 1848, 1721, 1977, 1974, 1602, 1740, 2415, 1564, 1887, 1977, 1876, 1876, 2377, 2415, 1887, 1902, 1887, 1651, 1977, 2258, 1887, 1902, 1876, 1408, 2205, 1876, 2051, 2444, 2258, 1977, 2179, 1887, 1902, 1590, 2179, 1887, 2179, 1887, 2206, 2179, 1977, 1887, 1602, 1485, 1485, 1504, 1902, 2001, 1579, 2174, 1902, 1977, 1974, 2002, 3900, 2201, 2001, 1902, 1721, 1887, 1977, 2415, 1876, 1902, 1977, 2051, 2246, 1902, 2042, 2002, 1977, 1902, 1485, 1876, 1672, 2415, 1977, 1340, 1977, 2547, 2042, 1944, 2258, 1887, 1504, 1887, 1876, 1902, 2205, 2001, 1902, 2258, 1980, 2415, 1669, 1887, 2238, 2415, 1902, 1740, 1504, 1602, 1977, 1848, 1590, 1602, 1726, 2377, 1740, 1669, 2129, 1887, 2002, 2415, 1740, 2457, 1485, 2001, 1887, 1887, 1741, 1573, 1602, 1977, 2415, 1590, 2415, 1977, 1669, 1887, 1740, 1504, 1848, 1590, 1902, 1902, 1485, 2339, 1719, 1741, 2258, 1902, 1902, 2415, 1977, 2179, 1977, 2002, 1602, 2415, 1902, 2467, 1887, 1594, 2824, 1887, 1848, 1669, 2057, 1977, 1902, 1887, 3683, 2001, 1590, 1602, 2339, 1980, 1848, 2377, 1887, 1902, 1669, 1977, 1980, 1977, 2377, 1977, 1408, 1579, 1887, 2179, 1848, 2205, 1628, 1579, 1977, 1887, 1602, 1848, 3900, 2392, 1887, 1740, 2415, 1977, 1977, 1887, 1887, 2002, 1887, 2051, 1887, 1902, 1902, 1902, 1628, 1974, 1573, 2339, 1902, 1902, 2444, 2001, 1902, 1977, 1887, 2392, 1485, 1740, 1902, 1672, 1887, 1902, 2377, 1408, 1980, 1740, 2163, 1887, 1617, 2415, 1648, 1628, 1902, 2246, 1876, 1902, 2258, 2051, 1602, 1902, 1485, 1902, 1902, 1579, 1848, 1977, 1340, 1564, 1902, 1485, 1977, 1564, 1408, 1669, 1380, 1977, 2559, 1902, 1741, 1977, 1672, 1848, 1902, 1628, 2001, 1887, 1672, 1980, 1977, 2377, 1977, 1740, 2001, 2444, 2258, 1887, 2824, 1740, 1651, 1887, 1876, 1902, 2339, 2754, 2415, 1887, 1977, 2179, 1977, 1902, 1590, 1504, 1977, 2444, 1602, 1485, 1741, 2258, 1485, 1848, 1408, 2559, 1408, 1668, 1672, 1602, 1579, 1977, 1887, 1887, 1977, 2042, 1977, 1887, 1887, 1617, 2457, 1380, 1602, 1887, 1485, 2001, 2002, 1902, 1902, 1902, 1977, 1977, 2824, 1726, 2051, 1977, 2051, 1741, 1590, 1602, 1902, 1848, 2415, 1977, 1887, 1485, 1848, 2377, 1485, 2603, 1721, 1485, 1887, 1887, 1741, 1579, 2002, 2547, 2179, 1974, 1579, 2603, 2377, 1740, 1672, 1902, 1602, 1504, 2444, 1721, 1902, 1977, 1590, 2377, 1980, 1651, 2174, 1887, 1740, 1902, 1977, 1848, 2001, 2206, 1902, 2392, 1887, 1876, 2179, 1977, 1672, 1902, 1902, 1741, 2377, 1887, 2258, 2377, 1719, 2258, 1977, 1902, 1602, 2754, 1887, 1977, 1740, 1977, 1669, 2377, 1902, 1974, 1887, 1876, 1980, 1902, 2415, 2002, 1977, 1573, 1977, 2258, 1848, 1887, 1848, 1602, 1668, 1590, 1590, 1848, 1740, 1887, 1902, 1740, 1974, 1977, 1602, 2472, 1651, 1740, 1977, 1977, 1902, 1504, 1902, 1887, 2057, 1887, 1719, 1902, 1887, 2415, 1408, 1755, 1974, 1741, 1887, 1721, 1902, 1602, 1579, 2415, 1887, 2824, 2174, 1887, 1902, 2267, 2002, 1977, 2057, 1719, 1887, 1602, 1887, 1380, 2001, 1977, 1719, 1887, 1887, 1740, 1825, 2415, 1876, 1719, 1485, 1977, 2415, 1902, 1887, 1825, 1602, 1887, 1902, 2051, 1721, 1340, 1887, 1902, 1721, 1485, 3004, 1902, 1602, 1974, 1902, 2051, 1977, 1617, 1848, 1740, 1887, 1887, 1974, 2051, 1902, 1887, 4356, 2444, 1741, 1590, 1594, 1902, 1848, 1977, 1887, 1887, 1977, 1564, 1902, 1848, 1902, 1669, 1887, 1485, 1672, 1902, 2051, 1887, 1564, 1740, 1977, 1340, 1628, 1887, 1902, 1887, 1741, 2377, 1579, 1902, 1719, 1602, 2415, 1887, 1977, 1740, 1902, 1741, 2339, 1848, 1902, 1887, 1902, 2415, 1887, 1485, 1485, 1848, 2258, 1887, 1741, 2051, 1762, 1672, 1887, 1977, 2258, 2444, 1408, 1602, 1902, 1672, 1902, 2415, 1977, 1485, 2042, 1887, 1902, 2042, 1411, 1977, 2559, 1741, 1887, 1902, 1887, 1602, 1669, 1977]\n"
     ]
    }
   ],
   "source": [
    "z_score_outliers(df[\"capital-loss\"])"
   ]
  },
  {
   "cell_type": "code",
   "execution_count": 103,
   "id": "596b86bf",
   "metadata": {},
   "outputs": [
    {
     "name": "stdout",
     "output_type": "stream",
     "text": [
      "Outliers:  [537222, 513100, 512864, 599057, 542610, 652784, 573446, 662460, 629900, 509364, 632733, 560313, 651702, 644278, 535852, 522241, 581128, 608881, 914061, 624006, 510072, 593246, 714597, 816750, 552529, 575172, 622192, 566066, 614113, 548568, 565769, 789600, 864960, 723746, 692831, 535869, 638116, 698039, 677398, 547931, 666014, 765214, 761800, 1047822, 544319, 617917, 522881, 750972, 520231, 589155, 538193, 588739, 588484, 528618, 806552, 858091, 663291, 581025, 656488, 557349, 655066, 737315, 541755, 594521, 589838, 605504, 558752, 772919, 884434, 604045, 697806, 632271, 587310, 538243, 1490400, 768659, 764638, 517995, 718736, 547108, 882849, 746660, 786418, 565313, 653215, 576645, 510643, 538099, 539019, 531055, 594187, 685955, 548361, 606111, 592029, 513977, 647591, 566066, 553588, 624572, 535740, 607118, 580591, 557853, 635913, 557805, 626493, 914061, 557349, 953588, 558344, 590204, 679853, 516701, 535762, 814850, 874728, 506830, 594194, 538583, 602513, 589809, 507492, 546118, 530099, 1117718, 849067, 590941, 572285, 608441, 720428, 557359, 590522, 513440, 744929, 534775, 511231, 598995, 525848, 913447, 584259, 694105, 606347, 1024535, 811615, 533660, 1210504, 513977, 553405, 742903, 553405, 535027, 513719, 618130, 542762, 771836, 618808, 573446, 532969, 607658, 544091, 507875, 633742, 523910, 635913, 538583, 860348, 1033222, 543162, 556660, 680390, 543028, 526968, 767403, 520586, 795830, 509350, 563883, 910398, 538319, 508336, 672412, 549430, 519627, 675421, 758700, 509364, 509364, 656036, 566117, 548510, 545483, 573583, 511361, 716416, 637222, 664821, 598606, 572751, 580248, 519006, 617021, 596776, 588905, 517995, 640383, 611029, 549341, 746786, 550848, 510072, 511331, 656036, 688355, 587310, 628797, 632613, 516337, 571853, 1184622, 913447, 632593, 595000, 703067, 749105, 543922, 549349, 562558, 642830, 523095, 704108, 557082, 506858, 537222, 595000, 577521, 604506, 564135, 512103, 716066, 525878, 538443, 528616, 515025, 659273, 541737, 972354, 608184, 586657, 1226583, 664670, 561334, 791084, 917220, 508548, 511289, 512992, 637080, 671292, 517000, 548361, 648223, 522881, 745768, 523067, 508891, 647882, 569761, 585203, 539563, 1038553, 567788, 732569, 721161, 509629, 553473, 560804, 528616, 607848, 514033, 558183, 541282, 518030, 548580, 526528, 586657, 581071, 575442, 554986, 592930, 632834, 849857, 558944, 691903, 684015, 530099, 554317, 695136, 698418, 526968, 548303, 529216, 526164, 734193, 737315, 544686, 548361, 556652, 691830, 520775, 607799, 660870, 532379, 529104, 680390, 857532, 1484705, 755858, 523484, 654141, 930948, 664366, 515629, 606111, 509364, 634226, 568490, 1268339, 698363, 617860, 615893, 565313, 591711, 520231, 536725, 511517, 1366120, 593246, 529223, 651396, 517036, 529216, 526734, 543042, 631947, 540712, 549174, 806552, 604537, 1455435, 659504, 556688, 750972, 607848, 548256, 552354, 561489, 578377, 509500, 889965, 507086, 659558, 609935, 521400, 608184, 513660, 615367, 557236, 562336, 520078, 660461, 533147, 617898, 953588, 609789, 598995, 609789, 663394, 530454, 543477, 556902, 732102, 548256, 709445, 609789, 570821, 636017, 703107, 544792, 595088, 607848, 527162, 566049, 602513, 509060, 520033, 554206, 520759, 694812, 578701, 549413, 598802, 511289, 806316, 541343, 1033222, 599629, 571017, 738812, 618191, 544268, 557853, 535978, 668319, 682947, 574271, 816750, 597843, 595461, 553405, 704108, 515712, 551962, 572751, 745817, 1161363, 673764, 588484, 809585, 574271, 594187, 509462, 548664, 558490, 509048, 653574, 706026, 511068, 513416, 535978, 721712, 615367, 549174, 1097453, 515797, 510072, 570562, 1085515, 511668, 521665, 548361, 591711, 518530, 594187, 509866, 695411, 761006, 506830, 574005, 604045, 605502, 589809, 588003, 509629, 709798, 561334, 570002, 1125613, 532845, 604380, 583755, 510072, 557349, 609789, 557644, 706180, 606752, 673764, 547886, 554206, 584790, 799281, 657397, 512771, 512828, 531055, 653574, 745768, 857532, 715938, 747719, 569930, 585361, 543922, 766115, 584259, 538822, 542265, 749636, 668362, 981628, 746432, 566537, 693066, 539864, 514716, 2, 2, 2, 1, 1, 2, 2, 1, 1, 2, 2, 2, 1, 1, 2, 2, 2, 1, 2, 1, 2, 1, 2, 2, 1, 2, 2, 2, 2, 1, 2, 2, 1, 2, 1, 2, 2, 2, 2, 2, 2, 2, 1, 2, 2, 2, 2, 1, 2, 2, 2, 2, 1, 2, 1, 1, 2, 2, 1, 1, 2, 2, 2, 2, 2, 2, 2, 2, 2, 2, 2, 2, 2, 1, 2, 2, 2, 1, 1, 2, 1, 2, 2, 1, 2, 1, 2, 2, 2, 2, 2, 2, 2, 2, 2, 2, 2, 1, 1, 2, 2, 1, 2, 2, 2, 2, 1, 1, 2, 2, 1, 2, 2, 1, 2, 2, 2, 2, 2, 1, 2, 2, 2, 2, 2, 2, 2, 2, 2, 1, 1, 2, 1, 1, 2, 1, 2, 2, 2, 2, 2, 2, 2, 2, 2, 2, 2, 2, 2, 2, 1, 1, 1, 1, 2, 2, 2, 2, 2, 1, 1, 1, 2, 2, 2, 2, 1, 2, 2, 2, 2, 2, 2, 2, 2, 2, 1, 2, 2, 2, 2, 1, 2, 2, 1, 1, 2, 2, 2, 2, 2, 2, 2, 1, 2, 2, 2, 2, 2, 2, 2, 2, 2, 2, 2, 2, 2, 2, 2, 2, 2, 2, 2, 1, 1, 2, 2, 2, 2, 2, 2, 2, 1, 2, 2, 2, 2, 2, 2, 2, 2, 2, 2, 2, 1, 2, 2, 2, 1, 1, 2, 2, 1, 1, 2, 2, 1, 2, 2, 1, 2, 1, 2, 2, 2, 2, 2, 1, 2, 2, 1, 1, 2, 1, 1, 1, 2, 1, 2, 1, 2, 2, 1, 1, 2, 2, 2, 2, 1, 2, 1, 2, 2, 2, 2, 2, 2, 2, 2, 1, 2, 2, 2, 2, 2, 2, 2, 2, 2, 2, 2, 2, 2, 2, 2, 2, 2, 2, 2, 2, 2, 2, 2, 2, 1, 2, 2, 2, 1, 2, 1, 2, 1, 2, 2, 1, 99999, 27828, 99999, 99999, 99999, 27828, 99999, 99999, 99999, 27828, 25236, 99999, 99999, 99999, 99999, 99999, 27828, 99999, 99999, 99999, 99999, 99999, 99999, 99999, 99999, 99999, 99999, 27828, 41310, 99999, 99999, 34095, 99999, 99999, 99999, 99999, 99999, 27828, 99999, 99999, 99999, 99999, 99999, 27828, 27828, 27828, 99999, 99999, 99999, 99999, 99999, 99999, 27828, 99999, 99999, 99999, 27828, 99999, 99999, 99999, 99999, 99999, 99999, 99999, 27828, 99999, 27828, 25124, 99999, 99999, 99999, 99999, 99999, 99999, 99999, 99999, 99999, 99999, 99999, 99999, 99999, 99999, 27828, 25236, 99999, 27828, 99999, 27828, 99999, 99999, 99999, 99999, 99999, 99999, 99999, 99999, 25236, 27828, 27828, 27828, 27828, 99999, 27828, 99999, 99999, 99999, 99999, 27828, 99999, 27828, 25124, 99999, 99999, 99999, 99999, 27828, 34095, 25236, 99999, 99999, 99999, 99999, 25124, 99999, 99999, 27828, 99999, 99999, 99999, 99999, 99999, 99999, 99999, 99999, 99999, 99999, 99999, 27828, 99999, 99999, 34095, 99999, 99999, 99999, 27828, 99999, 99999, 99999, 99999, 27828, 99999, 99999, 99999, 27828, 41310, 25236, 99999, 27828, 25236, 27828, 99999, 99999, 34095, 99999, 27828, 99999, 99999, 99999, 99999, 99999, 99999, 99999, 99999, 99999, 99999, 99999, 27828, 99999, 27828, 99999, 99999, 25236, 99999, 99999, 99999, 99999, 99999, 99999, 27828, 99999, 25236, 99999, 99999, 99999, 99999, 99999, 99999, 99999, 99999, 99999, 99999, 99999, 99999, 27828, 99999, 99999, 99999, 27828, 99999, 27828, 99999, 99999, 99999, 34095, 99999, 99999, 99999, 99999, 99999, 99999, 27828, 99999, 34095, 99999, 99999, 99999, 99999, 99999, 27828, 99999, 99999, 99999, 99999, 99999, 99999, 25124, 99999, 99999, 99999, 99999, 99999, 27828, 99999, 99999, 27828, 99999, 41310, 27828, 99999, 99999, 27828, 99999, 99999, 27828, 99999, 25236, 25236, 25236, 25124, 99999, 99999, 99999, 99999, 99999, 25124, 99999, 99999, 99999, 99999, 99999, 99999, 99999, 27828, 99999, 99999, 99999, 99999, 99999, 25236, 99999, 99999, 99999, 99999, 99999, 99999, 27828, 99999, 99999, 99999, 27828, 99999, 99999, 27828, 25236, 99999, 99999, 99999, 99999, 99999, 99999, 27828, 99999, 99999, 27828, 99999, 99999, 27828, 27828, 99999, 25236, 99999, 99999, 99999, 99999, 99999, 27828, 99999, 27828, 99999, 27828, 99999, 99999, 27828, 99999, 99999, 99999, 99999, 99999, 99999, 27828, 99999, 1721, 1876, 2415, 1887, 1887, 1887, 1887, 1977, 2057, 1429, 1590, 2057, 1721, 1887, 1485, 1485, 1977, 1887, 1721, 1887, 2051, 2377, 1672, 1628, 1902, 1672, 1602, 1902, 1590, 1977, 1741, 1887, 2444, 1876, 1902, 1408, 1902, 2001, 2001, 2415, 2042, 1740, 1876, 1825, 1902, 1887, 1977, 1887, 1902, 1887, 1902, 2415, 1848, 1719, 3004, 1590, 1977, 1887, 1977, 2001, 1902, 1977, 2179, 1902, 1573, 1429, 2205, 1977, 2339, 1887, 2339, 1726, 2258, 1672, 1590, 1887, 1340, 2415, 1602, 1504, 1887, 2415, 2559, 1977, 1848, 2258, 1902, 1887, 1668, 1974, 1977, 1741, 2205, 1980, 2051, 2377, 1902, 2444, 1564, 1408, 1902, 1977, 2547, 1902, 2002, 2057, 2001, 1977, 1977, 1628, 1902, 1876, 1848, 1719, 1669, 1902, 1902, 2339, 1902, 2339, 1902, 1887, 1902, 1887, 1719, 1429, 2001, 1485, 1902, 1980, 1504, 1887, 1902, 1977, 1617, 1741, 2051, 2205, 1980, 1902, 1887, 2205, 1721, 1602, 1573, 1977, 2415, 3175, 1668, 2472, 1669, 1602, 2057, 1504, 2174, 1902, 1902, 1579, 1902, 1741, 1902, 1902, 1579, 1590, 1977, 1848, 1977, 2444, 1719, 1485, 1590, 1887, 2179, 2415, 1902, 1974, 1564, 1902, 1628, 1590, 1848, 1977, 1485, 1887, 1740, 1977, 2339, 2129, 1510, 1902, 2001, 1719, 2444, 1669, 1408, 1902, 1887, 1887, 2002, 1735, 1902, 1902, 1564, 1876, 2205, 2339, 1669, 2444, 1902, 1741, 2339, 1887, 2415, 2282, 1980, 2205, 1977, 2129, 2559, 1876, 1887, 2444, 1672, 1485, 2559, 1740, 1504, 1887, 1887, 1902, 1740, 1977, 1902, 1887, 2339, 1870, 1977, 1902, 1977, 1411, 1628, 1887, 1911, 1902, 1887, 2444, 1980, 1651, 1485, 1887, 1887, 1721, 1902, 1902, 1902, 1902, 1977, 2002, 1887, 1504, 2444, 1902, 1719, 1974, 1902, 1602, 1887, 1980, 1485, 1504, 1977, 2057, 1669, 1902, 1719, 1762, 1485, 1902, 1977, 2179, 1504, 1573, 1564, 2415, 1902, 1721, 1602, 2472, 1579, 1741, 1902, 1902, 1887, 1408, 1762, 1669, 1740, 1762, 1590, 1721, 1876, 1672, 2457, 1340, 1579, 2231, 2238, 2205, 1902, 1902, 2258, 1848, 1887, 1628, 1902, 2231, 2415, 1740, 1977, 1876, 1887, 2415, 1740, 1887, 3004, 1408, 1485, 2057, 1485, 1876, 1977, 2415, 1762, 1579, 2559, 1887, 1590, 1408, 1977, 2258, 1408, 1977, 2002, 1740, 2179, 1902, 1848, 2246, 1590, 2246, 1876, 1977, 1740, 1977, 1719, 1887, 2415, 2002, 1980, 2415, 2603, 1602, 1977, 1741, 2392, 1485, 1977, 2051, 1510, 1902, 1944, 1876, 1848, 1408, 1485, 1590, 1902, 2002, 1977, 1902, 1887, 1848, 1876, 1848, 1974, 1977, 1902, 1980, 2002, 1380, 1902, 1974, 1564, 1602, 1980, 1590, 2002, 1887, 1672, 2001, 1980, 1902, 2415, 1902, 1977, 1902, 2559, 1977, 1672, 1902, 1719, 2002, 1726, 1485, 1848, 1340, 1590, 1741, 1887, 2258, 1669, 2001, 1590, 1902, 1887, 2465, 1421, 1719, 3770, 1602, 1594, 2149, 1380, 3004, 2231, 1669, 2001, 1628, 2377, 1564, 1564, 1977, 1902, 2258, 1977, 1977, 1902, 2042, 2149, 1887, 1887, 1564, 1902, 1485, 1902, 1887, 2042, 1977, 1902, 1564, 1977, 1579, 1887, 2258, 2238, 1669, 2129, 1977, 2002, 1590, 1977, 1726, 1887, 2824, 1564, 1740, 1977, 1887, 1485, 1977, 1672, 1719, 1668, 1848, 1848, 1977, 1848, 1902, 1902, 1602, 1887, 1741, 1602, 2415, 1726, 1762, 1579, 1740, 2051, 1876, 1977, 1902, 1977, 2205, 1719, 1408, 1902, 1977, 1485, 1977, 1887, 1902, 1579, 2057, 1721, 1977, 1668, 1902, 1672, 1887, 1740, 1876, 1902, 1977, 1669, 1590, 1721, 1876, 1977, 1902, 1887, 1741, 1977, 2174, 1977, 2415, 1564, 1602, 1977, 1579, 1844, 1977, 2205, 1602, 1672, 1590, 2001, 1672, 1564, 1762, 1977, 1902, 1564, 2002, 2051, 1980, 1977, 1977, 1408, 1977, 1672, 1902, 2149, 1741, 1848, 1977, 1719, 2205, 1944, 1902, 1902, 1411, 1902, 1741, 1408, 1977, 1726, 2415, 2415, 1887, 1977, 1902, 1980, 2258, 1887, 1902, 3770, 2051, 1380, 1408, 1485, 1564, 1902, 2603, 1887, 1902, 1902, 1887, 2258, 1740, 1977, 2001, 2824, 2824, 1887, 2231, 1408, 1977, 1887, 1902, 1977, 1741, 2258, 1887, 1719, 1876, 2057, 1977, 1977, 1602, 2057, 2002, 1974, 1977, 1844, 1977, 2467, 1564, 1672, 1902, 1977, 1887, 2258, 2258, 1902, 1902, 1741, 2415, 2163, 1902, 2129, 1902, 2824, 1579, 1902, 2392, 1887, 2179, 1564, 1902, 1876, 1617, 1628, 1408, 1672, 1887, 1876, 1741, 1977, 1980, 1668, 1977, 1628, 1719, 1977, 1876, 1340, 1887, 2415, 2051, 1977, 2174, 1848, 1741, 1887, 1974, 1887, 1564, 1741, 2377, 1816, 1740, 2415, 1590, 1887, 2339, 1902, 1902, 2377, 1411, 1816, 1977, 1628, 2258, 1887, 1977, 1510, 1887, 1974, 1573, 1573, 1573, 1977, 1672, 2258, 1977, 1902, 1887, 1977, 1719, 2415, 1876, 1485, 1977, 1887, 3175, 1590, 1721, 1887, 1741, 1504, 1740, 1741, 1648, 1740, 1902, 1485, 1974, 1590, 1977, 1741, 1590, 1564, 2339, 2472, 1651, 1902, 1902, 1974, 1902, 1672, 1602, 2057, 1590, 1669, 1902, 2042, 1408, 1902, 1573, 1902, 1887, 1719, 1762, 1564, 2179, 1816, 1980, 1977, 1876, 1340, 2206, 1741, 1977, 1485, 1887, 1564, 2339, 2415, 2179, 1977, 1887, 1408, 1980, 1977, 1380, 1977, 1887, 1902, 1762, 1721, 1902, 1380, 2051, 2377, 1669, 2352, 1902, 1721, 1672, 2415, 2415, 1977, 2392, 1504, 1902, 1719, 2001, 1902, 1902, 1977, 1902, 1902, 1590, 1977, 1651, 2415, 1977, 1902, 1762, 1887, 1977, 1876, 1628, 1848, 1564, 1887, 1762, 1887, 1672, 1902, 2051, 2001, 1980, 1340, 2339, 1628, 1887, 1848, 1977, 1740, 2002, 1902, 1887, 1902, 1902, 1719, 2339, 1902, 1579, 1590, 1902, 1741, 1628, 2415, 1408, 1740, 2258, 1485, 1848, 1977, 1485, 1887, 1902, 1669, 1887, 1977, 1741, 1602, 1902, 1719, 1902, 1887, 1887, 1887, 1408, 1590, 1579, 1741, 1564, 2547, 2174, 2206, 2415, 1590, 2415, 1980, 1741, 1977, 1340, 1602, 1902, 1977, 1902, 2339, 1977, 2205, 1977, 1726, 1485, 2444, 2392, 1672, 1902, 1740, 1669, 1902, 1762, 2415, 2238, 1876, 2258, 1977, 1672, 2352, 1977, 1977, 1977, 1977, 1977, 2415, 2002, 1902, 1887, 1669, 1848, 1590, 1590, 2179, 1719, 1669, 1902, 1977, 2377, 1902, 1887, 2392, 1485, 1848, 1902, 1672, 1628, 1740, 1977, 1876, 1816, 1887, 1485, 1977, 1887, 1848, 1590, 1902, 2002, 1741, 1876, 1977, 2002, 1628, 2392, 1977, 1887, 1719, 2258, 1902, 1887, 1887, 1902, 1902, 1672, 1980, 1902, 1887, 1504, 1902, 1539, 1848, 1762, 1977, 1485, 1741, 2415, 1902, 1485, 1848, 1579, 1887, 1668, 1902, 1848, 1564, 1564, 2001, 1594, 1887, 1902, 1485, 1876, 1902, 1740, 1902, 1902, 1977, 1590, 1672, 1977, 1977, 1902, 1672, 1902, 2377, 1628, 1740, 1740, 2415, 1887, 1902, 1740, 2001, 3004, 2042, 1590, 2231, 1579, 1844, 1740, 1977, 2258, 1902, 1902, 1602, 1848, 2824, 1977, 2051, 1602, 1719, 1740, 1740, 1977, 2559, 1887, 1876, 1977, 2258, 2051, 1902, 1977, 1902, 1887, 2051, 1902, 1902, 1977, 1902, 2051, 2392, 2057, 1573, 1740, 1977, 2559, 2205, 1672, 1504, 1902, 2559, 1504, 1564, 1977, 1902, 1887, 1902, 2051, 1876, 1974, 1672, 1590, 1848, 1902, 2205, 1848, 1590, 1977, 1740, 1564, 2559, 2415, 1590, 1669, 1876, 1977, 1876, 2258, 1887, 1977, 1762, 1590, 1602, 1602, 1887, 1977, 1902, 1977, 1887, 1485, 2002, 1974, 1408, 1485, 1672, 1887, 1408, 2339, 1672, 1848, 2174, 1579, 1876, 1485, 1721, 2559, 1579, 1485, 2149, 1887, 1902, 1719, 1740, 1902, 1848, 1977, 1825, 1902, 1602, 1485, 1902, 1902, 2415, 1887, 1564, 2205, 1876, 1735, 2206, 1887, 1977, 2129, 2002, 2603, 1977, 1485, 1485, 2282, 1741, 1672, 1902, 1980, 1902, 1602, 1590, 1902, 2002, 1485, 1602, 1590, 1672, 2258, 1602, 1721, 2179, 1977, 1672, 1902, 4356, 1977, 2179, 1564, 1408, 1590, 1485, 2174, 1721, 1902, 1887, 1977, 1902, 2002, 1977, 1902, 1579, 1602, 1672, 1902, 2377, 1977, 2042, 1602, 1980, 1876, 1887, 1380, 1902, 2001, 2042, 2415, 2377, 1590, 1977, 1485, 1408, 1602, 1902, 1977, 1977, 1876, 2603, 2231, 2444, 1590, 2246, 1977, 1980, 1902, 1977, 1590, 1594, 1669, 1902, 1977, 1602, 1848, 2149, 1887, 1741, 2258, 1980, 2051, 1977, 1617, 2258, 2444, 1848, 1485, 1648, 1977, 2002, 1602, 2559, 1848, 1980, 2824, 1977, 1564, 1977, 1977, 1485, 1617, 1902, 1887, 1887, 1902, 1848, 1977, 1902, 1980, 2258, 1977, 1887, 1902, 1977, 2001, 2231, 1876, 1825, 1902, 2051, 2001, 1887, 1902, 1735, 1887, 1590, 1740, 1594, 1564, 1504, 1902, 2057, 1579, 2547, 1887, 2415, 2489, 2377, 1974, 1669, 2001, 1902, 1719, 1504, 1902, 1977, 1579, 1485, 1977, 3770, 1977, 1902, 1887, 1590, 1887, 1977, 1672, 1902, 1977, 1408, 1617, 1579, 1887, 1887, 1876, 1564, 2246, 1848, 1974, 1977, 1602, 1485, 1672, 1651, 1902, 1902, 1848, 1719, 1887, 2001, 1887, 1628, 1977, 1741, 1902, 2206, 1590, 1755, 3683, 1887, 1902, 2205, 1902, 1762, 1594, 1977, 1977, 1719, 1977, 1977, 1876, 1651, 1902, 1902, 1887, 2392, 1721, 1887, 1902, 2339, 1974, 1902, 1740, 1887, 1719, 1669, 2824, 1564, 2258, 1977, 1887, 1977, 1602, 1977, 2415, 1977, 1977, 1977, 1762, 2444, 1579, 1977, 2002, 1628, 2339, 1977, 1902, 1672, 1848, 1887, 1668, 1669, 1902, 2415, 1590, 1719, 1977, 2415, 2415, 2339, 1602, 1902, 1902, 1848, 1762, 1902, 1902, 1902, 1504, 1740, 1651, 1485, 1740, 2129, 2415, 1848, 2001, 1876, 1617, 4356, 1902, 1485, 1408, 1408, 1740, 1902, 1485, 1721, 1590, 1669, 1887, 2339, 1977, 1980, 1977, 1977, 2415, 1485, 1740, 1876, 1726, 1902, 1672, 1974, 1902, 1902, 1902, 1977, 1876, 1887, 1564, 2174, 1977, 1564, 1672, 2267, 1887, 1887, 1876, 1902, 1721, 1590, 1876, 1887, 1887, 1485, 1564, 1902, 2002, 2080, 1564, 1669, 1876, 1980, 3770, 1672, 1504, 1902, 1980, 1721, 1602, 2415, 1876, 1887, 1977, 1887, 1590, 1980, 2051, 1887, 1887, 1669, 2339, 2824, 1974, 1902, 2002, 1380, 1848, 1887, 1762, 1977, 1485, 1887, 1974, 1887, 1977, 1902, 1740, 1902, 1504, 2415, 1887, 1902, 1887, 1721, 1504, 1977, 1902, 1902, 1902, 2559, 1977, 2415, 1590, 1628, 1719, 1974, 2001, 2559, 1887, 2457, 2179, 1504, 1594, 1876, 2246, 1887, 1876, 2444, 1848, 1887, 2415, 2267, 1977, 1902, 2258, 1887, 1876, 1672, 1902, 1887, 1719, 2057, 1977, 1977, 1848, 1902, 1669, 2001, 2205, 1564, 1602, 2603, 1848, 2339, 1669, 1762, 1848, 1977, 1977, 2339, 1902, 1602, 1887, 1617, 1980, 1573, 1902, 1887, 1902, 1617, 1902, 1902, 1848, 1887, 1602, 1485, 1672, 2415, 1887, 1721, 1902, 1902, 1628, 1651, 1408, 2001, 2246, 1977, 1848, 1590, 1977, 1977, 1408, 2824, 1590, 1594, 2377, 1564, 1740, 1902, 1485, 1902, 2559, 1762, 1741, 1602, 2824, 1848, 1721, 1977, 1974, 1602, 1740, 2415, 1564, 1887, 1977, 1876, 1876, 2377, 2415, 1887, 1902, 1887, 1651, 1977, 2258, 1887, 1902, 1876, 1408, 2205, 1876, 2051, 2444, 2258, 1977, 2179, 1887, 1902, 1590, 2179, 1887, 2179, 1887, 2206, 2179, 1977, 1887, 1602, 1485, 1485, 1504, 1902, 2001, 1579, 2174, 1902, 1977, 1974, 2002, 3900, 2201, 2001, 1902, 1721, 1887, 1977, 2415, 1876, 1902, 1977, 2051, 2246, 1902, 2042, 2002, 1977, 1902, 1485, 1876, 1672, 2415, 1977, 1340, 1977, 2547, 2042, 1944, 2258, 1887, 1504, 1887, 1876, 1902, 2205, 2001, 1902, 2258, 1980, 2415, 1669, 1887, 2238, 2415, 1902, 1740, 1504, 1602, 1977, 1848, 1590, 1602, 1726, 2377, 1740, 1669, 2129, 1887, 2002, 2415, 1740, 2457, 1485, 2001, 1887, 1887, 1741, 1573, 1602, 1977, 2415, 1590, 2415, 1977, 1669, 1887, 1740, 1504, 1848, 1590, 1902, 1902, 1485, 2339, 1719, 1741, 2258, 1902, 1902, 2415, 1977, 2179, 1977, 2002, 1602, 2415, 1902, 2467, 1887, 1594, 2824, 1887, 1848, 1669, 2057, 1977, 1902, 1887, 3683, 2001, 1590, 1602, 2339, 1980, 1848, 2377, 1887, 1902, 1669, 1977, 1980, 1977, 2377, 1977, 1408, 1579, 1887, 2179, 1848, 2205, 1628, 1579, 1977, 1887, 1602, 1848, 3900, 2392, 1887, 1740, 2415, 1977, 1977, 1887, 1887, 2002, 1887, 2051, 1887, 1902, 1902, 1902, 1628, 1974, 1573, 2339, 1902, 1902, 2444, 2001, 1902, 1977, 1887, 2392, 1485, 1740, 1902, 1672, 1887, 1902, 2377, 1408, 1980, 1740, 2163, 1887, 1617, 2415, 1648, 1628, 1902, 2246, 1876, 1902, 2258, 2051, 1602, 1902, 1485, 1902, 1902, 1579, 1848, 1977, 1340, 1564, 1902, 1485, 1977, 1564, 1408, 1669, 1380, 1977, 2559, 1902, 1741, 1977, 1672, 1848, 1902, 1628, 2001, 1887, 1672, 1980, 1977, 2377, 1977, 1740, 2001, 2444, 2258, 1887, 2824, 1740, 1651, 1887, 1876, 1902, 2339, 2754, 2415, 1887, 1977, 2179, 1977, 1902, 1590, 1504, 1977, 2444, 1602, 1485, 1741, 2258, 1485, 1848, 1408, 2559, 1408, 1668, 1672, 1602, 1579, 1977, 1887, 1887, 1977, 2042, 1977, 1887, 1887, 1617, 2457, 1380, 1602, 1887, 1485, 2001, 2002, 1902, 1902, 1902, 1977, 1977, 2824, 1726, 2051, 1977, 2051, 1741, 1590, 1602, 1902, 1848, 2415, 1977, 1887, 1485, 1848, 2377, 1485, 2603, 1721, 1485, 1887, 1887, 1741, 1579, 2002, 2547, 2179, 1974, 1579, 2603, 2377, 1740, 1672, 1902, 1602, 1504, 2444, 1721, 1902, 1977, 1590, 2377, 1980, 1651, 2174, 1887, 1740, 1902, 1977, 1848, 2001, 2206, 1902, 2392, 1887, 1876, 2179, 1977, 1672, 1902, 1902, 1741, 2377, 1887, 2258, 2377, 1719, 2258, 1977, 1902, 1602, 2754, 1887, 1977, 1740, 1977, 1669, 2377, 1902, 1974, 1887, 1876, 1980, 1902, 2415, 2002, 1977, 1573, 1977, 2258, 1848, 1887, 1848, 1602, 1668, 1590, 1590, 1848, 1740, 1887, 1902, 1740, 1974, 1977, 1602, 2472, 1651, 1740, 1977, 1977, 1902, 1504, 1902, 1887, 2057, 1887, 1719, 1902, 1887, 2415, 1408, 1755, 1974, 1741, 1887, 1721, 1902, 1602, 1579, 2415, 1887, 2824, 2174, 1887, 1902, 2267, 2002, 1977, 2057, 1719, 1887, 1602, 1887, 1380, 2001, 1977, 1719, 1887, 1887, 1740, 1825, 2415, 1876, 1719, 1485, 1977, 2415, 1902, 1887, 1825, 1602, 1887, 1902, 2051, 1721, 1340, 1887, 1902, 1721, 1485, 3004, 1902, 1602, 1974, 1902, 2051, 1977, 1617, 1848, 1740, 1887, 1887, 1974, 2051, 1902, 1887, 4356, 2444, 1741, 1590, 1594, 1902, 1848, 1977, 1887, 1887, 1977, 1564, 1902, 1848, 1902, 1669, 1887, 1485, 1672, 1902, 2051, 1887, 1564, 1740, 1977, 1340, 1628, 1887, 1902, 1887, 1741, 2377, 1579, 1902, 1719, 1602, 2415, 1887, 1977, 1740, 1902, 1741, 2339, 1848, 1902, 1887, 1902, 2415, 1887, 1485, 1485, 1848, 2258, 1887, 1741, 2051, 1762, 1672, 1887, 1977, 2258, 2444, 1408, 1602, 1902, 1672, 1902, 2415, 1977, 1485, 2042, 1887, 1902, 2042, 1411, 1977, 2559, 1741, 1887, 1902, 1887, 1602, 1669, 1977, 90, 84, 80, 84, 80, 99, 80, 80, 96, 90, 3, 1, 99, 80, 80, 84, 99, 99, 2, 2, 78, 80, 99, 84, 80, 3, 80, 80, 80, 99, 92, 3, 80, 84, 99, 80, 84, 85, 1, 99, 2, 84, 80, 99, 98, 80, 84, 96, 99, 80, 90, 78, 84, 80, 90, 80, 86, 80, 84, 80, 99, 80, 85, 80, 80, 80, 80, 3, 2, 80, 84, 99, 80, 84, 2, 99, 99, 99, 99, 90, 80, 80, 96, 2, 84, 99, 99, 90, 99, 80, 88, 2, 80, 80, 90, 79, 78, 84, 2, 80, 80, 84, 3, 1, 84, 99, 89, 98, 80, 80, 90, 3, 80, 99, 80, 78, 2, 99, 99, 80, 80, 2, 80, 80, 99, 80, 99, 99, 80, 80, 90, 80, 78, 84, 3, 80, 80, 1, 80, 99, 99, 99, 80, 99, 80, 88, 3, 90, 3, 80, 85, 84, 3, 98, 80, 99, 84, 2, 80, 99, 99, 1, 2, 99, 96, 84, 99, 80, 1, 99, 99, 2, 99, 1, 84, 80, 90, 3, 2, 99, 99, 3, 85, 99, 3, 3, 99, 3, 80, 80, 99, 2, 99, 99, 80, 80, 99, 99, 2, 80, 2, 80, 86, 80, 3, 80, 2, 84, 3, 80, 80, 3, 84, 99, 80, 99, 80, 84, 99, 2, 80, 3, 80, 2, 80, 99, 2, 80, 90, 84, 92, 80, 80, 99, 80, 3, 84, 84, 80, 90, 80, 80, 80, 2, 2, 1, 98, 80, 80, 80, 99, 2, 1, 80, 80, 99, 80, 1, 80, 78, 90, 2, 80, 80, 90, 84, 99, 80, 3, 80, 90, 3, 84, 3, 3, 84, 98, 2, 80, 85, 84, 80, 2, 3, 84, 99, 80, 3, 84, 99, 84, 78, 3, 85, 99, 80, 80, 84, 99, 3, 84, 84, 90, 98, 2, 80, 99, 99, 80, 80, 80, 1, 3, 1, 80, 1, 1, 85, 3, 98, 80, 2, 87, 88, 90, 80, 99, 90, 90, 80, 80, 2, 99, 2, 80, 89, 80, 80, 80, 97, 85, 78, 80, 90, 90, 84, 99, 84, 80, 80, 80, 99, 80, 2, 1, 80, 80, 84, 80, 99, 84, 80, 80, 80, 80, 99, 90, 80, 94, 1, 3, 80, 80, 85, 80, 99, 99, 80, 85, 84, 80, 99, 85, 99, 96, 99, 82, 2, 80, 80, 90, 3, 99, 3, 80, 80, 1, 80, 97, 2, 99, 84, 80, 99, 85, 80, 3, 80, 80, 99, 99, 80, 2, 90, 3, 80, 80, 2, 86, 80, 2, 99, 99, 99, 80, 3, 84, 99, 3, 84, 2, 3, 84, 80, 84, 80, 99, 91, 2, 81, 84, 96, 99, 99, 99, 80, 78, 3, 99, 80, 99, 80, 84, 84, 98, 80, 80, 80, 3, 80, 80, 80, 99, 99, 80, 88, 98, 99, 80, 98, 80, 80, 84, 3, 99, 81, 2, 90, 84, 3, 98, 99, 84, 84, 84, 99, 3, 80, 99, 99, 92, 3, 1, 2, 99, 80, 2, 90, 99, 99, 1, 3, 80, 80, 80, 80, 99, 99, 80, 1, 80, 84, 2, 84, 80, 80, 2, 80, 90, 1, 99, 99, 84, 3, 80, 80, 85, 91, 85, 80, 80, 2, 80, 99, 84, 99, 2, 84, 99, 99, 3, 90, 1, 80, 98, 99, 3, 99, 2, 80, 84, 99, 80, 80, 96, 1, 80, 99, 90, 90, 99, 80, 90, 90, 3, 78, 1, 80, 99, 95, 85, 86, 1, 80, 80, 80, 80, 85, 84, 99, 80, 80, 80, 99, 90, 99, 99, 84, 99, 80, 80, 80, 99, 3, 84, 84, 99, 99, 90, 90, 99, 80, 80, 98, 99, 3, 96, 80, 84, 99, 99, 84, 80, 99, 78, 90, 80, 80, 95, 80, 84, 80, 80, 2, 99, 91, 80, 84, 80, 3, 80, 78, 99, 1, 96, 2, 3, 99, 2, 84, 99, 2, 90, 78, 84, 80, 85, 99, 3, 99, 99, 90, 80, 99, 80, 90, 90, 2, 3, 2, 80, 80, 80, 90, 99, 99, 80, 3, 3, 98, 80, 80, 80, 81, 89, 3, 99, 84, 3, 1, 99]\n"
     ]
    }
   ],
   "source": [
    "z_score_outliers(df[\"hours-per-week\"])"
   ]
  },
  {
   "cell_type": "code",
   "execution_count": 104,
   "id": "49df3866",
   "metadata": {},
   "outputs": [
    {
     "name": "stdout",
     "output_type": "stream",
     "text": [
      "Outliers:  [537222, 513100, 512864, 599057, 542610, 652784, 573446, 662460, 629900, 509364, 632733, 560313, 651702, 644278, 535852, 522241, 581128, 608881, 914061, 624006, 510072, 593246, 714597, 816750, 552529, 575172, 622192, 566066, 614113, 548568, 565769, 789600, 864960, 723746, 692831, 535869, 638116, 698039, 677398, 547931, 666014, 765214, 761800, 1047822, 544319, 617917, 522881, 750972, 520231, 589155, 538193, 588739, 588484, 528618, 806552, 858091, 663291, 581025, 656488, 557349, 655066, 737315, 541755, 594521, 589838, 605504, 558752, 772919, 884434, 604045, 697806, 632271, 587310, 538243, 1490400, 768659, 764638, 517995, 718736, 547108, 882849, 746660, 786418, 565313, 653215, 576645, 510643, 538099, 539019, 531055, 594187, 685955, 548361, 606111, 592029, 513977, 647591, 566066, 553588, 624572, 535740, 607118, 580591, 557853, 635913, 557805, 626493, 914061, 557349, 953588, 558344, 590204, 679853, 516701, 535762, 814850, 874728, 506830, 594194, 538583, 602513, 589809, 507492, 546118, 530099, 1117718, 849067, 590941, 572285, 608441, 720428, 557359, 590522, 513440, 744929, 534775, 511231, 598995, 525848, 913447, 584259, 694105, 606347, 1024535, 811615, 533660, 1210504, 513977, 553405, 742903, 553405, 535027, 513719, 618130, 542762, 771836, 618808, 573446, 532969, 607658, 544091, 507875, 633742, 523910, 635913, 538583, 860348, 1033222, 543162, 556660, 680390, 543028, 526968, 767403, 520586, 795830, 509350, 563883, 910398, 538319, 508336, 672412, 549430, 519627, 675421, 758700, 509364, 509364, 656036, 566117, 548510, 545483, 573583, 511361, 716416, 637222, 664821, 598606, 572751, 580248, 519006, 617021, 596776, 588905, 517995, 640383, 611029, 549341, 746786, 550848, 510072, 511331, 656036, 688355, 587310, 628797, 632613, 516337, 571853, 1184622, 913447, 632593, 595000, 703067, 749105, 543922, 549349, 562558, 642830, 523095, 704108, 557082, 506858, 537222, 595000, 577521, 604506, 564135, 512103, 716066, 525878, 538443, 528616, 515025, 659273, 541737, 972354, 608184, 586657, 1226583, 664670, 561334, 791084, 917220, 508548, 511289, 512992, 637080, 671292, 517000, 548361, 648223, 522881, 745768, 523067, 508891, 647882, 569761, 585203, 539563, 1038553, 567788, 732569, 721161, 509629, 553473, 560804, 528616, 607848, 514033, 558183, 541282, 518030, 548580, 526528, 586657, 581071, 575442, 554986, 592930, 632834, 849857, 558944, 691903, 684015, 530099, 554317, 695136, 698418, 526968, 548303, 529216, 526164, 734193, 737315, 544686, 548361, 556652, 691830, 520775, 607799, 660870, 532379, 529104, 680390, 857532, 1484705, 755858, 523484, 654141, 930948, 664366, 515629, 606111, 509364, 634226, 568490, 1268339, 698363, 617860, 615893, 565313, 591711, 520231, 536725, 511517, 1366120, 593246, 529223, 651396, 517036, 529216, 526734, 543042, 631947, 540712, 549174, 806552, 604537, 1455435, 659504, 556688, 750972, 607848, 548256, 552354, 561489, 578377, 509500, 889965, 507086, 659558, 609935, 521400, 608184, 513660, 615367, 557236, 562336, 520078, 660461, 533147, 617898, 953588, 609789, 598995, 609789, 663394, 530454, 543477, 556902, 732102, 548256, 709445, 609789, 570821, 636017, 703107, 544792, 595088, 607848, 527162, 566049, 602513, 509060, 520033, 554206, 520759, 694812, 578701, 549413, 598802, 511289, 806316, 541343, 1033222, 599629, 571017, 738812, 618191, 544268, 557853, 535978, 668319, 682947, 574271, 816750, 597843, 595461, 553405, 704108, 515712, 551962, 572751, 745817, 1161363, 673764, 588484, 809585, 574271, 594187, 509462, 548664, 558490, 509048, 653574, 706026, 511068, 513416, 535978, 721712, 615367, 549174, 1097453, 515797, 510072, 570562, 1085515, 511668, 521665, 548361, 591711, 518530, 594187, 509866, 695411, 761006, 506830, 574005, 604045, 605502, 589809, 588003, 509629, 709798, 561334, 570002, 1125613, 532845, 604380, 583755, 510072, 557349, 609789, 557644, 706180, 606752, 673764, 547886, 554206, 584790, 799281, 657397, 512771, 512828, 531055, 653574, 745768, 857532, 715938, 747719, 569930, 585361, 543922, 766115, 584259, 538822, 542265, 749636, 668362, 981628, 746432, 566537, 693066, 539864, 514716, 2, 2, 2, 1, 1, 2, 2, 1, 1, 2, 2, 2, 1, 1, 2, 2, 2, 1, 2, 1, 2, 1, 2, 2, 1, 2, 2, 2, 2, 1, 2, 2, 1, 2, 1, 2, 2, 2, 2, 2, 2, 2, 1, 2, 2, 2, 2, 1, 2, 2, 2, 2, 1, 2, 1, 1, 2, 2, 1, 1, 2, 2, 2, 2, 2, 2, 2, 2, 2, 2, 2, 2, 2, 1, 2, 2, 2, 1, 1, 2, 1, 2, 2, 1, 2, 1, 2, 2, 2, 2, 2, 2, 2, 2, 2, 2, 2, 1, 1, 2, 2, 1, 2, 2, 2, 2, 1, 1, 2, 2, 1, 2, 2, 1, 2, 2, 2, 2, 2, 1, 2, 2, 2, 2, 2, 2, 2, 2, 2, 1, 1, 2, 1, 1, 2, 1, 2, 2, 2, 2, 2, 2, 2, 2, 2, 2, 2, 2, 2, 2, 1, 1, 1, 1, 2, 2, 2, 2, 2, 1, 1, 1, 2, 2, 2, 2, 1, 2, 2, 2, 2, 2, 2, 2, 2, 2, 1, 2, 2, 2, 2, 1, 2, 2, 1, 1, 2, 2, 2, 2, 2, 2, 2, 1, 2, 2, 2, 2, 2, 2, 2, 2, 2, 2, 2, 2, 2, 2, 2, 2, 2, 2, 2, 1, 1, 2, 2, 2, 2, 2, 2, 2, 1, 2, 2, 2, 2, 2, 2, 2, 2, 2, 2, 2, 1, 2, 2, 2, 1, 1, 2, 2, 1, 1, 2, 2, 1, 2, 2, 1, 2, 1, 2, 2, 2, 2, 2, 1, 2, 2, 1, 1, 2, 1, 1, 1, 2, 1, 2, 1, 2, 2, 1, 1, 2, 2, 2, 2, 1, 2, 1, 2, 2, 2, 2, 2, 2, 2, 2, 1, 2, 2, 2, 2, 2, 2, 2, 2, 2, 2, 2, 2, 2, 2, 2, 2, 2, 2, 2, 2, 2, 2, 2, 2, 1, 2, 2, 2, 1, 2, 1, 2, 1, 2, 2, 1, 99999, 27828, 99999, 99999, 99999, 27828, 99999, 99999, 99999, 27828, 25236, 99999, 99999, 99999, 99999, 99999, 27828, 99999, 99999, 99999, 99999, 99999, 99999, 99999, 99999, 99999, 99999, 27828, 41310, 99999, 99999, 34095, 99999, 99999, 99999, 99999, 99999, 27828, 99999, 99999, 99999, 99999, 99999, 27828, 27828, 27828, 99999, 99999, 99999, 99999, 99999, 99999, 27828, 99999, 99999, 99999, 27828, 99999, 99999, 99999, 99999, 99999, 99999, 99999, 27828, 99999, 27828, 25124, 99999, 99999, 99999, 99999, 99999, 99999, 99999, 99999, 99999, 99999, 99999, 99999, 99999, 99999, 27828, 25236, 99999, 27828, 99999, 27828, 99999, 99999, 99999, 99999, 99999, 99999, 99999, 99999, 25236, 27828, 27828, 27828, 27828, 99999, 27828, 99999, 99999, 99999, 99999, 27828, 99999, 27828, 25124, 99999, 99999, 99999, 99999, 27828, 34095, 25236, 99999, 99999, 99999, 99999, 25124, 99999, 99999, 27828, 99999, 99999, 99999, 99999, 99999, 99999, 99999, 99999, 99999, 99999, 99999, 27828, 99999, 99999, 34095, 99999, 99999, 99999, 27828, 99999, 99999, 99999, 99999, 27828, 99999, 99999, 99999, 27828, 41310, 25236, 99999, 27828, 25236, 27828, 99999, 99999, 34095, 99999, 27828, 99999, 99999, 99999, 99999, 99999, 99999, 99999, 99999, 99999, 99999, 99999, 27828, 99999, 27828, 99999, 99999, 25236, 99999, 99999, 99999, 99999, 99999, 99999, 27828, 99999, 25236, 99999, 99999, 99999, 99999, 99999, 99999, 99999, 99999, 99999, 99999, 99999, 99999, 27828, 99999, 99999, 99999, 27828, 99999, 27828, 99999, 99999, 99999, 34095, 99999, 99999, 99999, 99999, 99999, 99999, 27828, 99999, 34095, 99999, 99999, 99999, 99999, 99999, 27828, 99999, 99999, 99999, 99999, 99999, 99999, 25124, 99999, 99999, 99999, 99999, 99999, 27828, 99999, 99999, 27828, 99999, 41310, 27828, 99999, 99999, 27828, 99999, 99999, 27828, 99999, 25236, 25236, 25236, 25124, 99999, 99999, 99999, 99999, 99999, 25124, 99999, 99999, 99999, 99999, 99999, 99999, 99999, 27828, 99999, 99999, 99999, 99999, 99999, 25236, 99999, 99999, 99999, 99999, 99999, 99999, 27828, 99999, 99999, 99999, 27828, 99999, 99999, 27828, 25236, 99999, 99999, 99999, 99999, 99999, 99999, 27828, 99999, 99999, 27828, 99999, 99999, 27828, 27828, 99999, 25236, 99999, 99999, 99999, 99999, 99999, 27828, 99999, 27828, 99999, 27828, 99999, 99999, 27828, 99999, 99999, 99999, 99999, 99999, 99999, 27828, 99999, 1721, 1876, 2415, 1887, 1887, 1887, 1887, 1977, 2057, 1429, 1590, 2057, 1721, 1887, 1485, 1485, 1977, 1887, 1721, 1887, 2051, 2377, 1672, 1628, 1902, 1672, 1602, 1902, 1590, 1977, 1741, 1887, 2444, 1876, 1902, 1408, 1902, 2001, 2001, 2415, 2042, 1740, 1876, 1825, 1902, 1887, 1977, 1887, 1902, 1887, 1902, 2415, 1848, 1719, 3004, 1590, 1977, 1887, 1977, 2001, 1902, 1977, 2179, 1902, 1573, 1429, 2205, 1977, 2339, 1887, 2339, 1726, 2258, 1672, 1590, 1887, 1340, 2415, 1602, 1504, 1887, 2415, 2559, 1977, 1848, 2258, 1902, 1887, 1668, 1974, 1977, 1741, 2205, 1980, 2051, 2377, 1902, 2444, 1564, 1408, 1902, 1977, 2547, 1902, 2002, 2057, 2001, 1977, 1977, 1628, 1902, 1876, 1848, 1719, 1669, 1902, 1902, 2339, 1902, 2339, 1902, 1887, 1902, 1887, 1719, 1429, 2001, 1485, 1902, 1980, 1504, 1887, 1902, 1977, 1617, 1741, 2051, 2205, 1980, 1902, 1887, 2205, 1721, 1602, 1573, 1977, 2415, 3175, 1668, 2472, 1669, 1602, 2057, 1504, 2174, 1902, 1902, 1579, 1902, 1741, 1902, 1902, 1579, 1590, 1977, 1848, 1977, 2444, 1719, 1485, 1590, 1887, 2179, 2415, 1902, 1974, 1564, 1902, 1628, 1590, 1848, 1977, 1485, 1887, 1740, 1977, 2339, 2129, 1510, 1902, 2001, 1719, 2444, 1669, 1408, 1902, 1887, 1887, 2002, 1735, 1902, 1902, 1564, 1876, 2205, 2339, 1669, 2444, 1902, 1741, 2339, 1887, 2415, 2282, 1980, 2205, 1977, 2129, 2559, 1876, 1887, 2444, 1672, 1485, 2559, 1740, 1504, 1887, 1887, 1902, 1740, 1977, 1902, 1887, 2339, 1870, 1977, 1902, 1977, 1411, 1628, 1887, 1911, 1902, 1887, 2444, 1980, 1651, 1485, 1887, 1887, 1721, 1902, 1902, 1902, 1902, 1977, 2002, 1887, 1504, 2444, 1902, 1719, 1974, 1902, 1602, 1887, 1980, 1485, 1504, 1977, 2057, 1669, 1902, 1719, 1762, 1485, 1902, 1977, 2179, 1504, 1573, 1564, 2415, 1902, 1721, 1602, 2472, 1579, 1741, 1902, 1902, 1887, 1408, 1762, 1669, 1740, 1762, 1590, 1721, 1876, 1672, 2457, 1340, 1579, 2231, 2238, 2205, 1902, 1902, 2258, 1848, 1887, 1628, 1902, 2231, 2415, 1740, 1977, 1876, 1887, 2415, 1740, 1887, 3004, 1408, 1485, 2057, 1485, 1876, 1977, 2415, 1762, 1579, 2559, 1887, 1590, 1408, 1977, 2258, 1408, 1977, 2002, 1740, 2179, 1902, 1848, 2246, 1590, 2246, 1876, 1977, 1740, 1977, 1719, 1887, 2415, 2002, 1980, 2415, 2603, 1602, 1977, 1741, 2392, 1485, 1977, 2051, 1510, 1902, 1944, 1876, 1848, 1408, 1485, 1590, 1902, 2002, 1977, 1902, 1887, 1848, 1876, 1848, 1974, 1977, 1902, 1980, 2002, 1380, 1902, 1974, 1564, 1602, 1980, 1590, 2002, 1887, 1672, 2001, 1980, 1902, 2415, 1902, 1977, 1902, 2559, 1977, 1672, 1902, 1719, 2002, 1726, 1485, 1848, 1340, 1590, 1741, 1887, 2258, 1669, 2001, 1590, 1902, 1887, 2465, 1421, 1719, 3770, 1602, 1594, 2149, 1380, 3004, 2231, 1669, 2001, 1628, 2377, 1564, 1564, 1977, 1902, 2258, 1977, 1977, 1902, 2042, 2149, 1887, 1887, 1564, 1902, 1485, 1902, 1887, 2042, 1977, 1902, 1564, 1977, 1579, 1887, 2258, 2238, 1669, 2129, 1977, 2002, 1590, 1977, 1726, 1887, 2824, 1564, 1740, 1977, 1887, 1485, 1977, 1672, 1719, 1668, 1848, 1848, 1977, 1848, 1902, 1902, 1602, 1887, 1741, 1602, 2415, 1726, 1762, 1579, 1740, 2051, 1876, 1977, 1902, 1977, 2205, 1719, 1408, 1902, 1977, 1485, 1977, 1887, 1902, 1579, 2057, 1721, 1977, 1668, 1902, 1672, 1887, 1740, 1876, 1902, 1977, 1669, 1590, 1721, 1876, 1977, 1902, 1887, 1741, 1977, 2174, 1977, 2415, 1564, 1602, 1977, 1579, 1844, 1977, 2205, 1602, 1672, 1590, 2001, 1672, 1564, 1762, 1977, 1902, 1564, 2002, 2051, 1980, 1977, 1977, 1408, 1977, 1672, 1902, 2149, 1741, 1848, 1977, 1719, 2205, 1944, 1902, 1902, 1411, 1902, 1741, 1408, 1977, 1726, 2415, 2415, 1887, 1977, 1902, 1980, 2258, 1887, 1902, 3770, 2051, 1380, 1408, 1485, 1564, 1902, 2603, 1887, 1902, 1902, 1887, 2258, 1740, 1977, 2001, 2824, 2824, 1887, 2231, 1408, 1977, 1887, 1902, 1977, 1741, 2258, 1887, 1719, 1876, 2057, 1977, 1977, 1602, 2057, 2002, 1974, 1977, 1844, 1977, 2467, 1564, 1672, 1902, 1977, 1887, 2258, 2258, 1902, 1902, 1741, 2415, 2163, 1902, 2129, 1902, 2824, 1579, 1902, 2392, 1887, 2179, 1564, 1902, 1876, 1617, 1628, 1408, 1672, 1887, 1876, 1741, 1977, 1980, 1668, 1977, 1628, 1719, 1977, 1876, 1340, 1887, 2415, 2051, 1977, 2174, 1848, 1741, 1887, 1974, 1887, 1564, 1741, 2377, 1816, 1740, 2415, 1590, 1887, 2339, 1902, 1902, 2377, 1411, 1816, 1977, 1628, 2258, 1887, 1977, 1510, 1887, 1974, 1573, 1573, 1573, 1977, 1672, 2258, 1977, 1902, 1887, 1977, 1719, 2415, 1876, 1485, 1977, 1887, 3175, 1590, 1721, 1887, 1741, 1504, 1740, 1741, 1648, 1740, 1902, 1485, 1974, 1590, 1977, 1741, 1590, 1564, 2339, 2472, 1651, 1902, 1902, 1974, 1902, 1672, 1602, 2057, 1590, 1669, 1902, 2042, 1408, 1902, 1573, 1902, 1887, 1719, 1762, 1564, 2179, 1816, 1980, 1977, 1876, 1340, 2206, 1741, 1977, 1485, 1887, 1564, 2339, 2415, 2179, 1977, 1887, 1408, 1980, 1977, 1380, 1977, 1887, 1902, 1762, 1721, 1902, 1380, 2051, 2377, 1669, 2352, 1902, 1721, 1672, 2415, 2415, 1977, 2392, 1504, 1902, 1719, 2001, 1902, 1902, 1977, 1902, 1902, 1590, 1977, 1651, 2415, 1977, 1902, 1762, 1887, 1977, 1876, 1628, 1848, 1564, 1887, 1762, 1887, 1672, 1902, 2051, 2001, 1980, 1340, 2339, 1628, 1887, 1848, 1977, 1740, 2002, 1902, 1887, 1902, 1902, 1719, 2339, 1902, 1579, 1590, 1902, 1741, 1628, 2415, 1408, 1740, 2258, 1485, 1848, 1977, 1485, 1887, 1902, 1669, 1887, 1977, 1741, 1602, 1902, 1719, 1902, 1887, 1887, 1887, 1408, 1590, 1579, 1741, 1564, 2547, 2174, 2206, 2415, 1590, 2415, 1980, 1741, 1977, 1340, 1602, 1902, 1977, 1902, 2339, 1977, 2205, 1977, 1726, 1485, 2444, 2392, 1672, 1902, 1740, 1669, 1902, 1762, 2415, 2238, 1876, 2258, 1977, 1672, 2352, 1977, 1977, 1977, 1977, 1977, 2415, 2002, 1902, 1887, 1669, 1848, 1590, 1590, 2179, 1719, 1669, 1902, 1977, 2377, 1902, 1887, 2392, 1485, 1848, 1902, 1672, 1628, 1740, 1977, 1876, 1816, 1887, 1485, 1977, 1887, 1848, 1590, 1902, 2002, 1741, 1876, 1977, 2002, 1628, 2392, 1977, 1887, 1719, 2258, 1902, 1887, 1887, 1902, 1902, 1672, 1980, 1902, 1887, 1504, 1902, 1539, 1848, 1762, 1977, 1485, 1741, 2415, 1902, 1485, 1848, 1579, 1887, 1668, 1902, 1848, 1564, 1564, 2001, 1594, 1887, 1902, 1485, 1876, 1902, 1740, 1902, 1902, 1977, 1590, 1672, 1977, 1977, 1902, 1672, 1902, 2377, 1628, 1740, 1740, 2415, 1887, 1902, 1740, 2001, 3004, 2042, 1590, 2231, 1579, 1844, 1740, 1977, 2258, 1902, 1902, 1602, 1848, 2824, 1977, 2051, 1602, 1719, 1740, 1740, 1977, 2559, 1887, 1876, 1977, 2258, 2051, 1902, 1977, 1902, 1887, 2051, 1902, 1902, 1977, 1902, 2051, 2392, 2057, 1573, 1740, 1977, 2559, 2205, 1672, 1504, 1902, 2559, 1504, 1564, 1977, 1902, 1887, 1902, 2051, 1876, 1974, 1672, 1590, 1848, 1902, 2205, 1848, 1590, 1977, 1740, 1564, 2559, 2415, 1590, 1669, 1876, 1977, 1876, 2258, 1887, 1977, 1762, 1590, 1602, 1602, 1887, 1977, 1902, 1977, 1887, 1485, 2002, 1974, 1408, 1485, 1672, 1887, 1408, 2339, 1672, 1848, 2174, 1579, 1876, 1485, 1721, 2559, 1579, 1485, 2149, 1887, 1902, 1719, 1740, 1902, 1848, 1977, 1825, 1902, 1602, 1485, 1902, 1902, 2415, 1887, 1564, 2205, 1876, 1735, 2206, 1887, 1977, 2129, 2002, 2603, 1977, 1485, 1485, 2282, 1741, 1672, 1902, 1980, 1902, 1602, 1590, 1902, 2002, 1485, 1602, 1590, 1672, 2258, 1602, 1721, 2179, 1977, 1672, 1902, 4356, 1977, 2179, 1564, 1408, 1590, 1485, 2174, 1721, 1902, 1887, 1977, 1902, 2002, 1977, 1902, 1579, 1602, 1672, 1902, 2377, 1977, 2042, 1602, 1980, 1876, 1887, 1380, 1902, 2001, 2042, 2415, 2377, 1590, 1977, 1485, 1408, 1602, 1902, 1977, 1977, 1876, 2603, 2231, 2444, 1590, 2246, 1977, 1980, 1902, 1977, 1590, 1594, 1669, 1902, 1977, 1602, 1848, 2149, 1887, 1741, 2258, 1980, 2051, 1977, 1617, 2258, 2444, 1848, 1485, 1648, 1977, 2002, 1602, 2559, 1848, 1980, 2824, 1977, 1564, 1977, 1977, 1485, 1617, 1902, 1887, 1887, 1902, 1848, 1977, 1902, 1980, 2258, 1977, 1887, 1902, 1977, 2001, 2231, 1876, 1825, 1902, 2051, 2001, 1887, 1902, 1735, 1887, 1590, 1740, 1594, 1564, 1504, 1902, 2057, 1579, 2547, 1887, 2415, 2489, 2377, 1974, 1669, 2001, 1902, 1719, 1504, 1902, 1977, 1579, 1485, 1977, 3770, 1977, 1902, 1887, 1590, 1887, 1977, 1672, 1902, 1977, 1408, 1617, 1579, 1887, 1887, 1876, 1564, 2246, 1848, 1974, 1977, 1602, 1485, 1672, 1651, 1902, 1902, 1848, 1719, 1887, 2001, 1887, 1628, 1977, 1741, 1902, 2206, 1590, 1755, 3683, 1887, 1902, 2205, 1902, 1762, 1594, 1977, 1977, 1719, 1977, 1977, 1876, 1651, 1902, 1902, 1887, 2392, 1721, 1887, 1902, 2339, 1974, 1902, 1740, 1887, 1719, 1669, 2824, 1564, 2258, 1977, 1887, 1977, 1602, 1977, 2415, 1977, 1977, 1977, 1762, 2444, 1579, 1977, 2002, 1628, 2339, 1977, 1902, 1672, 1848, 1887, 1668, 1669, 1902, 2415, 1590, 1719, 1977, 2415, 2415, 2339, 1602, 1902, 1902, 1848, 1762, 1902, 1902, 1902, 1504, 1740, 1651, 1485, 1740, 2129, 2415, 1848, 2001, 1876, 1617, 4356, 1902, 1485, 1408, 1408, 1740, 1902, 1485, 1721, 1590, 1669, 1887, 2339, 1977, 1980, 1977, 1977, 2415, 1485, 1740, 1876, 1726, 1902, 1672, 1974, 1902, 1902, 1902, 1977, 1876, 1887, 1564, 2174, 1977, 1564, 1672, 2267, 1887, 1887, 1876, 1902, 1721, 1590, 1876, 1887, 1887, 1485, 1564, 1902, 2002, 2080, 1564, 1669, 1876, 1980, 3770, 1672, 1504, 1902, 1980, 1721, 1602, 2415, 1876, 1887, 1977, 1887, 1590, 1980, 2051, 1887, 1887, 1669, 2339, 2824, 1974, 1902, 2002, 1380, 1848, 1887, 1762, 1977, 1485, 1887, 1974, 1887, 1977, 1902, 1740, 1902, 1504, 2415, 1887, 1902, 1887, 1721, 1504, 1977, 1902, 1902, 1902, 2559, 1977, 2415, 1590, 1628, 1719, 1974, 2001, 2559, 1887, 2457, 2179, 1504, 1594, 1876, 2246, 1887, 1876, 2444, 1848, 1887, 2415, 2267, 1977, 1902, 2258, 1887, 1876, 1672, 1902, 1887, 1719, 2057, 1977, 1977, 1848, 1902, 1669, 2001, 2205, 1564, 1602, 2603, 1848, 2339, 1669, 1762, 1848, 1977, 1977, 2339, 1902, 1602, 1887, 1617, 1980, 1573, 1902, 1887, 1902, 1617, 1902, 1902, 1848, 1887, 1602, 1485, 1672, 2415, 1887, 1721, 1902, 1902, 1628, 1651, 1408, 2001, 2246, 1977, 1848, 1590, 1977, 1977, 1408, 2824, 1590, 1594, 2377, 1564, 1740, 1902, 1485, 1902, 2559, 1762, 1741, 1602, 2824, 1848, 1721, 1977, 1974, 1602, 1740, 2415, 1564, 1887, 1977, 1876, 1876, 2377, 2415, 1887, 1902, 1887, 1651, 1977, 2258, 1887, 1902, 1876, 1408, 2205, 1876, 2051, 2444, 2258, 1977, 2179, 1887, 1902, 1590, 2179, 1887, 2179, 1887, 2206, 2179, 1977, 1887, 1602, 1485, 1485, 1504, 1902, 2001, 1579, 2174, 1902, 1977, 1974, 2002, 3900, 2201, 2001, 1902, 1721, 1887, 1977, 2415, 1876, 1902, 1977, 2051, 2246, 1902, 2042, 2002, 1977, 1902, 1485, 1876, 1672, 2415, 1977, 1340, 1977, 2547, 2042, 1944, 2258, 1887, 1504, 1887, 1876, 1902, 2205, 2001, 1902, 2258, 1980, 2415, 1669, 1887, 2238, 2415, 1902, 1740, 1504, 1602, 1977, 1848, 1590, 1602, 1726, 2377, 1740, 1669, 2129, 1887, 2002, 2415, 1740, 2457, 1485, 2001, 1887, 1887, 1741, 1573, 1602, 1977, 2415, 1590, 2415, 1977, 1669, 1887, 1740, 1504, 1848, 1590, 1902, 1902, 1485, 2339, 1719, 1741, 2258, 1902, 1902, 2415, 1977, 2179, 1977, 2002, 1602, 2415, 1902, 2467, 1887, 1594, 2824, 1887, 1848, 1669, 2057, 1977, 1902, 1887, 3683, 2001, 1590, 1602, 2339, 1980, 1848, 2377, 1887, 1902, 1669, 1977, 1980, 1977, 2377, 1977, 1408, 1579, 1887, 2179, 1848, 2205, 1628, 1579, 1977, 1887, 1602, 1848, 3900, 2392, 1887, 1740, 2415, 1977, 1977, 1887, 1887, 2002, 1887, 2051, 1887, 1902, 1902, 1902, 1628, 1974, 1573, 2339, 1902, 1902, 2444, 2001, 1902, 1977, 1887, 2392, 1485, 1740, 1902, 1672, 1887, 1902, 2377, 1408, 1980, 1740, 2163, 1887, 1617, 2415, 1648, 1628, 1902, 2246, 1876, 1902, 2258, 2051, 1602, 1902, 1485, 1902, 1902, 1579, 1848, 1977, 1340, 1564, 1902, 1485, 1977, 1564, 1408, 1669, 1380, 1977, 2559, 1902, 1741, 1977, 1672, 1848, 1902, 1628, 2001, 1887, 1672, 1980, 1977, 2377, 1977, 1740, 2001, 2444, 2258, 1887, 2824, 1740, 1651, 1887, 1876, 1902, 2339, 2754, 2415, 1887, 1977, 2179, 1977, 1902, 1590, 1504, 1977, 2444, 1602, 1485, 1741, 2258, 1485, 1848, 1408, 2559, 1408, 1668, 1672, 1602, 1579, 1977, 1887, 1887, 1977, 2042, 1977, 1887, 1887, 1617, 2457, 1380, 1602, 1887, 1485, 2001, 2002, 1902, 1902, 1902, 1977, 1977, 2824, 1726, 2051, 1977, 2051, 1741, 1590, 1602, 1902, 1848, 2415, 1977, 1887, 1485, 1848, 2377, 1485, 2603, 1721, 1485, 1887, 1887, 1741, 1579, 2002, 2547, 2179, 1974, 1579, 2603, 2377, 1740, 1672, 1902, 1602, 1504, 2444, 1721, 1902, 1977, 1590, 2377, 1980, 1651, 2174, 1887, 1740, 1902, 1977, 1848, 2001, 2206, 1902, 2392, 1887, 1876, 2179, 1977, 1672, 1902, 1902, 1741, 2377, 1887, 2258, 2377, 1719, 2258, 1977, 1902, 1602, 2754, 1887, 1977, 1740, 1977, 1669, 2377, 1902, 1974, 1887, 1876, 1980, 1902, 2415, 2002, 1977, 1573, 1977, 2258, 1848, 1887, 1848, 1602, 1668, 1590, 1590, 1848, 1740, 1887, 1902, 1740, 1974, 1977, 1602, 2472, 1651, 1740, 1977, 1977, 1902, 1504, 1902, 1887, 2057, 1887, 1719, 1902, 1887, 2415, 1408, 1755, 1974, 1741, 1887, 1721, 1902, 1602, 1579, 2415, 1887, 2824, 2174, 1887, 1902, 2267, 2002, 1977, 2057, 1719, 1887, 1602, 1887, 1380, 2001, 1977, 1719, 1887, 1887, 1740, 1825, 2415, 1876, 1719, 1485, 1977, 2415, 1902, 1887, 1825, 1602, 1887, 1902, 2051, 1721, 1340, 1887, 1902, 1721, 1485, 3004, 1902, 1602, 1974, 1902, 2051, 1977, 1617, 1848, 1740, 1887, 1887, 1974, 2051, 1902, 1887, 4356, 2444, 1741, 1590, 1594, 1902, 1848, 1977, 1887, 1887, 1977, 1564, 1902, 1848, 1902, 1669, 1887, 1485, 1672, 1902, 2051, 1887, 1564, 1740, 1977, 1340, 1628, 1887, 1902, 1887, 1741, 2377, 1579, 1902, 1719, 1602, 2415, 1887, 1977, 1740, 1902, 1741, 2339, 1848, 1902, 1887, 1902, 2415, 1887, 1485, 1485, 1848, 2258, 1887, 1741, 2051, 1762, 1672, 1887, 1977, 2258, 2444, 1408, 1602, 1902, 1672, 1902, 2415, 1977, 1485, 2042, 1887, 1902, 2042, 1411, 1977, 2559, 1741, 1887, 1902, 1887, 1602, 1669, 1977, 90, 84, 80, 84, 80, 99, 80, 80, 96, 90, 3, 1, 99, 80, 80, 84, 99, 99, 2, 2, 78, 80, 99, 84, 80, 3, 80, 80, 80, 99, 92, 3, 80, 84, 99, 80, 84, 85, 1, 99, 2, 84, 80, 99, 98, 80, 84, 96, 99, 80, 90, 78, 84, 80, 90, 80, 86, 80, 84, 80, 99, 80, 85, 80, 80, 80, 80, 3, 2, 80, 84, 99, 80, 84, 2, 99, 99, 99, 99, 90, 80, 80, 96, 2, 84, 99, 99, 90, 99, 80, 88, 2, 80, 80, 90, 79, 78, 84, 2, 80, 80, 84, 3, 1, 84, 99, 89, 98, 80, 80, 90, 3, 80, 99, 80, 78, 2, 99, 99, 80, 80, 2, 80, 80, 99, 80, 99, 99, 80, 80, 90, 80, 78, 84, 3, 80, 80, 1, 80, 99, 99, 99, 80, 99, 80, 88, 3, 90, 3, 80, 85, 84, 3, 98, 80, 99, 84, 2, 80, 99, 99, 1, 2, 99, 96, 84, 99, 80, 1, 99, 99, 2, 99, 1, 84, 80, 90, 3, 2, 99, 99, 3, 85, 99, 3, 3, 99, 3, 80, 80, 99, 2, 99, 99, 80, 80, 99, 99, 2, 80, 2, 80, 86, 80, 3, 80, 2, 84, 3, 80, 80, 3, 84, 99, 80, 99, 80, 84, 99, 2, 80, 3, 80, 2, 80, 99, 2, 80, 90, 84, 92, 80, 80, 99, 80, 3, 84, 84, 80, 90, 80, 80, 80, 2, 2, 1, 98, 80, 80, 80, 99, 2, 1, 80, 80, 99, 80, 1, 80, 78, 90, 2, 80, 80, 90, 84, 99, 80, 3, 80, 90, 3, 84, 3, 3, 84, 98, 2, 80, 85, 84, 80, 2, 3, 84, 99, 80, 3, 84, 99, 84, 78, 3, 85, 99, 80, 80, 84, 99, 3, 84, 84, 90, 98, 2, 80, 99, 99, 80, 80, 80, 1, 3, 1, 80, 1, 1, 85, 3, 98, 80, 2, 87, 88, 90, 80, 99, 90, 90, 80, 80, 2, 99, 2, 80, 89, 80, 80, 80, 97, 85, 78, 80, 90, 90, 84, 99, 84, 80, 80, 80, 99, 80, 2, 1, 80, 80, 84, 80, 99, 84, 80, 80, 80, 80, 99, 90, 80, 94, 1, 3, 80, 80, 85, 80, 99, 99, 80, 85, 84, 80, 99, 85, 99, 96, 99, 82, 2, 80, 80, 90, 3, 99, 3, 80, 80, 1, 80, 97, 2, 99, 84, 80, 99, 85, 80, 3, 80, 80, 99, 99, 80, 2, 90, 3, 80, 80, 2, 86, 80, 2, 99, 99, 99, 80, 3, 84, 99, 3, 84, 2, 3, 84, 80, 84, 80, 99, 91, 2, 81, 84, 96, 99, 99, 99, 80, 78, 3, 99, 80, 99, 80, 84, 84, 98, 80, 80, 80, 3, 80, 80, 80, 99, 99, 80, 88, 98, 99, 80, 98, 80, 80, 84, 3, 99, 81, 2, 90, 84, 3, 98, 99, 84, 84, 84, 99, 3, 80, 99, 99, 92, 3, 1, 2, 99, 80, 2, 90, 99, 99, 1, 3, 80, 80, 80, 80, 99, 99, 80, 1, 80, 84, 2, 84, 80, 80, 2, 80, 90, 1, 99, 99, 84, 3, 80, 80, 85, 91, 85, 80, 80, 2, 80, 99, 84, 99, 2, 84, 99, 99, 3, 90, 1, 80, 98, 99, 3, 99, 2, 80, 84, 99, 80, 80, 96, 1, 80, 99, 90, 90, 99, 80, 90, 90, 3, 78, 1, 80, 99, 95, 85, 86, 1, 80, 80, 80, 80, 85, 84, 99, 80, 80, 80, 99, 90, 99, 99, 84, 99, 80, 80, 80, 99, 3, 84, 84, 99, 99, 90, 90, 99, 80, 80, 98, 99, 3, 96, 80, 84, 99, 99, 84, 80, 99, 78, 90, 80, 80, 95, 80, 84, 80, 80, 2, 99, 91, 80, 84, 80, 3, 80, 78, 99, 1, 96, 2, 3, 99, 2, 84, 99, 2, 90, 78, 84, 80, 85, 99, 3, 99, 99, 90, 80, 99, 80, 90, 90, 2, 3, 2, 80, 80, 80, 90, 99, 99, 80, 3, 3, 98, 80, 80, 80, 81, 89, 3, 99, 84, 3, 1, 99, 80, 90, 80, 81, 82, 83, 81, 85, 80, 90, 81, 84, 81, 89, 81, 83, 81, 82, 80, 90, 81, 83, 80, 90, 90, 84, 80, 80, 80, 81, 90, 85, 90, 81, 81, 80, 80, 81, 80, 88, 87, 90, 83, 80, 90, 81, 81, 90, 82, 90, 87, 81, 88, 80, 81, 80, 81, 90, 88, 89, 84, 80, 80, 83, 81, 90, 80, 81, 90, 88, 90, 90, 80, 90, 81, 82, 81, 80, 83, 90, 90, 81, 90, 80, 90, 90, 84, 90, 80, 90, 81, 83, 84, 81, 85, 82, 80, 90, 90, 90, 84, 80, 90, 90, 84, 90, 90, 90, 90, 82, 81, 90, 84, 81, 82, 81, 80, 90, 80, 84, 82, 90, 84, 90, 83, 81, 80, 80, 80, 90, 90, 80, 90, 90, 81, 83, 82, 90, 90, 81, 80, 80, 90, 80, 82, 85, 80, 90, 81, 80, 81, 82, 88, 90, 82, 88, 84, 83, 86, 90, 90, 82, 83, 81, 90, 80, 81, 84, 84, 90, 80, 81, 81, 81, 90, 87, 90, 80, 80, 82, 90, 90, 85, 82, 81]\n"
     ]
    }
   ],
   "source": [
    "z_score_outliers(df[\"age\"])"
   ]
  },
  {
   "cell_type": "code",
   "execution_count": null,
   "id": "cfc4b4ad",
   "metadata": {},
   "outputs": [],
   "source": []
  },
  {
   "cell_type": "markdown",
   "id": "cbe1d849",
   "metadata": {},
   "source": [
    "Feature Transformation"
   ]
  },
  {
   "cell_type": "code",
   "execution_count": 107,
   "id": "3c35e850",
   "metadata": {},
   "outputs": [],
   "source": [
    "from sklearn.preprocessing import LabelEncoder\n",
    "from sklearn.preprocessing import OneHotEncoder\n",
    "from sklearn.preprocessing import MinMaxScaler\n",
    "from sklearn.pipeline import Pipeline\n",
    "from sklearn.compose import ColumnTransformer\n",
    "from sklearn import metrics\n",
    "from sklearn.metrics import confusion_matrix, make_scorer\n",
    "from sklearn.model_selection import cross_validate"
   ]
  },
  {
   "cell_type": "code",
   "execution_count": 109,
   "id": "be9c46f2",
   "metadata": {},
   "outputs": [],
   "source": [
    "X, y = df.iloc[:,:-1], df.iloc[:,-1]\n",
    "categorical_index = X.select_dtypes(include=[\"object\"]).columns\n",
    "numerical_index = X.select_dtypes(include=[\"int64\", \"float64\"]).columns\n",
    "y = LabelEncoder().fit_transform(y)"
   ]
  },
  {
   "cell_type": "code",
   "execution_count": 110,
   "id": "9d1df84d",
   "metadata": {},
   "outputs": [
    {
     "name": "stdout",
     "output_type": "stream",
     "text": [
      "[ColumnTransformer] ... (1 of 2) Processing Categorical, total=   0.1s\n",
      "[ColumnTransformer] ..... (2 of 2) Processing Numerical, total=   0.0s\n",
      "<class 'scipy.sparse.csr.csr_matrix'>\n",
      "(48790, 105)\n"
     ]
    }
   ],
   "source": [
    "Feature_Transform = [('Categorical', OneHotEncoder(handle_unknown='ignore'), categorical_index), ('Numerical', MinMaxScaler(), numerical_index)]\n",
    "# OneHotEncoder with Scikit-Learn Pipeline\n",
    "\n",
    "transformer = ColumnTransformer(Feature_Transform, verbose=True)\n",
    "X = transformer.fit_transform(X)\n",
    "\n",
    "print(type(X))\n",
    "print(X.shape)"
   ]
  },
  {
   "cell_type": "code",
   "execution_count": 111,
   "id": "1372f27f",
   "metadata": {},
   "outputs": [],
   "source": [
    "#Quartile Range\n",
    "Q1 = df.quantile(0.25)\n",
    "Q3 = df.quantile(0.75)\n",
    "IQR = Q3-Q1"
   ]
  },
  {
   "cell_type": "code",
   "execution_count": 112,
   "id": "a0ab2500",
   "metadata": {},
   "outputs": [
    {
     "data": {
      "text/plain": [
       "age                    20.00\n",
       "fnlwgt             120051.25\n",
       "educational-num         3.00\n",
       "capital-gain            0.00\n",
       "capital-loss            0.00\n",
       "hours-per-week          5.00\n",
       "income                  0.00\n",
       "dtype: float64"
      ]
     },
     "execution_count": 112,
     "metadata": {},
     "output_type": "execute_result"
    }
   ],
   "source": [
    "IQR"
   ]
  },
  {
   "cell_type": "code",
   "execution_count": 113,
   "id": "43fd07ae",
   "metadata": {},
   "outputs": [
    {
     "data": {
      "text/plain": [
       "((48790, 15), (22510, 15))"
      ]
     },
     "execution_count": 113,
     "metadata": {},
     "output_type": "execute_result"
    }
   ],
   "source": [
    "df_out = df[~((df < (Q1 - (1.5 * IQR))) | (df > (Q3 + (1.5 * IQR)))).any(axis=1)]\n",
    "df.shape, df_out.shape"
   ]
  },
  {
   "cell_type": "markdown",
   "id": "24c09a91",
   "metadata": {},
   "source": [
    "Splitting Data into Train and Test"
   ]
  },
  {
   "cell_type": "code",
   "execution_count": 114,
   "id": "8feba72c",
   "metadata": {},
   "outputs": [
    {
     "data": {
      "text/plain": [
       "((34153, 105), (14637, 105), (34153,), (14637,))"
      ]
     },
     "execution_count": 114,
     "metadata": {},
     "output_type": "execute_result"
    }
   ],
   "source": [
    "from sklearn.model_selection import train_test_split\n",
    "X_train, X_test, y_train, y_test = train_test_split(X, y, test_size = .30)\n",
    "X_train.shape, X_test.shape, y_train.shape, y_test.shape "
   ]
  },
  {
   "cell_type": "code",
   "execution_count": 115,
   "id": "765c01cd",
   "metadata": {},
   "outputs": [],
   "source": [
    "#custom accuracy\n",
    "\n",
    "def accuracy(y_test, y_pred):\n",
    "    cf_matrix = confusion_matrix(y_test, y_pred)\n",
    "    N = sum(map(sum, cnf_matrix))\n",
    "    tp = cnf_matrix[1,1]\n",
    "    tn = cnf_matrix[0,0]\n",
    "    return round((tp+tn)/N)"
   ]
  },
  {
   "cell_type": "code",
   "execution_count": 132,
   "id": "d241f0a0",
   "metadata": {},
   "outputs": [],
   "source": [
    "#accuracy list and roc list to strore the output of each model \n",
    "acc = []\n",
    "acc2 = []\n",
    "acc3 = []\n",
    "acc4 = []\n",
    "acc5 = []\n",
    "acc6 = []\n",
    "acc7 = []\n",
    "acc8 = []\n",
    "acc9 = []"
   ]
  },
  {
   "cell_type": "code",
   "execution_count": null,
   "id": "7d319022",
   "metadata": {},
   "outputs": [],
   "source": []
  },
  {
   "cell_type": "markdown",
   "id": "41f6f806",
   "metadata": {},
   "source": [
    "Train and Test Models"
   ]
  },
  {
   "cell_type": "code",
   "execution_count": 121,
   "id": "05489742",
   "metadata": {},
   "outputs": [],
   "source": [
    "from sklearn.metrics import roc_auc_score, accuracy_score\n",
    "from sklearn.svm import SVC\n",
    "from sklearn.tree import DecisionTreeClassifier\n",
    "from sklearn.ensemble import RandomForestClassifier\n",
    "from sklearn.ensemble import BaggingClassifier\n",
    "from sklearn.ensemble import GradientBoostingClassifier\n",
    "from sklearn.neural_network import MLPClassifier\n",
    "from xgboost import XGBClassifier\n",
    "from sklearn.ensemble import AdaBoostClassifier"
   ]
  },
  {
   "cell_type": "markdown",
   "id": "e99a81af",
   "metadata": {},
   "source": [
    "Support Vector Machine (SVM)"
   ]
  },
  {
   "cell_type": "code",
   "execution_count": 122,
   "id": "2f6b3071",
   "metadata": {},
   "outputs": [
    {
     "name": "stdout",
     "output_type": "stream",
     "text": [
      "SVC(kernel='linear', probability='True')\n"
     ]
    }
   ],
   "source": [
    "model = SVC(gamma=\"scale\", kernel=\"linear\", probability=\"True\")\n",
    "print(model)"
   ]
  },
  {
   "cell_type": "code",
   "execution_count": 125,
   "id": "e4031660",
   "metadata": {},
   "outputs": [],
   "source": [
    "model.fit(X_train, y_train)\n",
    "y_pred = model.predict(X_test)\n",
    "y_pred_train = model.predict(X_train)\n",
    "ac = accuracy_score(y_test, y_pred)\n",
    "acc.append(ac)\n",
    "ac_train = accuracy_score(y_train, y_pred_train)"
   ]
  },
  {
   "cell_type": "code",
   "execution_count": 127,
   "id": "5a2f13a8",
   "metadata": {},
   "outputs": [
    {
     "name": "stdout",
     "output_type": "stream",
     "text": [
      "Training Set Accuracy :  0.8523409363745498\n",
      "-*-*-*-*-*-*-*-*-*-*-*-*-*-*-*-*-*-*-*-*-*-*-*-*-*-*\n",
      "Accuracy  0.853043656486985\n"
     ]
    }
   ],
   "source": [
    "print(\"Training Set Accuracy : \", ac_train)\n",
    "print(\"-*-*-*-*-*-*-*-*-*-*-*-*-*-*-*-*-*-*-*-*-*-*-*-*-*-*\")\n",
    "print(\"Accuracy \",ac)"
   ]
  },
  {
   "cell_type": "markdown",
   "id": "e0ca89dc",
   "metadata": {},
   "source": [
    "Decision Tree "
   ]
  },
  {
   "cell_type": "code",
   "execution_count": 131,
   "id": "1a85fa22",
   "metadata": {},
   "outputs": [
    {
     "name": "stdout",
     "output_type": "stream",
     "text": [
      "DecisionTreeClassifier()\n"
     ]
    }
   ],
   "source": [
    "model_2 = DecisionTreeClassifier()\n",
    "print(model_2)"
   ]
  },
  {
   "cell_type": "code",
   "execution_count": 136,
   "id": "64ef8d81",
   "metadata": {},
   "outputs": [],
   "source": [
    "model_2.fit(X_train, y_train)\n",
    "y_pred = model_2.predict(X_test)\n",
    "y_pred_train = model_2.predict(X_train)\n",
    "acc = accuracy_score(y_test, y_pred)\n",
    "acc2.append(acc)\n",
    "ac_train = accuracy_score(y_train, y_pred_train)\n"
   ]
  },
  {
   "cell_type": "code",
   "execution_count": 137,
   "id": "cc575ae5",
   "metadata": {},
   "outputs": [
    {
     "name": "stdout",
     "output_type": "stream",
     "text": [
      "Training Set Accuracy:  0.9999121599859456\n",
      "-*-*-*-*-*-*-*-*-*-*-*-*-*-*-*-*-*-*-*-*-*-*-*-*-*-*\n",
      "Accuracy:  [0.8152626904420305, 0.8152626904420305]\n"
     ]
    }
   ],
   "source": [
    "print(\"Training Set Accuracy: \", ac_train)\n",
    "print(\"-*-*-*-*-*-*-*-*-*-*-*-*-*-*-*-*-*-*-*-*-*-*-*-*-*-*\")\n",
    "print(\"Accuracy: \", acc2)"
   ]
  },
  {
   "cell_type": "markdown",
   "id": "6a0c65d5",
   "metadata": {},
   "source": [
    "Random Forest"
   ]
  },
  {
   "cell_type": "code",
   "execution_count": 138,
   "id": "36d3032d",
   "metadata": {},
   "outputs": [
    {
     "name": "stdout",
     "output_type": "stream",
     "text": [
      "RandomForestClassifier()\n"
     ]
    }
   ],
   "source": [
    "model_3 = RandomForestClassifier(n_estimators = 100)\n",
    "print(model_3)"
   ]
  },
  {
   "cell_type": "code",
   "execution_count": 139,
   "id": "14553b68",
   "metadata": {},
   "outputs": [],
   "source": [
    "model_3.fit(X_train, y_train)\n",
    "y_pred = model_3.predict(X_test)\n",
    "y_pred_train = model_3.predict(X_train)\n",
    "acc = accuracy_score(y_test, y_pred)\n",
    "acc3.append(acc)\n",
    "ac_train = accuracy_score(y_train, y_pred_train)"
   ]
  },
  {
   "cell_type": "code",
   "execution_count": 140,
   "id": "f52011a4",
   "metadata": {},
   "outputs": [
    {
     "name": "stdout",
     "output_type": "stream",
     "text": [
      "Training Set Accuracy:  0.9998828799812608\n",
      "-*-*-*-*-*-*-*-*-*-*-*-*-*-*-*-*-*-*-*-*-*-*-*-*-*-*\n",
      "Accuracy:  [0.8526337364213978]\n"
     ]
    }
   ],
   "source": [
    "print(\"Training Set Accuracy: \", ac_train)\n",
    "print(\"-*-*-*-*-*-*-*-*-*-*-*-*-*-*-*-*-*-*-*-*-*-*-*-*-*-*\")\n",
    "print(\"Accuracy: \", acc3)"
   ]
  },
  {
   "cell_type": "markdown",
   "id": "e1905dad",
   "metadata": {},
   "source": [
    "AdaBoost"
   ]
  },
  {
   "cell_type": "code",
   "execution_count": 141,
   "id": "f6d3e093",
   "metadata": {},
   "outputs": [
    {
     "name": "stdout",
     "output_type": "stream",
     "text": [
      "AdaBoostClassifier()\n"
     ]
    }
   ],
   "source": [
    "model_4 = AdaBoostClassifier()\n",
    "print(model_4)"
   ]
  },
  {
   "cell_type": "code",
   "execution_count": 143,
   "id": "6bdefe77",
   "metadata": {},
   "outputs": [],
   "source": [
    "model_4.fit(X_train, y_train)\n",
    "y_pred = model_4.predict(X_test)\n",
    "y_predict_train = model_4.predict(X_train)\n",
    "acc = accuracy_score(y_test, y_pred)\n",
    "acc4.append(acc)\n",
    "ac_train = accuracy_score(y_train, y_pred_train)"
   ]
  },
  {
   "cell_type": "code",
   "execution_count": 144,
   "id": "d5906d0d",
   "metadata": {},
   "outputs": [
    {
     "name": "stdout",
     "output_type": "stream",
     "text": [
      "Training Set Accuracy:  0.9998828799812608\n",
      "-*-*-*-*-*-*-*-*-*-*-*-*-*-*-*-*-*-*-*-*-*-*-*-*-*-*\n",
      "Accuracy:  [0.8641798182687709]\n"
     ]
    }
   ],
   "source": [
    "print(\"Training Set Accuracy: \", ac_train)\n",
    "print(\"-*-*-*-*-*-*-*-*-*-*-*-*-*-*-*-*-*-*-*-*-*-*-*-*-*-*\")\n",
    "print(\"Accuracy: \", acc4)"
   ]
  },
  {
   "cell_type": "markdown",
   "id": "e9484e67",
   "metadata": {},
   "source": [
    "Bagging Classifier (n_jobs = 1)"
   ]
  },
  {
   "cell_type": "code",
   "execution_count": 149,
   "id": "2570a2e3",
   "metadata": {},
   "outputs": [
    {
     "name": "stdout",
     "output_type": "stream",
     "text": [
      "BaggingClassifier(n_estimators=100)\n"
     ]
    }
   ],
   "source": [
    "model_5 = BaggingClassifier(n_estimators=100)\n",
    "print(model_5)"
   ]
  },
  {
   "cell_type": "code",
   "execution_count": 150,
   "id": "b5afa020",
   "metadata": {},
   "outputs": [],
   "source": [
    "model_5.fit(X_train, y_train)\n",
    "y_pred = model_5.predict(X_test)\n",
    "y_pred_train = model_5.predict(X_train)\n",
    "ac = accuracy_score(y_test, y_pred)\n",
    "acc5.append(ac)\n",
    "ac_train = accuracy_score(y_train, y_pred_train)"
   ]
  },
  {
   "cell_type": "code",
   "execution_count": 151,
   "id": "2e8280ce",
   "metadata": {},
   "outputs": [
    {
     "name": "stdout",
     "output_type": "stream",
     "text": [
      "Training Set Accuracy:  0.999853599976576\n",
      "-*-*-*-*-*-*-*-*-*-*-*-*-*-*-*-*-*-*-*-*-*-*-*-*-*-*\n",
      "Accuracy:  [0.8551615768258523]\n"
     ]
    }
   ],
   "source": [
    "print(\"Training Set Accuracy: \", ac_train)\n",
    "print(\"-*-*-*-*-*-*-*-*-*-*-*-*-*-*-*-*-*-*-*-*-*-*-*-*-*-*\")\n",
    "print(\"Accuracy: \", acc5)"
   ]
  },
  {
   "cell_type": "markdown",
   "id": "7b5c899b",
   "metadata": {},
   "source": [
    "Gradient Boosting Classifier"
   ]
  },
  {
   "cell_type": "code",
   "execution_count": 152,
   "id": "af834008",
   "metadata": {},
   "outputs": [
    {
     "name": "stdout",
     "output_type": "stream",
     "text": [
      "GradientBoostingClassifier()\n"
     ]
    }
   ],
   "source": [
    "model_6 = GradientBoostingClassifier(n_estimators=100)\n",
    "print(model_6)"
   ]
  },
  {
   "cell_type": "code",
   "execution_count": 153,
   "id": "0b7f9173",
   "metadata": {},
   "outputs": [],
   "source": [
    "model_6.fit(X_train, y_train)\n",
    "y_pred = model_6.predict(X_test)\n",
    "y_pred_train = model_6.predict(X_train)\n",
    "ac = accuracy_score(y_test, y_pred)\n",
    "acc6.append(ac)\n",
    "ac_train = accuracy_score(y_train, y_pred_train)"
   ]
  },
  {
   "cell_type": "code",
   "execution_count": 154,
   "id": "a22101bf",
   "metadata": {},
   "outputs": [
    {
     "name": "stdout",
     "output_type": "stream",
     "text": [
      "Training Set Accuracy:  0.8697625391620063\n",
      "-*-*-*-*-*-*-*-*-*-*-*-*-*-*-*-*-*-*-*-*-*-*-*-*-*-*\n",
      "Accuracy:  [0.8707385393181662]\n"
     ]
    }
   ],
   "source": [
    "print(\"Training Set Accuracy: \", ac_train)\n",
    "print(\"-*-*-*-*-*-*-*-*-*-*-*-*-*-*-*-*-*-*-*-*-*-*-*-*-*-*\")\n",
    "print(\"Accuracy: \", acc6)"
   ]
  },
  {
   "cell_type": "markdown",
   "id": "300a7ea7",
   "metadata": {},
   "source": [
    "MLPClassifier"
   ]
  },
  {
   "cell_type": "code",
   "execution_count": 156,
   "id": "39e3f308",
   "metadata": {},
   "outputs": [
    {
     "name": "stdout",
     "output_type": "stream",
     "text": [
      "MLPClassifier(early_stopping=True)\n"
     ]
    }
   ],
   "source": [
    "model_7 = MLPClassifier(early_stopping=True)\n",
    "print(model_7)"
   ]
  },
  {
   "cell_type": "code",
   "execution_count": 159,
   "id": "ae3c9c25",
   "metadata": {},
   "outputs": [],
   "source": [
    "model_7.fit(X_train, y_train)\n",
    "y_pred = model_7.predict(X_test)\n",
    "y_pred_train = model_7.predict(X_train)\n",
    "ac = accuracy_score(y_test, y_pred)\n",
    "acc7.append(ac)\n",
    "ac_train = accuracy_score(y_train, y_pred_train)"
   ]
  },
  {
   "cell_type": "code",
   "execution_count": 160,
   "id": "62342855",
   "metadata": {},
   "outputs": [
    {
     "name": "stdout",
     "output_type": "stream",
     "text": [
      "Training Set Accuracy:  0.8596902175504348\n",
      "-*-*-*-*-*-*-*-*-*-*-*-*-*-*-*-*-*-*-*-*-*-*-*-*-*-*\n",
      "Accuracy:  [0.8511990161918426]\n"
     ]
    }
   ],
   "source": [
    "print(\"Training Set Accuracy: \", ac_train)\n",
    "print(\"-*-*-*-*-*-*-*-*-*-*-*-*-*-*-*-*-*-*-*-*-*-*-*-*-*-*\")\n",
    "print(\"Accuracy: \", acc7)"
   ]
  },
  {
   "cell_type": "markdown",
   "id": "cc2876c7",
   "metadata": {},
   "source": [
    "Comparison Table"
   ]
  },
  {
   "cell_type": "code",
   "execution_count": 164,
   "id": "4d9fa578",
   "metadata": {},
   "outputs": [
    {
     "name": "stdout",
     "output_type": "stream",
     "text": [
      "Collecting tabulate\n",
      "  Downloading tabulate-0.9.0-py3-none-any.whl (35 kB)\n",
      "Installing collected packages: tabulate\n",
      "Successfully installed tabulate-0.9.0\n",
      "Note: you may need to restart the kernel to use updated packages.\n"
     ]
    }
   ],
   "source": [
    "pip install tabulate"
   ]
  },
  {
   "cell_type": "code",
   "execution_count": 165,
   "id": "75de1f22",
   "metadata": {},
   "outputs": [],
   "source": [
    "from tabulate import tabulate"
   ]
  },
  {
   "cell_type": "code",
   "execution_count": 169,
   "id": "877189a9",
   "metadata": {},
   "outputs": [
    {
     "name": "stdout",
     "output_type": "stream",
     "text": [
      "  S.No.   Model                          Training Set Accuracy      Accuracy\n",
      "-------  ----------------------------  -----------------------  ------------\n",
      "      1  Support Vector Machine                       0.852341      0.853044\n",
      "      2  Decision Tree                                0.999912      0.815263\n",
      "      3  Random Forest                                0.999883      0.852634\n",
      "      4  AdaBoost                                     0.999883      0.86418\n",
      "      5  Bagging Classifier                           0.999854      0.855162\n",
      "      6  Gradient Boosting Classifier                 0.869763      0.870739\n",
      "      7  MLP Classifier                               0.85969       0.851199\n"
     ]
    }
   ],
   "source": [
    "data = [[1, \"Support Vector Machine\", 0.8523409363745498, 0.853043656486985],\n",
    "       [2, \"Decision Tree\", 0.9999121599859456, 0.8152626904420305],\n",
    "       [3, \"Random Forest\", 0.9998828799812608, 0.8526337364213978],\n",
    "       [4, \"AdaBoost\", 0.9998828799812608, 0.8641798182687709],\n",
    "       [5, \"Bagging Classifier\", 0.999853599976576, 0.8551615768258523],\n",
    "       [6, \"Gradient Boosting Classifier\", 0.8697625391620063, 0.8707385393181662],\n",
    "       [7, \"MLP Classifier\", 0.8596902175504348, 0.8511990161918426]]\n",
    "\n",
    "print(tabulate(data, headers=[\"S.No.\", \" Model\", \"Training Set Accuracy\", \"  Accuracy\"]))"
   ]
  },
  {
   "cell_type": "code",
   "execution_count": null,
   "id": "576ce48d",
   "metadata": {},
   "outputs": [],
   "source": []
  }
 ],
 "metadata": {
  "kernelspec": {
   "display_name": "Python 3 (ipykernel)",
   "language": "python",
   "name": "python3"
  },
  "language_info": {
   "codemirror_mode": {
    "name": "ipython",
    "version": 3
   },
   "file_extension": ".py",
   "mimetype": "text/x-python",
   "name": "python",
   "nbconvert_exporter": "python",
   "pygments_lexer": "ipython3",
   "version": "3.9.7"
  }
 },
 "nbformat": 4,
 "nbformat_minor": 5
}
